{
 "cells": [
  {
   "cell_type": "markdown",
   "metadata": {},
   "source": [
    "Belgian Fieldstone\n",
    "==================\n",
    "\n",
    "This sample is a micro-CT scan of a 4 mm diameter glauconite-rich sandstone sample, by Tom Bultreys and Wesley De Boever, \n",
    "acquired with 4.98 micrometer voxel length at Ghent University's Centre for X-ray Tomography\n",
    "and hosted at [Digital Rocks Portal](https://www.digitalrocksportal.org/).\n",
    "\n",
    ".. note::\n",
    "   If you plan to use this data, please remember to [cite the data](https://www.digitalrocksportal.org/projects/297/cite/)\n",
    "   and the\n",
    "   [related publications](https://www.digitalrocksportal.org/projects/297/publications/).\n",
    "\n",
    "\n",
    "\n",
    "Go to the Belgian Fieldstone project in the Digital Rocks Portal:\n",
    "https://www.digitalrocksportal.org/projects/297. Click on `Micro-CT scan`.\n",
    "\n",
    "<img src=\"import_belgian_fieldstone-img1.jpg\" width=\"500\"/>\n",
    "\n",
    "   \n",
    "Pay attention to the metadata! We'll need it later. An extra piece of information: this is [ImageJ/Fiji](https://fiji.sc/) exported raw data, so it is in Fortran file order.\n",
    "Click `Action->Download File`.\n",
    "\n",
    "<img src=\"import_belgian_fieldstone-img2.jpg\" width=\"250\"/>\n",
    "\n",
    "Let's import the raw file into a RockVerse voxel image. In this example we'll use 8 chunks, halving the total number of voxels in each direction:"
   ]
  },
  {
   "cell_type": "code",
   "execution_count": 1,
   "metadata": {},
   "outputs": [
    {
     "name": "stderr",
     "output_type": "stream",
     "text": [
      "[2024-12-17 13:55:22] Importing raw file: 100%|>>>>>>>>>>| 8/8 [00:18<00:00,  2.28s/chunk]\n"
     ]
    }
   ],
   "source": [
    "import rockverse as rv\n",
    "\n",
    "belgian_fieldstone_data = rv.digitalrock.voxel_image.import_raw(\n",
    "    #rawfile='/MyDownloads/Fieldstone_1000x1000x861_16b.raw', #<- Original file path\n",
    "    rawfile=r'C:\\Users\\GOB7\\Downloads\\Rocha digital\\Belgian Fieldstone\\Fieldstone_1000x1000x861_16b.raw',\n",
    "    store='/estgf_dados/P_D/GOB7/BelgianFieldstone/src.zarr', #<- path where to put the voxel image\n",
    "    shape=(1000, 1000, 861),         #<- From metadata\n",
    "    dtype='>u2',                     #<- From metadata, big-endian 16-bit unsigned integer\n",
    "    offset=0,                        #<- From metadata\n",
    "    voxel_length=(4.98, 4.98, 4.98), #<- From metadata\n",
    "    voxel_unit='um',                 #<- From metadata\n",
    "    raw_file_order='F',              #<- Fortran file order\n",
    "    chunks=(500, 500, 431),          #<- Our choice of chunk size\n",
    "    overwrite=True                   #<- Overwrite if file exists in disk\n",
    "    )"
   ]
  },
  {
   "cell_type": "markdown",
   "metadata": {},
   "source": [
    "That's it! You can start working with this data. Let's do some simple visualization:"
   ]
  },
  {
   "cell_type": "code",
   "execution_count": 2,
   "metadata": {},
   "outputs": [
    {
     "data": {
      "text/html": [
       "<table class=\"zarr-info\"><tbody><tr><th style=\"text-align: left\">Type</th><td style=\"text-align: left\">rockverse.digitalrock.voxel_image.voxel_image.VoxelImage</td></tr><tr><th style=\"text-align: left\">Data type</th><td style=\"text-align: left\">uint16</td></tr><tr><th style=\"text-align: left\">Shape</th><td style=\"text-align: left\">(1000, 1000, 861)</td></tr><tr><th style=\"text-align: left\">Chunk shape</th><td style=\"text-align: left\">(500, 500, 431)</td></tr><tr><th style=\"text-align: left\">Order</th><td style=\"text-align: left\">C</td></tr><tr><th style=\"text-align: left\">Read-only</th><td style=\"text-align: left\">False</td></tr><tr><th style=\"text-align: left\">Compressor</th><td style=\"text-align: left\">Blosc(cname='lz4', clevel=5, shuffle=SHUFFLE, blocksize=0)</td></tr><tr><th style=\"text-align: left\">Store type</th><td style=\"text-align: left\">zarr.storage.DirectoryStore</td></tr><tr><th style=\"text-align: left\">No. bytes</th><td style=\"text-align: left\">1722000000 (1.6G)</td></tr><tr><th style=\"text-align: left\">No. bytes stored</th><td style=\"text-align: left\">1323693921 (1.2G)</td></tr><tr><th style=\"text-align: left\">Storage ratio</th><td style=\"text-align: left\">1.3</td></tr><tr><th style=\"text-align: left\">Chunks initialized</th><td style=\"text-align: left\">8/8</td></tr></tbody></table>"
      ],
      "text/plain": [
       "Type               : rockverse.digitalrock.voxel_image.voxel_image.VoxelImage\n",
       "Data type          : uint16\n",
       "Shape              : (1000, 1000, 861)\n",
       "Chunk shape        : (500, 500, 431)\n",
       "Order              : C\n",
       "Read-only          : False\n",
       "Compressor         : Blosc(cname='lz4', clevel=5, shuffle=SHUFFLE, blocksize=0)\n",
       "Store type         : zarr.storage.DirectoryStore\n",
       "No. bytes          : 1722000000 (1.6G)\n",
       "No. bytes stored   : 1323693921 (1.2G)\n",
       "Storage ratio      : 1.3\n",
       "Chunks initialized : 8/8"
      ]
     },
     "execution_count": 2,
     "metadata": {},
     "output_type": "execute_result"
    }
   ],
   "source": [
    "belgian_fieldstone_data.info"
   ]
  },
  {
   "cell_type": "code",
   "execution_count": 3,
   "metadata": {},
   "outputs": [
    {
     "data": {
      "text/html": [
       "<table class=\"zarr-info\"><tbody><tr><th style=\"text-align: left\">Type</th><td style=\"text-align: left\">rockverse.digitalrock.voxel_image.voxel_image.VoxelImage</td></tr><tr><th style=\"text-align: left\">Data type</th><td style=\"text-align: left\">int64</td></tr><tr><th style=\"text-align: left\">Shape</th><td style=\"text-align: left\">(100, 100, 100)</td></tr><tr><th style=\"text-align: left\">Chunk shape</th><td style=\"text-align: left\">(10, 10, 10)</td></tr><tr><th style=\"text-align: left\">Order</th><td style=\"text-align: left\">C</td></tr><tr><th style=\"text-align: left\">Read-only</th><td style=\"text-align: left\">False</td></tr><tr><th style=\"text-align: left\">Compressor</th><td style=\"text-align: left\">Blosc(cname='lz4', clevel=5, shuffle=SHUFFLE, blocksize=0)</td></tr><tr><th style=\"text-align: left\">Store type</th><td style=\"text-align: left\">zarr.storage.KVStore</td></tr><tr><th style=\"text-align: left\">No. bytes</th><td style=\"text-align: left\">8000000 (7.6M)</td></tr><tr><th style=\"text-align: left\">No. bytes stored</th><td style=\"text-align: left\">616</td></tr><tr><th style=\"text-align: left\">Storage ratio</th><td style=\"text-align: left\">12987.0</td></tr><tr><th style=\"text-align: left\">Chunks initialized</th><td style=\"text-align: left\">0/1000</td></tr></tbody></table>"
      ],
      "text/plain": [
       "Type               : rockverse.digitalrock.voxel_image.voxel_image.VoxelImage\n",
       "Data type          : int64\n",
       "Shape              : (100, 100, 100)\n",
       "Chunk shape        : (10, 10, 10)\n",
       "Order              : C\n",
       "Read-only          : False\n",
       "Compressor         : Blosc(cname='lz4', clevel=5, shuffle=SHUFFLE, blocksize=0)\n",
       "Store type         : zarr.storage.KVStore\n",
       "No. bytes          : 8000000 (7.6M)\n",
       "No. bytes stored   : 616\n",
       "Storage ratio      : 12987.0\n",
       "Chunks initialized : 0/1000"
      ]
     },
     "execution_count": 3,
     "metadata": {},
     "output_type": "execute_result"
    }
   ],
   "source": [
    "a=rv.digitalrock.voxel_image.zeros((100,100,100), chunks=(10,10,10), dtype='int')\n",
    "a.info"
   ]
  },
  {
   "cell_type": "code",
   "execution_count": 4,
   "metadata": {},
   "outputs": [],
   "source": [
    "#drp.plot.orthogonal_slices(belgian_fieldstone_data, anchor=(2720, 2530, 2200), planes=('xy',))\n"
   ]
  },
  {
   "cell_type": "markdown",
   "metadata": {},
   "source": [
    "Related tutorials\n",
    "-----------------\n",
    "\n",
    "Below are some more tutorials using this data.\n",
    "\n",
    "```\n",
    ".. nbgallery::\n",
    "   ../plot_f\n",
    "```"
   ]
  }
 ],
 "metadata": {
  "kernelspec": {
   "display_name": "rockverse",
   "language": "python",
   "name": "python3"
  },
  "language_info": {
   "codemirror_mode": {
    "name": "ipython",
    "version": 3
   },
   "file_extension": ".py",
   "mimetype": "text/x-python",
   "name": "python",
   "nbconvert_exporter": "python",
   "pygments_lexer": "ipython3",
   "version": "3.12.7"
  }
 },
 "nbformat": 4,
 "nbformat_minor": 2
}
