{
 "cells": [
  {
   "cell_type": "markdown",
   "metadata": {},
   "source": [
    "Using the RockVerse logo\n",
    "========================\n",
    "\n",
    "You are encouraged to incorporate the RockVerse logo on websites, presentations, and elsewhere to indicate the use of RockVerse in your work. \n",
    "The RockVerse logo comes in three different models, each with options for white and black backgrounds (a total of six variations).\n",
    "\n",
    "Use the ``make_logo`` function to generate the logo as a Matplotlib figure, which can be saved in various formats and resolutions.\n",
    "This will guarantee the right proportions and margins.\n",
    "\n",
    "Model 1\n",
    "-------\n",
    "\n",
    "Model 1, the \"vertical mode\", builds the rock model with \"RockVerse\" written below."
   ]
  },
  {
   "cell_type": "code",
   "execution_count": 1,
   "metadata": {},
   "outputs": [],
   "source": [
    "#For interactive plotting:\n",
    "%matplotlib qt\n",
    "\n",
    "import rockverse as rv\n",
    "\n",
    "#Call the make_logo function for model 1\n",
    "fig1w = rv.make_logo(model=1, facecolor='white')\n",
    "fig1b = rv.make_logo(model=1, facecolor='black')\n",
    "\n",
    "#Outputs are Matplotlib figures, save it to disk with desired format and resolution\n",
    "fig1w.savefig('rockverse_logo_model1_white.png', dpi=300)\n",
    "fig1b.savefig('rockverse_logo_model1_black.png', dpi=300)"
   ]
  },
  {
   "cell_type": "markdown",
   "metadata": {},
   "source": [
    "This generates the two images below with white and black background, respectively.\n",
    "Notice how some of the colors change based on the chosen background color.\n",
    "<style>\n",
    "    img {\n",
    "        border: 20px solid transparent;\n",
    "    }\n",
    "</style>\n",
    "<div style=\"text-align:center\">\n",
    "<img src=\"rockverse_logo_model1_white.png\" width=\"300\"/>\n",
    "<img src=\"rockverse_logo_model1_black.png\" width=\"300\"/>\n",
    "</div>\n",
    "\n",
    "Model 2\n",
    "-------\n",
    "\n",
    "Model 2 is just model 1 without the writing:"
   ]
  },
  {
   "cell_type": "code",
   "execution_count": 2,
   "metadata": {},
   "outputs": [],
   "source": [
    "fig2w = rv.make_logo(model=2, facecolor='white')\n",
    "fig2b = rv.make_logo(model=2, facecolor='black')\n",
    "fig2w.savefig('rockverse_logo_model2_white.png', dpi=300)\n",
    "fig2b.savefig('rockverse_logo_model2_black.png', dpi=300)"
   ]
  },
  {
   "cell_type": "markdown",
   "metadata": {},
   "source": [
    "<style>\n",
    "    img {\n",
    "        border: 20px solid transparent;\n",
    "    }\n",
    "</style>\n",
    "<div style=\"text-align:center\">\n",
    "<img src=\"rockverse_logo_model2_white.png\" width=\"300\"/>\n",
    "<img src=\"rockverse_logo_model2_black.png\" width=\"300\"/>\n",
    "</div>\n",
    "\n",
    "Model 3\n",
    "-------\n",
    "\n",
    "Model 3 is the \"horizontal mode\", placing more emphasis on the library's name."
   ]
  },
  {
   "cell_type": "code",
   "execution_count": 3,
   "metadata": {},
   "outputs": [],
   "source": [
    "fig3w = rv.make_logo(model=3, facecolor='white')\n",
    "fig3b = rv.make_logo(model=3, facecolor='black')\n",
    "fig3w.savefig('rockverse_logo_model3_white.png', dpi=300)\n",
    "fig3b.savefig('rockverse_logo_model3_black.png', dpi=300)"
   ]
  },
  {
   "cell_type": "markdown",
   "metadata": {},
   "source": [
    "<style>\n",
    "    img {\n",
    "        border: 20px solid transparent;\n",
    "    }\n",
    "</style>\n",
    "<div style=\"text-align:center\">\n",
    "<img src=\"rockverse_logo_model3_white.png\" width=\"400\"/>\n",
    "<img src=\"rockverse_logo_model3_black.png\" width=\"400\"/>\n",
    "</div>\n",
    "\n",
    "Using transparent background\n",
    "----------------------------\n",
    "\n",
    "If backgrounds are light or dark gray, you have the option of saving the images with transparent background, giving a nice touch to the final design. \n",
    "\n",
    "Below is a comparison between the white and transparent face colors over a light gray background:"
   ]
  },
  {
   "cell_type": "code",
   "execution_count": 4,
   "metadata": {},
   "outputs": [],
   "source": [
    "fig1w.savefig('rockverse_logo_model1_white_transparent.png', dpi=300, transparent=True)\n",
    "fig2w.savefig('rockverse_logo_model2_white_transparent.png', dpi=300, transparent=True)\n",
    "fig3w.savefig('rockverse_logo_model3_white_transparent.png', dpi=300, transparent=True)"
   ]
  },
  {
   "cell_type": "markdown",
   "metadata": {},
   "source": [
    "<style>\n",
    "    .lightgray {\n",
    "        background-color: #EEEEEE;\n",
    "        border-width: 20px solid transparent;\n",
    "    }\n",
    "    img {\n",
    "        border: 20px solid transparent;\n",
    "    }\n",
    "</style>\n",
    "\n",
    "<div class=\"lightgray\" style=\"text-align:center\">\n",
    "<br>\n",
    "<img src=\"rockverse_logo_model1_white.png\" width=\"300\"/>\n",
    "<img src=\"rockverse_logo_model1_white_transparent.png\" width=\"300\"/>\n",
    "<br>\n",
    "</div>\n",
    "\n",
    "Similarly, here is the comparison for the dark mode on a dark gray background:"
   ]
  },
  {
   "cell_type": "code",
   "execution_count": 5,
   "metadata": {},
   "outputs": [],
   "source": [
    "fig1b.savefig('rockverse_logo_model1_black_transparent.png', dpi=300, transparent=True)\n",
    "fig2b.savefig('rockverse_logo_model2_black_transparent.png', dpi=300, transparent=True)\n",
    "fig3b.savefig('rockverse_logo_model3_black_transparent.png', dpi=300, transparent=True)"
   ]
  },
  {
   "cell_type": "markdown",
   "metadata": {},
   "source": [
    "<style>\n",
    "    .darkgray {\n",
    "        background-color: #202020;\n",
    "        border-width: 50px solid transparent;\n",
    "    }\n",
    "    img {\n",
    "        border: 20px solid transparent;\n",
    "    }    \n",
    "</style>\n",
    "\n",
    "<div class=\"darkgray\" style=\"text-align:center\">\n",
    "<br>\n",
    "<img src=\"rockverse_logo_model1_black.png\" width=\"300\"/>\n",
    "<img src=\"rockverse_logo_model1_black_transparent.png\" width=\"300\"/>\n",
    "<br>\n",
    "</div>\n"
   ]
  },
  {
   "cell_type": "markdown",
   "metadata": {},
   "source": [
    "\n",
    "<style>\n",
    "    .dark {\n",
    "        background-color: #9D6666;\n",
    "        border-width: 20px solid transparent;\n",
    "    }    \n",
    "    .lightorange {\n",
    "        background-color: #F0BA68;\n",
    "        border-width: 20px solid transparent;\n",
    "    }\n",
    "    img {\n",
    "        border: 20px solid transparent;\n",
    "    }\n",
    "    .danger {\n",
    "        background-color: #ffdddd;\n",
    "        border-left: 6px solid #f44336;\n",
    "        border-top: 10px solid #ffdddd;\n",
    "        border-bottom: 10px solid transparent;\n",
    "        color: #000000;\n",
    "    }\n",
    "</style>\n",
    "\n",
    "\n",
    "<div class=\"danger\">\n",
    "  <strong>Note!</strong> \n",
    "  Please be careful not to use a transparent face color over colored backgrounds, which can lead to poor contrast between the logo and the background.\n",
    "  In these cases, prefer white face color.\n",
    "</div>\n",
    "\n",
    "<br>\n",
    "\n",
    "<div class=\"lightorange\" style=\"text-align:center\">\n",
    "<img src=\"rockverse_logo_model1_white.png\" width=\"300\"/>\n",
    "<img src=\"rockverse_logo_model1_white_transparent_X.png\" width=\"300\"/>\n",
    "<img src=\"rockverse_logo_model1_black_transparent_X.png\" width=\"300\"/>\n",
    "</div>\n",
    "\n",
    "<br>\n",
    "\n",
    "<div class=\"dark\" style=\"text-align:center\">\n",
    "<img src=\"rockverse_logo_model1_white.png\" width=\"300\"/>\n",
    "<img src=\"rockverse_logo_model1_white_transparent_X.png\" width=\"300\"/>\n",
    "<img src=\"rockverse_logo_model1_black_transparent_X.png\" width=\"300\"/>\n",
    "</div>"
   ]
  },
  {
   "cell_type": "markdown",
   "metadata": {},
   "source": [
    "Download\n",
    "--------\n",
    "\n",
    "Below you can download the images generated in these examples:\n",
    "\n",
    "- [rockverse_logo_model1_white.png](rockverse_logo_model1_white.png)\n",
    "\n",
    "- [rockverse_logo_model1_white_transparent.png](rockverse_logo_model1_white_transparent.png)\n",
    "\n",
    "- [rockverse_logo_model1_black.png](rockverse_logo_model1_black.png)\n",
    "\n",
    "- [rockverse_logo_model1_black_transparent.png](rockverse_logo_model1_black_transparent.png)\n",
    "\n",
    "- [rockverse_logo_model2_white.png](rockverse_logo_model2_white.png)\n",
    "\n",
    "- [rockverse_logo_model2_white_transparent.png](rockverse_logo_model2_white_transparent.png)\n",
    "\n",
    "- [rockverse_logo_model2_black.png](rockverse_logo_model2_black.png)\n",
    "\n",
    "- [rockverse_logo_model2_black_transparent.png](rockverse_logo_model2_black_transparent.png)\n",
    "\n",
    "- [rockverse_logo_model3_white.png](rockverse_logo_model3_white.png)\n",
    "\n",
    "- [rockverse_logo_model3_white_transparent.png](rockverse_logo_model3_white_transparent.png)\n",
    "\n",
    "- [rockverse_logo_model3_black.png](rockverse_logo_model3_black.png)\n",
    "\n",
    "- [rockverse_logo_model3_black_transparent.png](rockverse_logo_model3_black_transparent.png)\n"
   ]
  }
 ],
 "metadata": {
  "kernelspec": {
   "display_name": "rockverse",
   "language": "python",
   "name": "python3"
  },
  "language_info": {
   "codemirror_mode": {
    "name": "ipython",
    "version": 3
   },
   "file_extension": ".py",
   "mimetype": "text/x-python",
   "name": "python",
   "nbconvert_exporter": "python",
   "pygments_lexer": "ipython3",
   "version": "3.12.7"
  }
 },
 "nbformat": 4,
 "nbformat_minor": 2
}
