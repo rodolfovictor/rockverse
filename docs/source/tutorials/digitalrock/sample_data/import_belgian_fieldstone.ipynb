{
 "cells": [
  {
   "cell_type": "markdown",
   "metadata": {},
   "source": [
    "Belgian Fieldstone Sample\n",
    "=========================\n",
    "\n",
    "This sample is a micro-CT scan of a 4 mm diameter glauconite-rich sandstone sample, by Tom Bultreys and Wesley De Boever, \n",
    "acquired with 4.98 micrometer voxel length at Ghent University's Centre for X-ray Tomography\n",
    "and hosted at [Digital Rocks Portal](https://www.digitalrocksportal.org/).\n",
    "\n",
    ".. note::\n",
    "   If you plan to use this data, please remember to [cite the data](https://www.digitalrocksportal.org/projects/297/cite/)\n",
    "   and the\n",
    "   [related publications](https://www.digitalrocksportal.org/projects/297/publications/).\n",
    "\n",
    "\n",
    "\n",
    "Go to the Belgian Fieldstone project in the Digital Rocks Portal:\n",
    "https://www.digitalrocksportal.org/projects/297. Click on `Micro-CT scan`.\n",
    "\n",
    "<img src=\"import_belgian_fieldstone-img1.jpg\" width=\"500\"/>\n",
    "\n",
    "   \n",
    "Pay attention to the metadata! We'll need it later. An extra piece of information: this raw data is in Fortran file order.\n",
    "Click `Action->Download File`.\n",
    "\n",
    "<img src=\"import_belgian_fieldstone-img2.jpg\" width=\"250\"/>\n",
    "\n",
    "Let's import the raw file into a RockVerse voxel image. In this example we'll use 8 chunks, halving the total number of voxels in each direction:"
   ]
  },
  {
   "cell_type": "code",
   "execution_count": 1,
   "metadata": {},
   "outputs": [
    {
     "name": "stderr",
     "output_type": "stream",
     "text": [
      "[2024-12-23 12:00:36] (Attenuation) Importing raw file: 100%|>>>>>>>>>>| 8/8 [00:34<00:00,  4.31s/chunk]\n"
     ]
    }
   ],
   "source": [
    "import rockverse as rv\n",
    "\n",
    "belgian_fieldstone_data = rv.voxel_image.import_raw(\n",
    "    rawfile='/path/to/rawdata/BelgianFieldstone/Fieldstone_1000x1000x861_16b.raw',\n",
    "    store='/path/to/imported/BelgianFieldstone/original',  #<- path to the imported the voxel image\n",
    "    shape=(1000, 1000, 861),         #<- From metadata, image size\n",
    "    dtype='>u2',                     #<- From metadata, big-endian 16-bit unsigned integer\n",
    "    offset=0,                        #<- From metadata\n",
    "    voxel_length=(4.98, 4.98, 4.98), #<- From metadata\n",
    "    voxel_unit='um',                 #<- From metadata, micrometer\n",
    "    raw_file_order='F',              #<- Fortran file order\n",
    "    chunks=(500, 500, 431),          #<- Our choice of chunk size will give a 2x2x2 chunk grid\n",
    "    field_name='Attenuation',        #<- Our choice for field name (X-ray attenuation)\n",
    "    field_unit='a.u.',               #<- Our choice for field units (arbitrary units)\n",
    "    description='Belgian Fieldstone original X-ray CT',\n",
    "    overwrite=True                   #<- Overwrite if file exists in disk\n",
    "    )"
   ]
  },
  {
   "cell_type": "markdown",
   "metadata": {},
   "source": [
    "The image now is available as a RockVerse voxel image in disk, at the path given in the ``store`` parameter. Remember: RockVerse voxel images are modified Zarr arrays, so you can use all the original properties and methods. Let's take a look at the general structure:"
   ]
  },
  {
   "cell_type": "code",
   "execution_count": 2,
   "metadata": {},
   "outputs": [
    {
     "data": {
      "text/html": [
       "<table class=\"zarr-info\"><tbody><tr><th style=\"text-align: left\">Type</th><td style=\"text-align: left\">rockverse.voxel_image.voxel_image.VoxelImage</td></tr><tr><th style=\"text-align: left\">Data type</th><td style=\"text-align: left\">uint16</td></tr><tr><th style=\"text-align: left\">Shape</th><td style=\"text-align: left\">(1000, 1000, 861)</td></tr><tr><th style=\"text-align: left\">Chunk shape</th><td style=\"text-align: left\">(500, 500, 431)</td></tr><tr><th style=\"text-align: left\">Order</th><td style=\"text-align: left\">C</td></tr><tr><th style=\"text-align: left\">Read-only</th><td style=\"text-align: left\">False</td></tr><tr><th style=\"text-align: left\">Compressor</th><td style=\"text-align: left\">Blosc(cname='lz4', clevel=5, shuffle=SHUFFLE, blocksize=0)</td></tr><tr><th style=\"text-align: left\">Store type</th><td style=\"text-align: left\">zarr.storage.DirectoryStore</td></tr><tr><th style=\"text-align: left\">No. bytes</th><td style=\"text-align: left\">1722000000 (1.6G)</td></tr><tr><th style=\"text-align: left\">No. bytes stored</th><td style=\"text-align: left\">1323693972 (1.2G)</td></tr><tr><th style=\"text-align: left\">Storage ratio</th><td style=\"text-align: left\">1.3</td></tr><tr><th style=\"text-align: left\">Chunks initialized</th><td style=\"text-align: left\">8/8</td></tr></tbody></table>"
      ],
      "text/plain": [
       "Type               : rockverse.voxel_image.voxel_image.VoxelImage\n",
       "Data type          : uint16\n",
       "Shape              : (1000, 1000, 861)\n",
       "Chunk shape        : (500, 500, 431)\n",
       "Order              : C\n",
       "Read-only          : False\n",
       "Compressor         : Blosc(cname='lz4', clevel=5, shuffle=SHUFFLE, blocksize=0)\n",
       "Store type         : zarr.storage.DirectoryStore\n",
       "No. bytes          : 1722000000 (1.6G)\n",
       "No. bytes stored   : 1323693972 (1.2G)\n",
       "Storage ratio      : 1.3\n",
       "Chunks initialized : 8/8"
      ]
     },
     "execution_count": 2,
     "metadata": {},
     "output_type": "execute_result"
    }
   ],
   "source": [
    "belgian_fieldstone_data.info"
   ]
  },
  {
   "cell_type": "markdown",
   "metadata": {},
   "source": [
    "Notice the chunk order was changed to C for cache optimization. \n",
    "Digital rock metadata are stored as zarr attributes:"
   ]
  },
  {
   "cell_type": "code",
   "execution_count": 3,
   "metadata": {},
   "outputs": [
    {
     "name": "stdout",
     "output_type": "stream",
     "text": [
      "_ROCKVERSE_DATATYPE: VoxelImage\n",
      "description: Belgian Fieldstone original X-ray CT\n",
      "field_name: Attenuation\n",
      "field_unit: a.u.\n",
      "voxel_length: [4.98, 4.98, 4.98]\n",
      "voxel_origin: [0, 0, 0]\n",
      "voxel_unit: um\n"
     ]
    }
   ],
   "source": [
    "for k,v in belgian_fieldstone_data.attrs.items():\n",
    "    print(f\"{k}: {v}\")"
   ]
  },
  {
   "cell_type": "markdown",
   "metadata": {},
   "source": [
    "But you can access them directly through the corresponding ``VoxelImage`` properties (check the \n",
    "[API documentation](../../../api/digitalrock/voxelimage.rst)\n",
    " for more details):"
   ]
  },
  {
   "cell_type": "code",
   "execution_count": 4,
   "metadata": {},
   "outputs": [
    {
     "name": "stdout",
     "output_type": "stream",
     "text": [
      "\n",
      "Field name: Attenuation,\n",
      "Field unit: a.u.,\n",
      "Image size: (1000, 1000, 861)\n",
      "dtype: uint16,\n",
      "Voxel length: (4.98, 4.98, 4.98) um,\n",
      "Image size per dimension: (1000, 1000, 861)\n",
      "Voxel length per dimension: (4.98, 4.98, 4.98) um\n",
      "\n"
     ]
    }
   ],
   "source": [
    "print(f'''\n",
    "Field name: {belgian_fieldstone_data.field_name},\n",
    "Field unit: {belgian_fieldstone_data.field_unit},\n",
    "Image size: {belgian_fieldstone_data.shape}\n",
    "dtype: {belgian_fieldstone_data.dtype},\n",
    "Voxel length: {belgian_fieldstone_data.voxel_length} {belgian_fieldstone_data.voxel_unit},\n",
    "Image size per dimension: ({belgian_fieldstone_data.nx}, {belgian_fieldstone_data.ny}, {belgian_fieldstone_data.nz})\n",
    "Voxel length per dimension: ({belgian_fieldstone_data.hx}, {belgian_fieldstone_data.hy}, {belgian_fieldstone_data.hz}) {belgian_fieldstone_data.h_unit}\n",
    "''')"
   ]
  },
  {
   "cell_type": "code",
   "execution_count": 5,
   "metadata": {},
   "outputs": [
    {
     "ename": "AttributeError",
     "evalue": "module 'rockverse' has no attribute 'digitalrock'",
     "output_type": "error",
     "traceback": [
      "\u001b[1;31m---------------------------------------------------------------------------\u001b[0m",
      "\u001b[1;31mAttributeError\u001b[0m                            Traceback (most recent call last)",
      "Cell \u001b[1;32mIn[5], line 1\u001b[0m\n\u001b[1;32m----> 1\u001b[0m viewer \u001b[38;5;241m=\u001b[39m \u001b[43mrv\u001b[49m\u001b[38;5;241;43m.\u001b[39;49m\u001b[43mdigitalrock\u001b[49m\u001b[38;5;241m.\u001b[39mOrthogonalViewer(belgian_fieldstone_data)\n",
      "\u001b[1;31mAttributeError\u001b[0m: module 'rockverse' has no attribute 'digitalrock'"
     ]
    }
   ],
   "source": [
    "viewer = rv.digitalrock.OrthogonalViewer(belgian_fieldstone_data)\n"
   ]
  },
  {
   "cell_type": "code",
   "execution_count": null,
   "metadata": {},
   "outputs": [],
   "source": [
    "viewer.show_guide_lines = False\n",
    "viewer.show_histogram = False\n",
    "viewer.show_zy_plane = False\n",
    "viewer.show_xz_plane = False\n",
    "viewer.figure\n"
   ]
  }
 ],
 "metadata": {
  "kernelspec": {
   "display_name": "rockverse",
   "language": "python",
   "name": "python3"
  },
  "language_info": {
   "codemirror_mode": {
    "name": "ipython",
    "version": 3
   },
   "file_extension": ".py",
   "mimetype": "text/x-python",
   "name": "python",
   "nbconvert_exporter": "python",
   "pygments_lexer": "ipython3",
   "version": "3.12.7"
  }
 },
 "nbformat": 4,
 "nbformat_minor": 2
}
