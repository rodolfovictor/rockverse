{
 "cells": [
  {
   "cell_type": "markdown",
   "metadata": {},
   "source": [
    "Belgian Fieldstone Sample\n",
    "=========================\n",
    "\n",
    "This sample is a micro-CT scan of a 4 mm diameter glauconite-rich sandstone sample, by Tom Bultreys and Wesley De Boever, \n",
    "acquired with 4.98 micrometer voxel length at Ghent University's Centre for X-ray Tomography\n",
    "and hosted at [Digital Rocks Portal](https://www.digitalrocksportal.org/).\n",
    "\n",
    ".. note::\n",
    "   If you plan to use this data, please remember to [cite the data](https://www.digitalrocksportal.org/projects/297/cite/)\n",
    "   and the\n",
    "   [related publications](https://www.digitalrocksportal.org/projects/297/publications/).\n",
    "\n",
    "\n",
    "\n",
    "Go to the Belgian Fieldstone project in the Digital Rocks Portal:\n",
    "https://www.digitalrocksportal.org/projects/297. Click on `Micro-CT scan`.\n",
    "\n",
    "<img src=\"import_belgian_fieldstone-img1.jpg\" width=\"500\"/>\n",
    "\n",
    "   \n",
    "Pay attention to the metadata! We'll need it later. An extra piece of information: this raw data is in Fortran file order.\n",
    "Click `Action->Download File`.\n",
    "\n",
    "<img src=\"import_belgian_fieldstone-img2.jpg\" width=\"250\"/>\n",
    "\n",
    "Let's import the raw file into a RockVerse voxel image. In this example we'll use 8 chunks, halving the total number of voxels in each direction:"
   ]
  },
  {
   "cell_type": "code",
   "execution_count": null,
   "metadata": {},
   "outputs": [],
   "source": [
    "import rockverse as rv\n",
    "\n",
    "belgian_fieldstone_data = rv.voxel_image.import_raw(\n",
    "    rawfile='/path/to/rawdata/BelgianFieldstone/Fieldstone_1000x1000x861_16b.raw',\n",
    "    store='/path/to/imported/BelgianFieldstone/original',  #<- path to the imported the voxel image\n",
    "    shape=(1000, 1000, 861),         #<- From metadata, image size\n",
    "    dtype='>u2',                     #<- From metadata, big-endian 16-bit unsigned integer\n",
    "    offset=0,                        #<- From metadata\n",
    "    voxel_length=(4.98, 4.98, 4.98), #<- From metadata\n",
    "    voxel_unit='um',                 #<- From metadata, micrometer\n",
    "    raw_file_order='F',              #<- Fortran file order\n",
    "    chunks=(500, 500, 431),          #<- Our choice of chunk size will give a 2x2x2 chunk grid\n",
    "    field_name='Attenuation',        #<- Our choice for field name (X-ray attenuation)\n",
    "    field_unit='a.u.',               #<- Our choice for field units (arbitrary units)\n",
    "    description='Belgian Fieldstone original X-ray CT',\n",
    "    overwrite=True                   #<- Overwrite if file exists in disk\n",
    "    )"
   ]
  },
  {
   "cell_type": "markdown",
   "metadata": {},
   "source": [
    "The image now is available as a RockVerse voxel image in disk, at the path given in the ``store`` parameter. Remember: RockVerse voxel images are modified Zarr arrays, so you can use all the original properties and methods. Let's take a look at the general structure:"
   ]
  },
  {
   "cell_type": "code",
   "execution_count": null,
   "metadata": {},
   "outputs": [],
   "source": [
    "belgian_fieldstone_data.info"
   ]
  },
  {
   "cell_type": "markdown",
   "metadata": {},
   "source": [
    "Notice the chunk order was changed to C for cache optimization. \n",
    "Digital rock metadata are stored as zarr attributes:"
   ]
  },
  {
   "cell_type": "code",
   "execution_count": null,
   "metadata": {},
   "outputs": [],
   "source": [
    "for k,v in belgian_fieldstone_data.attrs.items():\n",
    "    print(f\"{k}: {v}\")"
   ]
  },
  {
   "cell_type": "markdown",
   "metadata": {},
   "source": [
    "But you can access them directly through the corresponding ``VoxelImage`` properties (check the \n",
    "[API documentation](../../../api/voxel_image.rst)\n",
    " for more details):"
   ]
  },
  {
   "cell_type": "code",
   "execution_count": null,
   "metadata": {},
   "outputs": [],
   "source": [
    "print(f'''\n",
    "Field name: {belgian_fieldstone_data.field_name},\n",
    "Field unit: {belgian_fieldstone_data.field_unit},\n",
    "Image size: {belgian_fieldstone_data.shape}\n",
    "dtype: {belgian_fieldstone_data.dtype},\n",
    "Voxel length: {belgian_fieldstone_data.voxel_length} {belgian_fieldstone_data.voxel_unit},\n",
    "Image size per dimension: ({belgian_fieldstone_data.nx}, {belgian_fieldstone_data.ny}, {belgian_fieldstone_data.nz})\n",
    "Voxel length per dimension: ({belgian_fieldstone_data.hx}, {belgian_fieldstone_data.hy}, {belgian_fieldstone_data.hz}) {belgian_fieldstone_data.h_unit}\n",
    "''')"
   ]
  },
  {
   "cell_type": "code",
   "execution_count": null,
   "metadata": {},
   "outputs": [],
   "source": [
    "viewer = rv.digitalrock.OrthogonalViewer(belgian_fieldstone_data)\n"
   ]
  },
  {
   "cell_type": "code",
   "execution_count": null,
   "metadata": {},
   "outputs": [],
   "source": [
    "viewer.show_guide_lines = False\n",
    "viewer.show_histogram = False\n",
    "viewer.show_zy_plane = False\n",
    "viewer.show_xz_plane = False\n",
    "viewer.figure\n"
   ]
  }
 ],
 "metadata": {
  "kernelspec": {
   "display_name": "rockverse",
   "language": "python",
   "name": "python3"
  },
  "language_info": {
   "codemirror_mode": {
    "name": "ipython",
    "version": 3
   },
   "file_extension": ".py",
   "mimetype": "text/x-python",
   "name": "python",
   "nbconvert_exporter": "python",
   "pygments_lexer": "ipython3",
   "version": "3.12.7"
  }
 },
 "nbformat": 4,
 "nbformat_minor": 2
}
