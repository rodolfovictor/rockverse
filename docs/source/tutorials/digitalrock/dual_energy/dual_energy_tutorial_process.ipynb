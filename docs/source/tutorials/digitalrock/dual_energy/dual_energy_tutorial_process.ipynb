{
 "cells": [
  {
   "cell_type": "markdown",
   "metadata": {},
   "source": [
    "Part 3 - Running the Simulation\n",
    "===============================\n",
    "\n",
    "We have completed all the necessary steps to run the Monte Carlo simulations:\n",
    "- Created the `DualEnergyCTGroup` (the variable `dectgroup`).\n",
    "- Imported the original CT scans for low and high energies.\n",
    "- Created a segmentation voxel image (optional, to use calibration materials as a quality control; could also be imported from elsewhere).\n",
    "- Created a mask voxel image (optional, to tell RockVerse which voxels to ignore in the Monte Carlo inversion; could also be imported from elsewhere).\n",
    "- Populated necessary information for the calibration materials.\n",
    "- Pre-calculated the set of inversion coefficients.\n",
    "\n",
    "We can now call the `run` method to perform the full inversion. \n",
    "\n",
    "Remember: we are performing Monte Carlo in the Digital Rock universe! This process is computationally intensive and is designed to be run in a high-performance computing environment, such as a GPU-enabled machine or a handful of nodes in a CPU cluster. This ensures efficiency and accuracy in processing large datasets.\n",
    "\n",
    "## Running in Command Line Mode\n",
    "\n",
    "To run in command line mode, save a file, say `run.py`, with the following content:\n",
    "\n",
    "```python\n",
    "import rockverse as rv\n",
    "dectgroup = rv.open(r'/path/to/dual_energy_ct/C04B21')\n",
    "dectgroup.run()\n",
    "```\n",
    "\n",
    "and call Python with your MPI executable to run the file, e.g.:\n",
    "\n",
    "```bash\n",
    "$ mpirun -N 256 python run.py\n",
    "```\n",
    "\n",
    "or submit it as a batch script to your job scheduler, such as Slurm:\n",
    "\n",
    "```bash\n",
    "#!/bin/bash\n",
    "#SBATCH -J awesome_job_name\n",
    "#SBATCH --nodes=2\n",
    "#SBATCH --partition <your_partition>\n",
    "#SBATCH --gres=gpu:16\n",
    "#SBATCH --ntasks-per-node=256\n",
    "#SBATCH --output=outputlog\n",
    "#SBATCH --chdir=/path/to/workdir\n",
    "\n",
    "conda activate you_environment_with_rockverse\n",
    "mpirun python3 ./run.py \n",
    "```\n",
    "\n",
    "## Running in Jupyter with Ipyparallel\n",
    "\n",
    "Here we'll use again a machine with 8 GPUs, and therefore we can use Ipyparallel to create a cluster\n",
    "with 8 MPI processes, that will distribute the workload among the 8 GPUS. Let's create the cluster:"
   ]
  },
  {
   "cell_type": "code",
   "execution_count": 1,
   "metadata": {},
   "outputs": [
    {
     "name": "stdout",
     "output_type": "stream",
     "text": [
      "Starting 8 engines with <class 'ipyparallel.cluster.launcher.MPIEngineSetLauncher'>\n"
     ]
    },
    {
     "data": {
      "application/vnd.jupyter.widget-view+json": {
       "model_id": "4433ffa371a54cf0a0194c33ae4e789b",
       "version_major": 2,
       "version_minor": 0
      },
      "text/plain": [
       "  0%|          | 0/8 [00:00<?, ?engine/s]"
      ]
     },
     "metadata": {},
     "output_type": "display_data"
    }
   ],
   "source": [
    "import ipyparallel as ipp\n",
    "\n",
    "# Create an MPI cluster with 8 engines\n",
    "cluster = ipp.Cluster(engines=\"mpi\", n=8)\n",
    "\n",
    "# Start and connect to the cluster\n",
    "rc = cluster.start_and_connect_sync()\n",
    "\n",
    "# Enable IPython magics for parallel processing\n",
    "rc[:].activate()\n"
   ]
  },
  {
   "cell_type": "markdown",
   "metadata": {},
   "source": [
    "Now we use the ``%%px`` magic to send the work to the parallel kernel:"
   ]
  },
  {
   "cell_type": "code",
   "execution_count": null,
   "metadata": {},
   "outputs": [
    {
     "data": {
      "application/vnd.jupyter.widget-view+json": {
       "model_id": "9a334a72f6c14a7b8951d8b59ce54636",
       "version_major": 2,
       "version_minor": 0
      },
      "text/plain": [
       "%px:   0%|          | 0/8 [00:00<?, ?tasks/s]"
      ]
     },
     "metadata": {},
     "output_type": "display_data"
    },
    {
     "data": {
      "text/plain": [
       "[stdout:0] [2025-02-21 20:43:24] Hashing Low attenuation: 100% 16/16 [00:00<00:00, 62.83chunk/s]\n",
       "[2025-02-21 20:43:24] Hashing High attenuation: 100% 16/16 [00:00<00:00, 65.49chunk/s]\n",
       "[2025-02-21 20:43:25] Hashing mask: 100% 16/16 [00:00<00:00, 209.58chunk/s]\n",
       "[2025-02-21 20:43:25] Hashing segmentation: 100% 16/16 [00:00<00:00, 210.28chunk/s]\n",
       "[2025-02-21 20:43:25] Calibration matrices up to date.\n",
       "[2025-02-21 20:43:25] Creating output images: 100% 11/11 [00:02<00:00,  4.98it/s]\n",
       "[2025-02-21 20:43:30] Counting voxels: 100% 16/16 [00:03<00:00,  4.06chunk/s]\n",
       "[2025-02-21 20:43:33] rho/Z inversion (chunk 16/16):  99% 38939269/39445817 [36:30:54<2:21:52, 59.50voxel/s]"
      ]
     },
     "metadata": {},
     "output_type": "display_data"
    }
   ],
   "source": [
    "%%px --block\n",
    "\n",
    "import rockverse as rv\n",
    "\n",
    "# Open the group\n",
    "dectgroup = rv.open('/estgf_dados/P_D/GOB7/testemunhos/C04B21_DGX')\n",
    "\n",
    "# Call the run method to perform the calculations\n",
    "dectgroup.run()"
   ]
  },
  {
   "cell_type": "markdown",
   "metadata": {},
   "source": [
    "After completion, you will have access to the Monte Carlo results through the\n",
    "following new voxel images as attributes of dectgroup:\n",
    "\n",
    "- ``rho_min``: Voxel image with the minimum electron density per voxel.\n",
    "- ``rho_p25``: Voxel image with the the first quartile for the electron density per voxel.\n",
    "- ``rho_p50``: Voxel image with the the median values for the electron density per voxel.\n",
    "- ``rho_p75``: Voxel image with the the third quartile for the electron density per voxel.\n",
    "- ``rho_max``: Voxel image with the maximum electron density per voxel.\n",
    "- ``Z_min``: Voxel image with the minimum effective atomic number per voxel.\n",
    "- ``Z_p25``: Voxel image with the the first quartile for the effective atomic number per voxel.\n",
    "- ``Z_p50``: Voxel image with the the median values for the effective atomic number per voxel.\n",
    "- ``Z_p75``: Voxel image with the the third quartile for the effective atomic number per voxel.\n",
    "- ``Z_max``: Voxel image with the maximum effective atomic number per voxel.\n",
    "- ``valid``: Voxel image with the number of valid Monte Carlo results for each voxel."
   ]
  }
 ],
 "metadata": {
  "kernelspec": {
   "display_name": "rockverse-zarr3",
   "language": "python",
   "name": "python3"
  },
  "language_info": {
   "codemirror_mode": {
    "name": "ipython",
    "version": 3
   },
   "file_extension": ".py",
   "mimetype": "text/x-python",
   "name": "python",
   "nbconvert_exporter": "python",
   "pygments_lexer": "ipython3",
   "version": "3.12.8"
  }
 },
 "nbformat": 4,
 "nbformat_minor": 2
}
