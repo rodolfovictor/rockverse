{
 "cells": [
  {
   "cell_type": "markdown",
   "metadata": {},
   "source": [
    "Dual energy carbonate CT\n",
    "========================\n",
    "\n",
    "test\n"
   ]
  },
  {
   "cell_type": "code",
   "execution_count": 1,
   "metadata": {},
   "outputs": [
    {
     "name": "stdout",
     "output_type": "stream",
     "text": [
      "Starting 5 engines with <class 'ipyparallel.cluster.launcher.MPIEngineSetLauncher'>\n"
     ]
    },
    {
     "data": {
      "application/vnd.jupyter.widget-view+json": {
       "model_id": "b45581c533cb42f18ac6b324eb1b1469",
       "version_major": 2,
       "version_minor": 0
      },
      "text/plain": [
       "  0%|          | 0/5 [00:00<?, ?engine/s]"
      ]
     },
     "metadata": {},
     "output_type": "display_data"
    }
   ],
   "source": [
    "import ipyparallel as ipp\n",
    "cluster = ipp.Cluster(engines=\"mpi\", n=5)\n",
    "rc = cluster.start_and_connect_sync()\n",
    "rc[:].activate() # enable magics"
   ]
  },
  {
   "cell_type": "code",
   "execution_count": 2,
   "metadata": {},
   "outputs": [
    {
     "data": {
      "application/vnd.jupyter.widget-view+json": {
       "model_id": "1574967d4083463fb3db6da2738eb69e",
       "version_major": 2,
       "version_minor": 0
      },
      "text/plain": [
       "%px:   0%|          | 0/5 [00:00<?, ?tasks/s]"
      ]
     },
     "metadata": {},
     "output_type": "display_data"
    },
    {
     "data": {
      "text/plain": [
       "[output:2]"
      ]
     },
     "metadata": {},
     "output_type": "display_data"
    },
    {
     "data": {
      "application/vnd.jupyter.widget-view+json": {
       "model_id": "4e2781b302c3466da04903cb182fabea",
       "version_major": 2,
       "version_minor": 0
      },
      "text/plain": [
       "[2025-01-10 11:44:11] Hashing mask:   0%|          | 0/512 [00:00<?, ?line/s]"
      ]
     },
     "metadata": {
      "engine": 2
     },
     "output_type": "display_data"
    },
    {
     "data": {
      "text/plain": [
       "[output:1]"
      ]
     },
     "metadata": {},
     "output_type": "display_data"
    },
    {
     "data": {
      "application/vnd.jupyter.widget-view+json": {
       "model_id": "199e6341b42740b5892c7279c5a142d8",
       "version_major": 2,
       "version_minor": 0
      },
      "text/plain": [
       "[2025-01-10 11:44:11] Hashing High attenuation:   0%|          | 0/512 [00:00<?, ?line/s]"
      ]
     },
     "metadata": {
      "engine": 1
     },
     "output_type": "display_data"
    },
    {
     "data": {
      "text/plain": [
       "[output:3]"
      ]
     },
     "metadata": {},
     "output_type": "display_data"
    },
    {
     "data": {
      "application/vnd.jupyter.widget-view+json": {
       "model_id": "32290514a7524c8880e5f29fc9d003ac",
       "version_major": 2,
       "version_minor": 0
      },
      "text/plain": [
       "[2025-01-10 11:44:11] Hashing segmentation:   0%|          | 0/512 [00:00<?, ?line/s]"
      ]
     },
     "metadata": {
      "engine": 3
     },
     "output_type": "display_data"
    },
    {
     "data": {
      "text/plain": [
       "[output:0]"
      ]
     },
     "metadata": {},
     "output_type": "display_data"
    },
    {
     "data": {
      "application/vnd.jupyter.widget-view+json": {
       "model_id": "09b1342dd2404c0993a8f54e39f2a61b",
       "version_major": 2,
       "version_minor": 0
      },
      "text/plain": [
       "[2025-01-10 11:44:11] Hashing Low attenuation:   0%|          | 0/512 [00:00<?, ?line/s]"
      ]
     },
     "metadata": {
      "engine": 0
     },
     "output_type": "display_data"
    },
    {
     "data": {
      "text/plain": [
       "[stdout:0] [2025-01-10 11:44:18] lowEhistogram up to date.\n",
       "[2025-01-10 11:44:18] highEhistogram up to date.\n",
       "[2025-01-10 11:44:18] Gaussian coefficients for calibration histograms:\n",
       "                             A_lowE      mu_lowE  sigma_lowE      A_highE     mu_highE  sigma_highE\n",
       "Calibration material 0  2606.146860  -996.872234   34.262505  3922.015062  -995.500464    21.659062\n",
       "Calibration material 1  1917.651725   -30.690096   37.429786  2682.439552   -24.621953    25.757539\n",
       "Calibration material 2   830.770845  1641.109997   37.144476  1116.230243  1412.104653    23.236605\n",
       "Calibration material 3  1509.236392  1117.703237   47.499800  1805.210280  1058.858264    36.601931\n",
       "[2025-01-10 11:44:19] Calibration matrices up to date.\n"
      ]
     },
     "metadata": {},
     "output_type": "display_data"
    },
    {
     "data": {
      "text/plain": [
       "[output:0]"
      ]
     },
     "metadata": {},
     "output_type": "display_data"
    },
    {
     "data": {
      "application/vnd.jupyter.widget-view+json": {
       "model_id": "5741c92d2654497b9e810c2e1493b8df",
       "version_major": 2,
       "version_minor": 0
      },
      "text/plain": [
       "[2025-01-10 11:44:19] rho/Z inversion:   0%|          | 0/256 [00:00<?, ?chunk/s]"
      ]
     },
     "metadata": {
      "engine": 0
     },
     "output_type": "display_data"
    },
    {
     "data": {
      "text/plain": [
       "[output:0]"
      ]
     },
     "metadata": {},
     "output_type": "display_data"
    },
    {
     "data": {
      "application/vnd.jupyter.widget-view+json": {
       "model_id": "3616f3c441f0458289a9f9c4759fede8",
       "version_major": 2,
       "version_minor": 0
      },
      "text/plain": [
       "[2025-01-10 11:44:45] rho/Z inversion chunk 75/256:   0%|          | 0/5375 [00:00<?, ?voxel/s]"
      ]
     },
     "metadata": {
      "engine": 0
     },
     "output_type": "display_data"
    },
    {
     "name": "stderr",
     "output_type": "stream",
     "text": [
      "Received Keyboard Interrupt. Sending signal SIGINT to engines...\n"
     ]
    },
    {
     "ename": "RemoteError",
     "evalue": "[Engine Exception] ValueError: only SIGTERM, CTRL_C_EVENT and CTRL_BREAK_EVENT signals are supported on Windows",
     "output_type": "error",
     "traceback": [
      "[Engine Exception]",
      "Traceback (most recent call last):",
      "",
      "  File \"c:\\Users\\GOB7\\AppData\\Local\\mambaforge\\envs\\rockverse\\Lib\\site-packages\\ipyparallel\\engine\\nanny.py\", line 169, in dispatch_control",
      "    content = handler(msg['content'])",
      "              ^^^^^^^^^^^^^^^^^^^^^^^",
      "",
      "  File \"c:\\Users\\GOB7\\AppData\\Local\\mambaforge\\envs\\rockverse\\Lib\\site-packages\\ipyparallel\\engine\\nanny.py\", line 189, in signal_request",
      "    self.parent_process.send_signal(sig)",
      "",
      "  File \"c:\\Users\\GOB7\\AppData\\Local\\mambaforge\\envs\\rockverse\\Lib\\site-packages\\psutil\\__init__.py\", line 1291, in send_signal",
      "    self._proc.send_signal(sig)",
      "",
      "  File \"c:\\Users\\GOB7\\AppData\\Local\\mambaforge\\envs\\rockverse\\Lib\\site-packages\\psutil\\_pswindows.py\", line 727, in wrapper",
      "    return fun(self, *args, **kwargs)",
      "           ^^^^^^^^^^^^^^^^^^^^^^^^^^",
      "",
      "  File \"c:\\Users\\GOB7\\AppData\\Local\\mambaforge\\envs\\rockverse\\Lib\\site-packages\\psutil\\_pswindows.py\", line 932, in send_signal",
      "    raise ValueError(msg)",
      "",
      "ValueError: only SIGTERM, CTRL_C_EVENT and CTRL_BREAK_EVENT signals are supported on Windows"
     ]
    }
   ],
   "source": [
    "%%px --block --group-outputs=type\n",
    "\n",
    "import rockverse as rv\n",
    "dectgroup = rv.open('/path/to/dual_energy_ct/C04B21')\n",
    "dectgroup.run()"
   ]
  }
 ],
 "metadata": {
  "kernelspec": {
   "display_name": "rockverse",
   "language": "python",
   "name": "python3"
  },
  "language_info": {
   "codemirror_mode": {
    "name": "ipython",
    "version": 3
   },
   "file_extension": ".py",
   "mimetype": "text/x-python",
   "name": "python",
   "nbconvert_exporter": "python",
   "pygments_lexer": "ipython3",
   "version": "3.12.7"
  }
 },
 "nbformat": 4,
 "nbformat_minor": 2
}
