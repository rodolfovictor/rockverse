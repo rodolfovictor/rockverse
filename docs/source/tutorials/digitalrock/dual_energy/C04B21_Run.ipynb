{
 "cells": [
  {
   "cell_type": "markdown",
   "metadata": {},
   "source": [
    "Dual energy carbonate CT\n",
    "========================\n",
    "\n",
    "test\n"
   ]
  },
  {
   "cell_type": "code",
   "execution_count": 1,
   "metadata": {},
   "outputs": [
    {
     "name": "stdout",
     "output_type": "stream",
     "text": [
      "Starting 8 engines with <class 'ipyparallel.cluster.launcher.MPIEngineSetLauncher'>\n"
     ]
    },
    {
     "data": {
      "application/vnd.jupyter.widget-view+json": {
       "model_id": "c813865abcba4d5bae1141f3fa7f01d2",
       "version_major": 2,
       "version_minor": 0
      },
      "text/plain": [
       "  0%|          | 0/8 [00:00<?, ?engine/s]"
      ]
     },
     "metadata": {},
     "output_type": "display_data"
    }
   ],
   "source": [
    "import ipyparallel as ipp\n",
    "cluster = ipp.Cluster(engines=\"mpi\", n=8)\n",
    "rc = cluster.start_and_connect_sync()\n",
    "rc[:].activate() # enable magics"
   ]
  },
  {
   "cell_type": "code",
   "execution_count": 2,
   "metadata": {},
   "outputs": [
    {
     "data": {
      "text/plain": [
       "[stderr:0] /u/gob7/rockverse/src/rockverse/_utils/__init__.py:2: TqdmExperimentalWarning: Using `tqdm.autonotebook.tqdm` in notebook mode. Use `tqdm.tqdm` instead to force console mode (e.g. in jupyter console)\n",
       "  from tqdm.autonotebook import tqdm\n"
      ]
     },
     "metadata": {},
     "output_type": "display_data"
    },
    {
     "data": {
      "text/plain": [
       "[stderr:6] /u/gob7/rockverse/src/rockverse/_utils/__init__.py:2: TqdmExperimentalWarning: Using `tqdm.autonotebook.tqdm` in notebook mode. Use `tqdm.tqdm` instead to force console mode (e.g. in jupyter console)\n",
       "  from tqdm.autonotebook import tqdm\n"
      ]
     },
     "metadata": {},
     "output_type": "display_data"
    },
    {
     "data": {
      "text/plain": [
       "[stderr:5] /u/gob7/rockverse/src/rockverse/_utils/__init__.py:2: TqdmExperimentalWarning: Using `tqdm.autonotebook.tqdm` in notebook mode. Use `tqdm.tqdm` instead to force console mode (e.g. in jupyter console)\n",
       "  from tqdm.autonotebook import tqdm\n"
      ]
     },
     "metadata": {},
     "output_type": "display_data"
    },
    {
     "data": {
      "text/plain": [
       "[stderr:4] /u/gob7/rockverse/src/rockverse/_utils/__init__.py:2: TqdmExperimentalWarning: Using `tqdm.autonotebook.tqdm` in notebook mode. Use `tqdm.tqdm` instead to force console mode (e.g. in jupyter console)\n",
       "  from tqdm.autonotebook import tqdm\n"
      ]
     },
     "metadata": {},
     "output_type": "display_data"
    },
    {
     "data": {
      "text/plain": [
       "[stderr:2] /u/gob7/rockverse/src/rockverse/_utils/__init__.py:2: TqdmExperimentalWarning: Using `tqdm.autonotebook.tqdm` in notebook mode. Use `tqdm.tqdm` instead to force console mode (e.g. in jupyter console)\n",
       "  from tqdm.autonotebook import tqdm\n"
      ]
     },
     "metadata": {},
     "output_type": "display_data"
    },
    {
     "data": {
      "text/plain": [
       "[stderr:1] /u/gob7/rockverse/src/rockverse/_utils/__init__.py:2: TqdmExperimentalWarning: Using `tqdm.autonotebook.tqdm` in notebook mode. Use `tqdm.tqdm` instead to force console mode (e.g. in jupyter console)\n",
       "  from tqdm.autonotebook import tqdm\n"
      ]
     },
     "metadata": {},
     "output_type": "display_data"
    },
    {
     "data": {
      "text/plain": [
       "[stderr:3] /u/gob7/rockverse/src/rockverse/_utils/__init__.py:2: TqdmExperimentalWarning: Using `tqdm.autonotebook.tqdm` in notebook mode. Use `tqdm.tqdm` instead to force console mode (e.g. in jupyter console)\n",
       "  from tqdm.autonotebook import tqdm\n"
      ]
     },
     "metadata": {},
     "output_type": "display_data"
    },
    {
     "data": {
      "text/plain": [
       "[stderr:7] /u/gob7/rockverse/src/rockverse/_utils/__init__.py:2: TqdmExperimentalWarning: Using `tqdm.autonotebook.tqdm` in notebook mode. Use `tqdm.tqdm` instead to force console mode (e.g. in jupyter console)\n",
       "  from tqdm.autonotebook import tqdm\n"
      ]
     },
     "metadata": {},
     "output_type": "display_data"
    },
    {
     "data": {
      "application/vnd.jupyter.widget-view+json": {
       "model_id": "b738b957ff514613bf376296dad0195c",
       "version_major": 2,
       "version_minor": 0
      },
      "text/plain": [
       "%px:   0%|          | 0/8 [00:00<?, ?tasks/s]"
      ]
     },
     "metadata": {},
     "output_type": "display_data"
    },
    {
     "data": {
      "text/plain": [
       "[output:0]"
      ]
     },
     "metadata": {},
     "output_type": "display_data"
    },
    {
     "data": {
      "application/vnd.jupyter.widget-view+json": {
       "model_id": "609830d979154001b4c19f6e104ed41c",
       "version_major": 2,
       "version_minor": 0
      },
      "text/plain": [
       "[2025-01-15 10:42:45] Hashing Low attenuation:   0%|          | 0/1815 [00:00<?, ?chunk/s]"
      ]
     },
     "metadata": {
      "engine": 0
     },
     "output_type": "display_data"
    },
    {
     "data": {
      "text/plain": [
       "[output:0]"
      ]
     },
     "metadata": {},
     "output_type": "display_data"
    },
    {
     "data": {
      "application/vnd.jupyter.widget-view+json": {
       "model_id": "211f546ed5f64f4a837f245930c39fca",
       "version_major": 2,
       "version_minor": 0
      },
      "text/plain": [
       "[2025-01-15 10:42:46] Hashing High attenuation:   0%|          | 0/1815 [00:00<?, ?chunk/s]"
      ]
     },
     "metadata": {
      "engine": 0
     },
     "output_type": "display_data"
    },
    {
     "data": {
      "text/plain": [
       "[output:0]"
      ]
     },
     "metadata": {},
     "output_type": "display_data"
    },
    {
     "data": {
      "application/vnd.jupyter.widget-view+json": {
       "model_id": "11aff711fbc3475cb60a1784826d669f",
       "version_major": 2,
       "version_minor": 0
      },
      "text/plain": [
       "[2025-01-15 10:42:47] Hashing mask:   0%|          | 0/1815 [00:00<?, ?chunk/s]"
      ]
     },
     "metadata": {
      "engine": 0
     },
     "output_type": "display_data"
    },
    {
     "data": {
      "text/plain": [
       "[output:0]"
      ]
     },
     "metadata": {},
     "output_type": "display_data"
    },
    {
     "data": {
      "application/vnd.jupyter.widget-view+json": {
       "model_id": "34cef17afbc24ba4a2e79c55f43a68ee",
       "version_major": 2,
       "version_minor": 0
      },
      "text/plain": [
       "[2025-01-15 10:42:48] Hashing segmentation:   0%|          | 0/1815 [00:00<?, ?chunk/s]"
      ]
     },
     "metadata": {
      "engine": 0
     },
     "output_type": "display_data"
    },
    {
     "data": {
      "text/plain": [
       "[stdout:0] [2025-01-15 10:42:49] lowEhistogram up to date.\n",
       "[2025-01-15 10:42:49] highEhistogram up to date.\n",
       "[2025-01-15 10:42:49] Gaussian coefficients for calibration histograms:\n",
       "                               A_lowE      mu_lowE  sigma_lowE        A_highE     mu_highE  sigma_highE\n",
       "Calibration material 0  289996.000246  -998.709807   23.171759  295984.001641  -995.352506    21.741666\n",
       "Calibration material 1  182410.932712   -34.332426   34.220852  218833.963498   -28.880517    28.371563\n",
       "Calibration material 2   60297.000982  1627.787462   38.406920   84530.971634  1411.262199    28.102848\n",
       "Calibration material 3  119369.000150  1110.615217   48.398797  145789.001821  1054.907940    37.473448\n",
       "[2025-01-15 10:42:49] Calibration matrices up to date.\n"
      ]
     },
     "metadata": {},
     "output_type": "display_data"
    },
    {
     "data": {
      "text/plain": [
       "[output:0]"
      ]
     },
     "metadata": {},
     "output_type": "display_data"
    },
    {
     "data": {
      "application/vnd.jupyter.widget-view+json": {
       "model_id": "97137deb178f478a9e2d5b98f586ce72",
       "version_major": 2,
       "version_minor": 0
      },
      "text/plain": [
       "[2025-01-15 10:42:51] rho/Z inversion:   0%|          | 0/1815 [00:00<?, ?chunk/s]"
      ]
     },
     "metadata": {
      "engine": 0
     },
     "output_type": "display_data"
    },
    {
     "data": {
      "text/plain": [
       "[output:0]"
      ]
     },
     "metadata": {},
     "output_type": "display_data"
    },
    {
     "data": {
      "application/vnd.jupyter.widget-view+json": {
       "model_id": "54df9b407fdc413b9059ad1c89782f57",
       "version_major": 2,
       "version_minor": 0
      },
      "text/plain": [
       "[2025-01-15 10:42:57] rho/Z inversion chunk 40/1815:   0%|          | 0/6 [00:00<?, ?voxel/s]"
      ]
     },
     "metadata": {
      "engine": 0
     },
     "output_type": "display_data"
    },
    {
     "data": {
      "text/plain": [
       "[output:0]"
      ]
     },
     "metadata": {},
     "output_type": "display_data"
    },
    {
     "data": {
      "application/vnd.jupyter.widget-view+json": {
       "model_id": "40ea45782cb842ed9e08a68ef6d1477a",
       "version_major": 2,
       "version_minor": 0
      },
      "text/plain": [
       "[2025-01-15 10:43:19] rho/Z inversion chunk 51/1815:   0%|          | 0/70 [00:00<?, ?voxel/s]"
      ]
     },
     "metadata": {
      "engine": 0
     },
     "output_type": "display_data"
    },
    {
     "data": {
      "text/plain": [
       "[output:0]"
      ]
     },
     "metadata": {},
     "output_type": "display_data"
    },
    {
     "data": {
      "application/vnd.jupyter.widget-view+json": {
       "model_id": "713108cb6fdd4a41b0b5d6edf879ede0",
       "version_major": 2,
       "version_minor": 0
      },
      "text/plain": [
       "[2025-01-15 10:45:58] rho/Z inversion chunk 57/1815:   0%|          | 0/62 [00:00<?, ?voxel/s]"
      ]
     },
     "metadata": {
      "engine": 0
     },
     "output_type": "display_data"
    },
    {
     "data": {
      "text/plain": [
       "[output:0]"
      ]
     },
     "metadata": {},
     "output_type": "display_data"
    },
    {
     "data": {
      "application/vnd.jupyter.widget-view+json": {
       "model_id": "d8bb6d869d6f4851aa3a5ca9f3ccf1c6",
       "version_major": 2,
       "version_minor": 0
      },
      "text/plain": [
       "[2025-01-15 10:48:16] rho/Z inversion chunk 58/1815:   0%|          | 0/8 [00:00<?, ?voxel/s]"
      ]
     },
     "metadata": {
      "engine": 0
     },
     "output_type": "display_data"
    },
    {
     "data": {
      "text/plain": [
       "[output:0]"
      ]
     },
     "metadata": {},
     "output_type": "display_data"
    },
    {
     "data": {
      "application/vnd.jupyter.widget-view+json": {
       "model_id": "2f71b9853b724095af4ce92422a121d4",
       "version_major": 2,
       "version_minor": 0
      },
      "text/plain": [
       "[2025-01-15 10:48:35] rho/Z inversion chunk 62/1815:   0%|          | 0/46810 [00:00<?, ?voxel/s]"
      ]
     },
     "metadata": {
      "engine": 0
     },
     "output_type": "display_data"
    },
    {
     "data": {
      "text/plain": [
       "[output:0]"
      ]
     },
     "metadata": {},
     "output_type": "display_data"
    },
    {
     "data": {
      "application/vnd.jupyter.widget-view+json": {
       "model_id": "09e28c6fd4e346f69f88c151d51c7d13",
       "version_major": 2,
       "version_minor": 0
      },
      "text/plain": [
       "[2025-01-15 10:53:05] rho/Z inversion chunk 67/1815:   0%|          | 0/369 [00:00<?, ?voxel/s]"
      ]
     },
     "metadata": {
      "engine": 0
     },
     "output_type": "display_data"
    },
    {
     "data": {
      "text/plain": [
       "[output:0]"
      ]
     },
     "metadata": {},
     "output_type": "display_data"
    },
    {
     "data": {
      "application/vnd.jupyter.widget-view+json": {
       "model_id": "9fe1cfedc489481391104bf69f5ab948",
       "version_major": 2,
       "version_minor": 0
      },
      "text/plain": [
       "[2025-01-15 10:53:07] rho/Z inversion chunk 68/1815:   0%|          | 0/8529 [00:00<?, ?voxel/s]"
      ]
     },
     "metadata": {
      "engine": 0
     },
     "output_type": "display_data"
    },
    {
     "data": {
      "text/plain": [
       "[output:0]"
      ]
     },
     "metadata": {},
     "output_type": "display_data"
    },
    {
     "data": {
      "application/vnd.jupyter.widget-view+json": {
       "model_id": "e39cb6291d484362bd41801468cb5e39",
       "version_major": 2,
       "version_minor": 0
      },
      "text/plain": [
       "[2025-01-15 10:53:40] rho/Z inversion chunk 69/1815:   0%|          | 0/47151 [00:00<?, ?voxel/s]"
      ]
     },
     "metadata": {
      "engine": 0
     },
     "output_type": "display_data"
    },
    {
     "data": {
      "text/plain": [
       "[output:0]"
      ]
     },
     "metadata": {},
     "output_type": "display_data"
    },
    {
     "data": {
      "application/vnd.jupyter.widget-view+json": {
       "model_id": "6e6cc04021414fa38a017175e1784d60",
       "version_major": 2,
       "version_minor": 0
      },
      "text/plain": [
       "[2025-01-15 10:55:51] rho/Z inversion chunk 70/1815:   0%|          | 0/77469 [00:00<?, ?voxel/s]"
      ]
     },
     "metadata": {
      "engine": 0
     },
     "output_type": "display_data"
    },
    {
     "data": {
      "text/plain": [
       "[output:0]"
      ]
     },
     "metadata": {},
     "output_type": "display_data"
    },
    {
     "data": {
      "application/vnd.jupyter.widget-view+json": {
       "model_id": "2b87f71c2bb944438648ba4cf89cf17c",
       "version_major": 2,
       "version_minor": 0
      },
      "text/plain": [
       "[2025-01-15 10:59:25] rho/Z inversion chunk 71/1815:   0%|          | 0/77500 [00:00<?, ?voxel/s]"
      ]
     },
     "metadata": {
      "engine": 0
     },
     "output_type": "display_data"
    },
    {
     "data": {
      "text/plain": [
       "[output:0]"
      ]
     },
     "metadata": {},
     "output_type": "display_data"
    },
    {
     "data": {
      "application/vnd.jupyter.widget-view+json": {
       "model_id": "afa04fe5854549bf896b91e54225ecee",
       "version_major": 2,
       "version_minor": 0
      },
      "text/plain": [
       "[2025-01-15 11:02:52] rho/Z inversion chunk 72/1815:   0%|          | 0/65937 [00:00<?, ?voxel/s]"
      ]
     },
     "metadata": {
      "engine": 0
     },
     "output_type": "display_data"
    },
    {
     "data": {
      "text/plain": [
       "[output:0]"
      ]
     },
     "metadata": {},
     "output_type": "display_data"
    },
    {
     "data": {
      "application/vnd.jupyter.widget-view+json": {
       "model_id": "d0001cc57a50480283a0c6ff20e8fef3",
       "version_major": 2,
       "version_minor": 0
      },
      "text/plain": [
       "[2025-01-15 11:05:42] rho/Z inversion chunk 73/1815:   0%|          | 0/8555 [00:00<?, ?voxel/s]"
      ]
     },
     "metadata": {
      "engine": 0
     },
     "output_type": "display_data"
    },
    {
     "data": {
      "text/plain": [
       "[output:0]"
      ]
     },
     "metadata": {},
     "output_type": "display_data"
    },
    {
     "data": {
      "application/vnd.jupyter.widget-view+json": {
       "model_id": "8211b29352f74caca8b6d40de49a5f65",
       "version_major": 2,
       "version_minor": 0
      },
      "text/plain": [
       "[2025-01-15 11:06:41] rho/Z inversion chunk 74/1815:   0%|          | 0/287 [00:00<?, ?voxel/s]"
      ]
     },
     "metadata": {
      "engine": 0
     },
     "output_type": "display_data"
    },
    {
     "data": {
      "text/plain": [
       "[output:0]"
      ]
     },
     "metadata": {},
     "output_type": "display_data"
    },
    {
     "data": {
      "application/vnd.jupyter.widget-view+json": {
       "model_id": "b7a51d67aa684660ba918b9fa86d6440",
       "version_major": 2,
       "version_minor": 0
      },
      "text/plain": [
       "[2025-01-15 11:06:44] rho/Z inversion chunk 78/1815:   0%|          | 0/6150 [00:00<?, ?voxel/s]"
      ]
     },
     "metadata": {
      "engine": 0
     },
     "output_type": "display_data"
    },
    {
     "data": {
      "text/plain": [
       "[output:0]"
      ]
     },
     "metadata": {},
     "output_type": "display_data"
    },
    {
     "data": {
      "application/vnd.jupyter.widget-view+json": {
       "model_id": "d4bf994a49b64847bd0430dd213d4e5c",
       "version_major": 2,
       "version_minor": 0
      },
      "text/plain": [
       "[2025-01-15 11:07:03] rho/Z inversion chunk 79/1815:   0%|          | 0/39278 [00:00<?, ?voxel/s]"
      ]
     },
     "metadata": {
      "engine": 0
     },
     "output_type": "display_data"
    },
    {
     "data": {
      "text/plain": [
       "[output:0]"
      ]
     },
     "metadata": {},
     "output_type": "display_data"
    },
    {
     "data": {
      "application/vnd.jupyter.widget-view+json": {
       "model_id": "50ae9a303b454a07ada440bfc4308c86",
       "version_major": 2,
       "version_minor": 0
      },
      "text/plain": [
       "[2025-01-15 11:09:05] rho/Z inversion chunk 81/1815:   0%|          | 0/12152 [00:00<?, ?voxel/s]"
      ]
     },
     "metadata": {
      "engine": 0
     },
     "output_type": "display_data"
    },
    {
     "data": {
      "text/plain": [
       "[output:0]"
      ]
     },
     "metadata": {},
     "output_type": "display_data"
    },
    {
     "data": {
      "application/vnd.jupyter.widget-view+json": {
       "model_id": "7553d12feda34a888642b5ff426c000a",
       "version_major": 2,
       "version_minor": 0
      },
      "text/plain": [
       "[2025-01-15 11:09:42] rho/Z inversion chunk 82/1815:   0%|          | 0/17546 [00:00<?, ?voxel/s]"
      ]
     },
     "metadata": {
      "engine": 0
     },
     "output_type": "display_data"
    },
    {
     "data": {
      "text/plain": [
       "[output:0]"
      ]
     },
     "metadata": {},
     "output_type": "display_data"
    },
    {
     "data": {
      "application/vnd.jupyter.widget-view+json": {
       "model_id": "2e78e8daf37b4a00a2912bd8846a80d8",
       "version_major": 2,
       "version_minor": 0
      },
      "text/plain": [
       "[2025-01-15 11:10:27] rho/Z inversion chunk 83/1815:   0%|          | 0/1643 [00:00<?, ?voxel/s]"
      ]
     },
     "metadata": {
      "engine": 0
     },
     "output_type": "display_data"
    },
    {
     "data": {
      "text/plain": [
       "[output:0]"
      ]
     },
     "metadata": {},
     "output_type": "display_data"
    },
    {
     "data": {
      "application/vnd.jupyter.widget-view+json": {
       "model_id": "bc67c800e9844a85a527c98694949ce6",
       "version_major": 2,
       "version_minor": 0
      },
      "text/plain": [
       "[2025-01-15 11:10:33] rho/Z inversion chunk 84/1815:   0%|          | 0/18573 [00:00<?, ?voxel/s]"
      ]
     },
     "metadata": {
      "engine": 0
     },
     "output_type": "display_data"
    },
    {
     "data": {
      "text/plain": [
       "[output:0]"
      ]
     },
     "metadata": {},
     "output_type": "display_data"
    },
    {
     "data": {
      "application/vnd.jupyter.widget-view+json": {
       "model_id": "d377ffd744294b488e11039cbee218c9",
       "version_major": 2,
       "version_minor": 0
      },
      "text/plain": [
       "[2025-01-15 11:11:15] rho/Z inversion chunk 85/1815:   0%|          | 0/24754 [00:00<?, ?voxel/s]"
      ]
     },
     "metadata": {
      "engine": 0
     },
     "output_type": "display_data"
    },
    {
     "data": {
      "text/plain": [
       "[output:0]"
      ]
     },
     "metadata": {},
     "output_type": "display_data"
    },
    {
     "data": {
      "application/vnd.jupyter.widget-view+json": {
       "model_id": "bf55ea3e58e14979a97fe0c38efcd15c",
       "version_major": 2,
       "version_minor": 0
      },
      "text/plain": [
       "[2025-01-15 11:12:19] rho/Z inversion chunk 103/1815:   0%|          | 0/4985 [00:00<?, ?voxel/s]"
      ]
     },
     "metadata": {
      "engine": 0
     },
     "output_type": "display_data"
    },
    {
     "data": {
      "text/plain": [
       "[output:0]"
      ]
     },
     "metadata": {},
     "output_type": "display_data"
    },
    {
     "data": {
      "application/vnd.jupyter.widget-view+json": {
       "model_id": "8f8a931982f14abaae2c3de423ff6d7f",
       "version_major": 2,
       "version_minor": 0
      },
      "text/plain": [
       "[2025-01-15 11:12:32] rho/Z inversion chunk 104/1815:   0%|          | 0/17505 [00:00<?, ?voxel/s]"
      ]
     },
     "metadata": {
      "engine": 0
     },
     "output_type": "display_data"
    },
    {
     "data": {
      "text/plain": [
       "[output:0]"
      ]
     },
     "metadata": {},
     "output_type": "display_data"
    },
    {
     "data": {
      "application/vnd.jupyter.widget-view+json": {
       "model_id": "6ae541655cdd4399a8853360425bcbb7",
       "version_major": 2,
       "version_minor": 0
      },
      "text/plain": [
       "[2025-01-15 11:13:17] rho/Z inversion chunk 146/1815:   0%|          | 0/34350 [00:00<?, ?voxel/s]"
      ]
     },
     "metadata": {
      "engine": 0
     },
     "output_type": "display_data"
    },
    {
     "data": {
      "text/plain": [
       "[output:0]"
      ]
     },
     "metadata": {},
     "output_type": "display_data"
    },
    {
     "data": {
      "application/vnd.jupyter.widget-view+json": {
       "model_id": "40965263f9484b9e86e7f78191e33b11",
       "version_major": 2,
       "version_minor": 0
      },
      "text/plain": [
       "[2025-01-15 11:14:50] rho/Z inversion chunk 147/1815:   0%|          | 0/99150 [00:00<?, ?voxel/s]"
      ]
     },
     "metadata": {
      "engine": 0
     },
     "output_type": "display_data"
    },
    {
     "name": "stderr",
     "output_type": "stream",
     "text": [
      "Received Keyboard Interrupt. Sending signal SIGINT to engines...\n"
     ]
    }
   ],
   "source": [
    "%%px --block --group-outputs=type\n",
    "\n",
    "import rockverse as rv\n",
    "dectgroup = rv.open('/estgf_dados/P_D/GOB7/testemunhos/C04B21.zarr')\n",
    "dectgroup.run()"
   ]
  }
 ],
 "metadata": {
  "kernelspec": {
   "display_name": "rockverse",
   "language": "python",
   "name": "python3"
  },
  "language_info": {
   "codemirror_mode": {
    "name": "ipython",
    "version": 3
   },
   "file_extension": ".py",
   "mimetype": "text/x-python",
   "name": "python",
   "nbconvert_exporter": "python",
   "pygments_lexer": "ipython3",
   "version": "3.12.8"
  }
 },
 "nbformat": 4,
 "nbformat_minor": 2
}
