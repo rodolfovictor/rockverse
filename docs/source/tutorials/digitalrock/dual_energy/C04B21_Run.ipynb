{
 "cells": [
  {
   "cell_type": "markdown",
   "metadata": {},
   "source": [
    "Dual energy carbonate CT\n",
    "========================\n",
    "\n",
    "test\n"
   ]
  },
  {
   "cell_type": "code",
   "execution_count": null,
   "metadata": {},
   "outputs": [],
   "source": [
    "'''import ipyparallel as ipp\n",
    "cluster = ipp.Cluster(engines=\"mpi\", n=8)\n",
    "rc = cluster.start_and_connect_sync()\n",
    "rc[:].activate() # enable magics'''"
   ]
  },
  {
   "cell_type": "code",
   "execution_count": null,
   "metadata": {},
   "outputs": [],
   "source": [
    "'''%%px --block --group-outputs=type\n",
    "\n",
    "import rockverse as rv\n",
    "dectgroup = rv.open('/estgf_dados/P_D/GOB7/testemunhos/C04B21.zarr')\n",
    "#dectgroup.run()'''"
   ]
  },
  {
   "cell_type": "code",
   "execution_count": null,
   "metadata": {},
   "outputs": [],
   "source": [
    "'''%%px --block --group-outputs=type\n",
    "%matplotlib ipympl\n",
    "rv.OrthogonalViewer(dectgroup.rho_p50,\n",
    "                    mask=dectgroup.mask,\n",
    "                    image_dict={'cmap': 'cubehelix'},\n",
    "                    segmentation=dectgroup.segmentation,\n",
    "                    )'''"
   ]
  }
 ],
 "metadata": {
  "kernelspec": {
   "display_name": "rockverse",
   "language": "python",
   "name": "python3"
  },
  "language_info": {
   "codemirror_mode": {
    "name": "ipython",
    "version": 3
   },
   "file_extension": ".py",
   "mimetype": "text/x-python",
   "name": "python",
   "nbconvert_exporter": "python",
   "pygments_lexer": "ipython3",
   "version": "3.12.8"
  }
 },
 "nbformat": 4,
 "nbformat_minor": 2
}
