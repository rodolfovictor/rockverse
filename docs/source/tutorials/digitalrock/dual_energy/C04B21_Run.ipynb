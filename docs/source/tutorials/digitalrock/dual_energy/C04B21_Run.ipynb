{
 "cells": [
  {
   "cell_type": "markdown",
   "metadata": {},
   "source": [
    "Dual energy carbonate CT\n",
    "========================\n",
    "\n",
    "test\n"
   ]
  },
  {
   "cell_type": "code",
   "execution_count": 1,
   "metadata": {},
   "outputs": [
    {
     "name": "stdout",
     "output_type": "stream",
     "text": [
      "Starting 2 engines with <class 'ipyparallel.cluster.launcher.MPIEngineSetLauncher'>\n"
     ]
    },
    {
     "data": {
      "application/vnd.jupyter.widget-view+json": {
       "model_id": "37809c25dd474c38a5159f2d11167501",
       "version_major": 2,
       "version_minor": 0
      },
      "text/plain": [
       "  0%|          | 0/2 [00:00<?, ?engine/s]"
      ]
     },
     "metadata": {},
     "output_type": "display_data"
    }
   ],
   "source": [
    "import ipyparallel as ipp\n",
    "cluster = ipp.Cluster(engines=\"mpi\", n=2)\n",
    "rc = cluster.start_and_connect_sync()\n",
    "rc[:].activate() # enable magics"
   ]
  },
  {
   "cell_type": "code",
   "execution_count": null,
   "metadata": {},
   "outputs": [
    {
     "data": {
      "application/vnd.jupyter.widget-view+json": {
       "model_id": "b75e2b032a0c485db65bcb58133963ff",
       "version_major": 2,
       "version_minor": 0
      },
      "text/plain": [
       "%px:   0%|          | 0/2 [00:00<?, ?tasks/s]"
      ]
     },
     "metadata": {},
     "output_type": "display_data"
    },
    {
     "data": {
      "text/plain": [
       "[output:1]"
      ]
     },
     "metadata": {},
     "output_type": "display_data"
    },
    {
     "data": {
      "application/vnd.jupyter.widget-view+json": {
       "model_id": "45cd02e53b6e4df4b59116d4b6e57280",
       "version_major": 2,
       "version_minor": 0
      },
      "text/plain": [
       "[2025-01-10 15:55:16] Hashing High attenuation:   0%|          | 0/512 [00:00<?, ?line/s]"
      ]
     },
     "metadata": {
      "engine": 1
     },
     "output_type": "display_data"
    },
    {
     "data": {
      "text/plain": [
       "[output:0]"
      ]
     },
     "metadata": {},
     "output_type": "display_data"
    },
    {
     "data": {
      "application/vnd.jupyter.widget-view+json": {
       "model_id": "120169b431704bf18f22e304cc41e2d8",
       "version_major": 2,
       "version_minor": 0
      },
      "text/plain": [
       "[2025-01-10 15:55:16] Hashing Low attenuation:   0%|          | 0/512 [00:00<?, ?line/s]"
      ]
     },
     "metadata": {
      "engine": 0
     },
     "output_type": "display_data"
    },
    {
     "data": {
      "text/plain": [
       "[output:0]"
      ]
     },
     "metadata": {},
     "output_type": "display_data"
    },
    {
     "data": {
      "application/vnd.jupyter.widget-view+json": {
       "model_id": "d86e3f05d9a842949275d0169998008f",
       "version_major": 2,
       "version_minor": 0
      },
      "text/plain": [
       "[2025-01-10 15:55:20] Hashing mask:   0%|          | 0/512 [00:00<?, ?line/s]"
      ]
     },
     "metadata": {
      "engine": 0
     },
     "output_type": "display_data"
    },
    {
     "data": {
      "text/plain": [
       "[output:1]"
      ]
     },
     "metadata": {},
     "output_type": "display_data"
    },
    {
     "data": {
      "application/vnd.jupyter.widget-view+json": {
       "model_id": "83dc0e5f046844fbbf936cfc903e257a",
       "version_major": 2,
       "version_minor": 0
      },
      "text/plain": [
       "[2025-01-10 15:55:20] Hashing segmentation:   0%|          | 0/512 [00:00<?, ?line/s]"
      ]
     },
     "metadata": {
      "engine": 1
     },
     "output_type": "display_data"
    },
    {
     "data": {
      "text/plain": [
       "[stdout:0] [2025-01-10 15:55:22] lowEhistogram up to date.\n",
       "[2025-01-10 15:55:22] highEhistogram up to date.\n",
       "[2025-01-10 15:55:22] Gaussian coefficients for calibration histograms:\n",
       "                             A_lowE      mu_lowE  sigma_lowE      A_highE     mu_highE  sigma_highE\n",
       "Calibration material 0  2606.146860  -996.872234   34.262505  3922.015062  -995.500464    21.659062\n",
       "Calibration material 1  1917.651724   -30.690095   37.429787  2682.439552   -24.621953    25.757539\n",
       "Calibration material 2   830.770845  1641.109997   37.144476  1118.550542  1412.714555    23.084855\n",
       "Calibration material 3  1509.236392  1117.703237   47.499800  1869.679812  1058.840342    35.922665\n",
       "[2025-01-10 15:55:22] Calibration matrices up to date.\n"
      ]
     },
     "metadata": {},
     "output_type": "display_data"
    },
    {
     "data": {
      "text/plain": [
       "[output:0]"
      ]
     },
     "metadata": {},
     "output_type": "display_data"
    },
    {
     "data": {
      "application/vnd.jupyter.widget-view+json": {
       "model_id": "9b180a7f31334ebca7ef8636f127bab9",
       "version_major": 2,
       "version_minor": 0
      },
      "text/plain": [
       "[2025-01-10 15:55:33] rho/Z inversion:   0%|          | 0/256 [00:00<?, ?chunk/s]"
      ]
     },
     "metadata": {
      "engine": 0
     },
     "output_type": "display_data"
    },
    {
     "data": {
      "text/plain": [
       "[output:0]"
      ]
     },
     "metadata": {},
     "output_type": "display_data"
    },
    {
     "data": {
      "application/vnd.jupyter.widget-view+json": {
       "model_id": "8fcc7dd1f81b48359759f4bc6592dbb2",
       "version_major": 2,
       "version_minor": 0
      },
      "text/plain": [
       "[2025-01-10 15:55:57] rho/Z inversion chunk 74/256:   0%|          | 0/80 [00:00<?, ?voxel/s]"
      ]
     },
     "metadata": {
      "engine": 0
     },
     "output_type": "display_data"
    },
    {
     "data": {
      "text/plain": [
       "[output:0]"
      ]
     },
     "metadata": {},
     "output_type": "display_data"
    },
    {
     "data": {
      "application/vnd.jupyter.widget-view+json": {
       "model_id": "8aa25011451449fc9546f9282b245477",
       "version_major": 2,
       "version_minor": 0
      },
      "text/plain": [
       "[2025-01-10 15:56:22] rho/Z inversion chunk 75/256:   0%|          | 0/5375 [00:00<?, ?voxel/s]"
      ]
     },
     "metadata": {
      "engine": 0
     },
     "output_type": "display_data"
    }
   ],
   "source": [
    "%%px --block --group-outputs=type\n",
    "\n",
    "import rockverse as rv\n",
    "dectgroup = rv.open(r'E:/path/to/dual_energy_ct/C04B21')\n",
    "dectgroup.run()"
   ]
  }
 ],
 "metadata": {
  "kernelspec": {
   "display_name": "rockverse-env",
   "language": "python",
   "name": "python3"
  },
  "language_info": {
   "codemirror_mode": {
    "name": "ipython",
    "version": 3
   },
   "file_extension": ".py",
   "mimetype": "text/x-python",
   "name": "python",
   "nbconvert_exporter": "python",
   "pygments_lexer": "ipython3",
   "version": "3.12.8"
  }
 },
 "nbformat": 4,
 "nbformat_minor": 2
}
