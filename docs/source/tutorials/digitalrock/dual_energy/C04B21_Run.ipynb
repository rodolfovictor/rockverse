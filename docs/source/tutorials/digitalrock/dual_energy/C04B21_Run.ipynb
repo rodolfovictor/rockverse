{
 "cells": [
  {
   "cell_type": "markdown",
   "metadata": {},
   "source": [
    "Dual energy carbonate CT\n",
    "========================\n",
    "\n",
    "test\n"
   ]
  },
  {
   "cell_type": "code",
   "execution_count": 1,
   "metadata": {},
   "outputs": [
    {
     "name": "stdout",
     "output_type": "stream",
     "text": [
      "Starting 8 engines with <class 'ipyparallel.cluster.launcher.MPIEngineSetLauncher'>\n"
     ]
    },
    {
     "data": {
      "application/vnd.jupyter.widget-view+json": {
       "model_id": "25c0ee97c1df40a69ba74e78137b59ee",
       "version_major": 2,
       "version_minor": 0
      },
      "text/plain": [
       "  0%|          | 0/8 [00:00<?, ?engine/s]"
      ]
     },
     "metadata": {},
     "output_type": "display_data"
    }
   ],
   "source": [
    "import ipyparallel as ipp\n",
    "\n",
    "# Create an MPI cluster with 8 engines\n",
    "cluster = ipp.Cluster(engines=\"mpi\", n=8)\n",
    "\n",
    "# Start and connect to the cluster\n",
    "rc = cluster.start_and_connect_sync()\n",
    "\n",
    "# Enable IPython magics for parallel processing\n",
    "rc[:].activate()"
   ]
  },
  {
   "cell_type": "code",
   "execution_count": null,
   "metadata": {},
   "outputs": [
    {
     "data": {
      "application/vnd.jupyter.widget-view+json": {
       "model_id": "ba47e3b0243a48189801d086b1eafb09",
       "version_major": 2,
       "version_minor": 0
      },
      "text/plain": [
       "%px:   0%|          | 0/8 [00:00<?, ?tasks/s]"
      ]
     },
     "metadata": {},
     "output_type": "display_data"
    },
    {
     "data": {
      "text/plain": [
       "[stdout:0] [2025-02-19 16:52:52] Hashing Low attenuation: 100% 16/16 [00:00<00:00, 60.80chunk/s]\n",
       "[2025-02-19 16:52:52] Hashing High attenuation: 100% 16/16 [00:00<00:00, 64.42chunk/s]\n",
       "[2025-02-19 16:52:52] Hashing mask: 100% 16/16 [00:00<00:00, 205.59chunk/s]\n",
       "[2025-02-19 16:52:52] Hashing segmentation: 100% 16/16 [00:00<00:00, 232.82chunk/s]\n",
       "[2025-02-19 16:52:53] Calibration matrices up to date.\n",
       "[2025-02-19 16:52:55] Counting voxels: 100% 16/16 [00:03<00:00,  4.25chunk/s]\n",
       "[2025-02-19 16:52:59] rho/Z inversion (chunk 5/16):   2% 52178/3387382 [03:37<3:46:04, 245.88voxel/s]"
      ]
     },
     "metadata": {},
     "output_type": "display_data"
    }
   ],
   "source": [
    "%%px --block\n",
    "import rockverse as rv\n",
    "dectgroup = rv.open('/estgf_dados/P_D/GOB7/testemunhos/C04B21_DGX')\n",
    "dectgroup.run()"
   ]
  }
 ],
 "metadata": {
  "kernelspec": {
   "display_name": "rockverse-zarr3",
   "language": "python",
   "name": "python3"
  },
  "language_info": {
   "codemirror_mode": {
    "name": "ipython",
    "version": 3
   },
   "file_extension": ".py",
   "mimetype": "text/x-python",
   "name": "python",
   "nbconvert_exporter": "python",
   "pygments_lexer": "ipython3",
   "version": "3.12.8"
  }
 },
 "nbformat": 4,
 "nbformat_minor": 2
}
