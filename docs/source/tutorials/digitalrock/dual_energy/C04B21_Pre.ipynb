{
 "cells": [
  {
   "cell_type": "markdown",
   "metadata": {},
   "source": [
    "# Preprocessing Dual Energy Carbonate CT Data\n",
    "\n",
    "Before running the Monte Carlo inversion, we need to perform some pre-configurations. \n",
    "In this tutorial, we will process this data directly within the Jupyter Notebook, \n",
    "in a parallel MPI environment using [ipyparallel](https://ipyparallel.readthedocs.io/).\n",
    "\n",
    "Let's first create a cluster with a set of 5 MPI engines:"
   ]
  },
  {
   "cell_type": "code",
   "execution_count": 1,
   "metadata": {},
   "outputs": [
    {
     "name": "stdout",
     "output_type": "stream",
     "text": [
      "Starting 5 engines with <class 'ipyparallel.cluster.launcher.MPIEngineSetLauncher'>\n"
     ]
    },
    {
     "data": {
      "application/vnd.jupyter.widget-view+json": {
       "model_id": "c1a3472685eb47e1936c2e47ed9fb38b",
       "version_major": 2,
       "version_minor": 0
      },
      "text/plain": [
       "  0%|          | 0/5 [00:00<?, ?engine/s]"
      ]
     },
     "metadata": {},
     "output_type": "display_data"
    }
   ],
   "source": [
    "import ipyparallel as ipp\n",
    "\n",
    "# Create an MPI cluster with 5 engines\n",
    "cluster = ipp.Cluster(engines=\"mpi\", n=5)\n",
    "\n",
    "# Start and connect to the cluster\n",
    "rc = cluster.start_and_connect_sync()\n",
    "\n",
    "# Enable IPython magics for parallel processing\n",
    "rc[:].activate()"
   ]
  },
  {
   "cell_type": "markdown",
   "metadata": {},
   "source": [
    "This will enable the `%%px` \n",
    "[cell magic](https://ipyparallel.readthedocs.io/en/latest/examples/Parallel%20Magics.html#px-cell-magic), \n",
    "which allows RockVerse to perform parallel processing interactively within this Jupyter notebook.\n",
    "\n",
    "Let's create the dual energy group and import the \n",
    "[raw images we downloaded from the Digital Rocks Portal](../sample_data/import_C04B21_dualenergy.ipynb):"
   ]
  },
  {
   "cell_type": "code",
   "execution_count": null,
   "metadata": {},
   "outputs": [
    {
     "data": {
      "text/plain": [
       "[stdout:0] [2025-02-17 12:26:50] Copying: 100% 8/8 [00:02<00:00,  3.26chunk/s]\n",
       "[2025-02-17 12:26:53] Copying: 100% 8/8 [00:02<00:00,  3.25chunk/s]\n",
       "Calibration material 3:\n",
       "    - =====> Missing description.\n",
       "    - =====> Missing lowE_pdf.\n",
       "    - =====> Missing highE_pdf.\n",
       "    - =====> Missing bulk_density.\n",
       "    - =====> Missing composition.\n"
      ]
     },
     "metadata": {},
     "output_type": "display_data"
    },
    {
     "data": {
      "application/vnd.jupyter.widget-view+json": {
       "model_id": "2f935e77e11448d0b61003d923a66338",
       "version_major": 2,
       "version_minor": 0
      },
      "text/plain": [
       "%px:   0%|          | 0/5 [00:00<?, ?tasks/s]"
      ]
     },
     "metadata": {},
     "output_type": "display_data"
    },
    {
     "data": {
      "text/plain": [
       "[stdout:2] Calibration material 3:\n",
       "    - =====> Missing description.\n",
       "    - =====> Missing lowE_pdf.\n",
       "    - =====> Missing highE_pdf.\n",
       "    - =====> Missing bulk_density.\n",
       "    - =====> Missing composition.\n"
      ]
     },
     "metadata": {},
     "output_type": "display_data"
    },
    {
     "data": {
      "text/plain": [
       "[stdout:4] Calibration material 3:\n",
       "    - =====> Missing description.\n",
       "    - =====> Missing lowE_pdf.\n",
       "    - =====> Missing highE_pdf.\n",
       "    - =====> Missing bulk_density.\n",
       "    - =====> Missing composition.\n"
      ]
     },
     "metadata": {},
     "output_type": "display_data"
    },
    {
     "data": {
      "text/plain": [
       "[stdout:3] Calibration material 3:\n",
       "    - =====> Missing description.\n",
       "    - =====> Missing lowE_pdf.\n",
       "    - =====> Missing highE_pdf.\n",
       "    - =====> Missing bulk_density.\n",
       "    - =====> Missing composition.\n"
      ]
     },
     "metadata": {},
     "output_type": "display_data"
    },
    {
     "data": {
      "text/plain": [
       "[stdout:1] Calibration material 3:\n",
       "    - =====> Missing description.\n",
       "    - =====> Missing lowE_pdf.\n",
       "    - =====> Missing highE_pdf.\n",
       "    - =====> Missing bulk_density.\n",
       "    - =====> Missing composition.\n"
      ]
     },
     "metadata": {},
     "output_type": "display_data"
    }
   ],
   "source": [
    "%%px --block\n",
    "\n",
    "#-------------- TROCAR CHUNK SHAPE -------#\n",
    "import matplotlib.pyplot as plt\n",
    "from IPython.display import display\n",
    "import rockverse as rv\n",
    "\n",
    "# Create the Dual Energy CT group\n",
    "dectgroup = rv.dualenergyct.create_group(\n",
    "    #store='/path/to/dual_energy_ct/C04B21',\n",
    "    store='/estgf_dados/P_D/GOB7/testemunhos/C04B21_DGX',\n",
    "    overwrite=True)\n",
    "\n",
    "# Copy the low energy CT image\n",
    "dectgroup.copy_image(\n",
    "    #image=rv.open(store='/path/to/imported/dual_energy_carbonate/C04B21Raw100keV'),\n",
    "    image=rv.open(store='/estgf_dados/P_D/GOB7/testemunhos/C04B21Raw100keV.zarr'),\n",
    "    name='lowECT',\n",
    "    overwrite=True)\n",
    "\n",
    "# Copy the high energy CT image\n",
    "dectgroup.copy_image(\n",
    "    #image=rv.open(store='/path/to/imported/dual_energy_carbonate/C04B21Raw140keV'),\n",
    "    image=rv.open(store='/estgf_dados/P_D/GOB7/testemunhos/C04B21Raw140keV.zarr'),\n",
    "    name='highECT',\n",
    "    overwrite=True)\n"
   ]
  },
  {
   "cell_type": "markdown",
   "metadata": {},
   "source": [
    "Now, let's take a quick look at the data using the orthogonal viewer:"
   ]
  },
  {
   "cell_type": "code",
   "execution_count": null,
   "metadata": {},
   "outputs": [
    {
     "name": "stderr",
     "output_type": "stream",
     "text": [
      "[0:execute]\n",
      "\u001b[0;31m---------------------------------------------------------------------------\u001b[0m\n",
      "\u001b[0;31mNameError\u001b[0m                                 Traceback (most recent call last)\n",
      "Cell \u001b[0;32mIn[2], line 1\u001b[0m\n",
      "\u001b[0;32m----> 1\u001b[0m \u001b[43msdf\u001b[49m\n",
      "\u001b[1;32m      2\u001b[0m \u001b[38;5;66;03m# Create orthogonal viewers for low and high energy images\u001b[39;00m\n",
      "\u001b[1;32m      3\u001b[0m \u001b[38;5;66;03m#lowE_viewer = rv.OrthogonalViewer(image=dectgroup.lowECT)\u001b[39;00m\n",
      "\u001b[1;32m      4\u001b[0m \u001b[38;5;66;03m#highE_viewer = rv.OrthogonalViewer(image=dectgroup.highECT)\u001b[39;00m\n",
      "\u001b[0;32m   (...)\u001b[0m\n",
      "\u001b[1;32m      8\u001b[0m \u001b[38;5;66;03m#    plt.close(lowE_viewer.figure)\u001b[39;00m\n",
      "\u001b[1;32m      9\u001b[0m \u001b[38;5;66;03m#    plt.close(highE_viewer.figure)\u001b[39;00m\n",
      "\n",
      "\u001b[0;31mNameError\u001b[0m: name 'sdf' is not defined\n",
      "[4:execute]\n",
      "\u001b[0;31m---------------------------------------------------------------------------\u001b[0m\n",
      "\u001b[0;31mNameError\u001b[0m                                 Traceback (most recent call last)\n",
      "Cell \u001b[0;32mIn[2], line 1\u001b[0m\n",
      "\u001b[0;32m----> 1\u001b[0m \u001b[43msdf\u001b[49m\n",
      "\u001b[1;32m      2\u001b[0m \u001b[38;5;66;03m# Create orthogonal viewers for low and high energy images\u001b[39;00m\n",
      "\u001b[1;32m      3\u001b[0m \u001b[38;5;66;03m#lowE_viewer = rv.OrthogonalViewer(image=dectgroup.lowECT)\u001b[39;00m\n",
      "\u001b[1;32m      4\u001b[0m \u001b[38;5;66;03m#highE_viewer = rv.OrthogonalViewer(image=dectgroup.highECT)\u001b[39;00m\n",
      "\u001b[0;32m   (...)\u001b[0m\n",
      "\u001b[1;32m      8\u001b[0m \u001b[38;5;66;03m#    plt.close(lowE_viewer.figure)\u001b[39;00m\n",
      "\u001b[1;32m      9\u001b[0m \u001b[38;5;66;03m#    plt.close(highE_viewer.figure)\u001b[39;00m\n",
      "\n",
      "\u001b[0;31mNameError\u001b[0m: name 'sdf' is not defined\n",
      "[1:execute]\n",
      "\u001b[0;31m---------------------------------------------------------------------------\u001b[0m\n",
      "\u001b[0;31mNameError\u001b[0m                                 Traceback (most recent call last)\n",
      "Cell \u001b[0;32mIn[2], line 1\u001b[0m\n",
      "\u001b[0;32m----> 1\u001b[0m \u001b[43msdf\u001b[49m\n",
      "\u001b[1;32m      2\u001b[0m \u001b[38;5;66;03m# Create orthogonal viewers for low and high energy images\u001b[39;00m\n",
      "\u001b[1;32m      3\u001b[0m \u001b[38;5;66;03m#lowE_viewer = rv.OrthogonalViewer(image=dectgroup.lowECT)\u001b[39;00m\n",
      "\u001b[1;32m      4\u001b[0m \u001b[38;5;66;03m#highE_viewer = rv.OrthogonalViewer(image=dectgroup.highECT)\u001b[39;00m\n",
      "\u001b[0;32m   (...)\u001b[0m\n",
      "\u001b[1;32m      8\u001b[0m \u001b[38;5;66;03m#    plt.close(lowE_viewer.figure)\u001b[39;00m\n",
      "\u001b[1;32m      9\u001b[0m \u001b[38;5;66;03m#    plt.close(highE_viewer.figure)\u001b[39;00m\n",
      "\n",
      "\u001b[0;31mNameError\u001b[0m: name 'sdf' is not defined\n",
      "[3:execute]\n",
      "\u001b[0;31m---------------------------------------------------------------------------\u001b[0m\n",
      "\u001b[0;31mNameError\u001b[0m                                 Traceback (most recent call last)\n",
      "Cell \u001b[0;32mIn[2], line 1\u001b[0m\n",
      "\u001b[0;32m----> 1\u001b[0m \u001b[43msdf\u001b[49m\n",
      "\u001b[1;32m      2\u001b[0m \u001b[38;5;66;03m# Create orthogonal viewers for low and high energy images\u001b[39;00m\n",
      "\u001b[1;32m      3\u001b[0m \u001b[38;5;66;03m#lowE_viewer = rv.OrthogonalViewer(image=dectgroup.lowECT)\u001b[39;00m\n",
      "\u001b[1;32m      4\u001b[0m \u001b[38;5;66;03m#highE_viewer = rv.OrthogonalViewer(image=dectgroup.highECT)\u001b[39;00m\n",
      "\u001b[0;32m   (...)\u001b[0m\n",
      "\u001b[1;32m      8\u001b[0m \u001b[38;5;66;03m#    plt.close(lowE_viewer.figure)\u001b[39;00m\n",
      "\u001b[1;32m      9\u001b[0m \u001b[38;5;66;03m#    plt.close(highE_viewer.figure)\u001b[39;00m\n",
      "\n",
      "\u001b[0;31mNameError\u001b[0m: name 'sdf' is not defined\n",
      "[2:execute] NameError: name 'sdf' is not defined\n"
     ]
    },
    {
     "ename": "AlreadyDisplayedError",
     "evalue": "5 errors",
     "output_type": "error",
     "traceback": [
      "5 errors"
     ]
    }
   ],
   "source": [
    "%%px --block\n",
    "\n",
    "# Create orthogonal viewers for low and high energy images\n",
    "#lowE_viewer = rv.OrthogonalViewer(image=dectgroup.lowECT)\n",
    "#highE_viewer = rv.OrthogonalViewer(image=dectgroup.highECT)\n",
    "\n",
    "#Each process will create it's own repeated image, let's close all but rank zero:\n",
    "#if rv.config.mpi_rank != 0:\n",
    "#    plt.close(lowE_viewer.figure)\n",
    "#    plt.close(highE_viewer.figure)\n"
   ]
  },
  {
   "cell_type": "markdown",
   "metadata": {},
   "source": [
    "## Building the segmentation and mask images\n",
    "\n",
    "We could use the ``copy_image`` method to bring segmentation and mask images into the ``dectgroup``, similar to what we just did with the X-ray tomograms (see the method documentation for details).\n",
    "\n",
    "A segmentation image is used to inform RockVerse about the spatial location of the standard materials for histogram calculations and can be used to perform inversion only at selected segmentation phases. The mask image in the ``dectgroup`` will instruct RockVerse to ignore masked voxels during the inversion process.\n",
    "\n",
    "While the segmentation image is not available in the Digital Rocks Portal, the rock sample and the standard materials are fairly aligned with the image's z-axis. Let's quickly build a segmentation image using RockVerse's cylindrical regions.\n",
    "\n",
    "A little trial and error is all it takes in this case:\n",
    "\n",
    "### Air region"
   ]
  },
  {
   "cell_type": "code",
   "execution_count": null,
   "metadata": {},
   "outputs": [],
   "source": [
    "%%px --block --group-outputs=type\n",
    "\n",
    "#Adjusting viewer properties will help us in this task\n",
    "#highE_viewer.figure.set_size_inches(10, 10)\n",
    "#highE_viewer.update_image_dict(clim=(-1200, 3000))\n",
    "#highE_viewer.mask_color = 'gold'\n",
    "#highE_viewer.mask_alpha = 0.5\n",
    "\n",
    "#This is the final cylindrical region for probing air attenuation\n",
    "air_region = rv.region.Cylinder(p=(126, 20, 461), v=(0, 0, 1), r=10, l=750)\n",
    "\n",
    "# Set the region in the viewer and visualize the result\n",
    "#highE_viewer.region = air_region\n",
    "\n",
    "#Changing region rebuilds the histogram. Let's set the scale again\n",
    "#highE_viewer.ax_histogram.set_xlim(-1250, 3050)\n",
    "\n",
    "# Only display the figure for rank 0\n",
    "#if rv.config.mpi_rank == 0:\n",
    "#    display(highE_viewer.figure)"
   ]
  },
  {
   "cell_type": "markdown",
   "metadata": {},
   "source": [
    "### Water region"
   ]
  },
  {
   "cell_type": "code",
   "execution_count": null,
   "metadata": {},
   "outputs": [],
   "source": [
    "%%px --block --group-outputs=type\n",
    "\n",
    "#Final water region\n",
    "water_region = rv.region.Cylinder(p=(55, 176.2, 461), v=(0, 0, 1), r=10, l=900)\n",
    "\n",
    "#Adjust the viewer and display for rank 0\n",
    "#highE_viewer.region = water_region\n",
    "#highE_viewer.ref_point = water_region.p\n",
    "#highE_viewer.ax_histogram.set_xlim(-1250, 3050)\n",
    "\n",
    "#if rv.config.mpi_rank == 0:\n",
    "#    display(highE_viewer.figure)"
   ]
  },
  {
   "cell_type": "markdown",
   "metadata": {},
   "source": [
    "### Teflon region"
   ]
  },
  {
   "cell_type": "code",
   "execution_count": null,
   "metadata": {},
   "outputs": [],
   "source": [
    "%%px --block --group-outputs=type\n",
    "\n",
    "#Final teflon region\n",
    "teflon_region = rv.region.Cylinder(p=(124.7, 228, 461), v=(0, 0, 1), r=6.5, l=900)\n",
    "\n",
    "#Adjust the viewer and display for rank 0\n",
    "#highE_viewer.region = teflon_region\n",
    "#highE_viewer.ref_point = teflon_region.p\n",
    "#highE_viewer.ax_histogram.set_xlim(-1250, 3050)\n",
    "\n",
    "#if rv.config.mpi_rank == 0:\n",
    "#    display(highE_viewer.figure)"
   ]
  },
  {
   "cell_type": "markdown",
   "metadata": {},
   "source": [
    "### Silica region"
   ]
  },
  {
   "cell_type": "code",
   "execution_count": null,
   "metadata": {},
   "outputs": [],
   "source": [
    "%%px --block --group-outputs=type\n",
    "\n",
    "#Final silica region\n",
    "silica_region = rv.region.Cylinder(p=(196, 179, 461), v=(0, 0, 1), r=8.5, l=900)\n",
    "\n",
    "#Adjust the viewer and display for rank 0\n",
    "#highE_viewer.region = silica_region\n",
    "#highE_viewer.ref_point = silica_region.p\n",
    "#highE_viewer.ax_histogram.set_xlim(-1250, 3050)\n",
    "\n",
    "#if rv.config.mpi_rank == 0:\n",
    "#    display(highE_viewer.figure)"
   ]
  },
  {
   "cell_type": "markdown",
   "metadata": {},
   "source": [
    "### Rock sample region"
   ]
  },
  {
   "cell_type": "code",
   "execution_count": null,
   "metadata": {},
   "outputs": [],
   "source": [
    "%%px --block --group-outputs=type\n",
    "\n",
    "#Final rock region\n",
    "rock_region = rv.region.Cylinder(p=(126, 114, 461), v=(0, 0, 1), r=63, l=875)\n",
    "\n",
    "#Adjust the viewer and display for rank 0\n",
    "#highE_viewer.region = rock_region\n",
    "#highE_viewer.ref_point = rock_region.p\n",
    "#highE_viewer.ax_histogram.set_xlim(-1250, 3050)\n",
    "\n",
    "#if rv.config.mpi_rank == 0:\n",
    "#    display(highE_viewer.figure)"
   ]
  },
  {
   "cell_type": "markdown",
   "metadata": {},
   "source": [
    "### Combined segmentation image\n",
    "\n",
    "Now, we can use these regions to create the final segmentation image:"
   ]
  },
  {
   "cell_type": "code",
   "execution_count": null,
   "metadata": {},
   "outputs": [],
   "source": [
    "%%px --block --group-outputs=type\n",
    "\n",
    "# Create the segmentation voxel image inside the dual energy group\n",
    "dectgroup.create_segmentation(fill_value=0, overwrite=True)\n",
    "\n",
    "# Use the VoxelImage math method to assign each region\n",
    "dectgroup.segmentation.math(value=1, op='set', region=air_region)    #Air\n",
    "dectgroup.segmentation.math(value=2, op='set', region=water_region)  #Water\n",
    "dectgroup.segmentation.math(value=3, op='set', region=teflon_region) #Teflon\n",
    "dectgroup.segmentation.math(value=4, op='set', region=silica_region) #Silica\n",
    "dectgroup.segmentation.math(value=5, op='set', region=rock_region)   #Rock sample\n",
    "\n",
    "#Adjust the viewer and display for rank 0\n",
    "#highE_viewer.region = None\n",
    "#highE_viewer.segmentation = dectgroup.segmentation\n",
    "#highE_viewer.ref_point = rock_region.p\n",
    "#highE_viewer.ax_histogram.set_xlim(-1250, 3050)\n",
    "\n",
    "#if rv.config.mpi_rank == 0:\n",
    "#    display(highE_viewer.figure)"
   ]
  },
  {
   "cell_type": "markdown",
   "metadata": {},
   "source": [
    "### Adjusting histogram bins\n",
    "\n",
    "It is clear from the image that the default value for the number of histogram bins results in a crude histogram. We need to calculate a more detailed histogram, as the histogram counts will serve as the basis for calculating the probability density functions for the X-ray attenuation values in the standard materials.\n",
    "\n",
    "Once again, some testing led to the final choice of $2^{10}$ bins.\n",
    "Let's update our DECT group and our viewer:"
   ]
  },
  {
   "cell_type": "code",
   "execution_count": null,
   "metadata": {},
   "outputs": [],
   "source": [
    "%%px --block\n",
    "\n",
    "# Set the new number of histogram bins\n",
    "#highE_viewer.histogram_bins = 2**10\n",
    "\n",
    "# Fix the plot scale, as the previous line triggers new histogram calculation\n",
    "#highE_viewer.ax_histogram.set_xlim(-1250, 3050)\n",
    "#highE_viewer.ax_histogram.set_ylim(0, 2.1e7)\n",
    "\n",
    "#if rv.config.mpi_rank == 0:\n",
    "#    display(highE_viewer.figure)"
   ]
  },
  {
   "cell_type": "markdown",
   "metadata": {},
   "source": [
    "### Mask Image\n",
    "\n",
    "Now let's define an image mask to save time in the Monte Carlo inversion by masking out voxels for which we are not interested in the results. While we cannot assign RockVerse regions of interest to DualEnergyCT groups, we can create an arbitrary mask voxel image to inform RockVerse which voxels should be ignored.\n",
    "\n",
    "If you have a mask image somewhere, you can import it into the ``dualenergyct`` group using the ``copy_image`` method. In our case, phase 0 in our segmentation image represents the regions we want to exclude from our inversion, so the ``create_mask`` method is all we need:\n"
   ]
  },
  {
   "cell_type": "code",
   "execution_count": null,
   "metadata": {},
   "outputs": [],
   "source": [
    "%%px --block --group-outputs=type\n",
    "\n",
    "#Create the empty mask\n",
    "dectgroup.create_mask(fill_value=False, overwrite=True)\n",
    "\n",
    "#Use VoxelImage math method to set mask to True where segmentation is 0\n",
    "dectgroup.mask.math(value=True,\n",
    "                    op='set',\n",
    "                    segmentation=dectgroup.segmentation,\n",
    "                    phases=(0,))\n",
    "\n",
    "#Adjust the viewer and display for rank 0\n",
    "#highE_viewer.mask = dectgroup.mask\n",
    "#highE_viewer.mask_color = 'k'\n",
    "#highE_viewer.mask_alpha = 0.75\n",
    "#highE_viewer.ax_histogram.set_xlim(-1250, 3050)\n",
    "\n",
    "#if rv.config.mpi_rank == 0:\n",
    "#    display(highE_viewer.figure)\n"
   ]
  },
  {
   "cell_type": "markdown",
   "metadata": {},
   "source": [
    "The black voxels in the image above will be ignored during the Monte Carlo inversion.\n",
    "Let's rebuild both viewers with all the updates so far:"
   ]
  },
  {
   "cell_type": "code",
   "execution_count": null,
   "metadata": {},
   "outputs": [],
   "source": [
    "%%px --block --group-outputs=type\n",
    "\n",
    "#Common properties can be set at once at OrthogonalViewer creation\n",
    "kwargs = {\n",
    "    'region': None,\n",
    "    'mask': dectgroup.mask,\n",
    "    'mask_color': 'k',\n",
    "    'mask_alpha': 0.75,\n",
    "    'histogram_bins': 2**10,\n",
    "    'segmentation': dectgroup.segmentation,\n",
    "    'ref_point': rock_region.p,\n",
    "}\n",
    "\n",
    "lowE_viewer = rv.OrthogonalViewer(image=dectgroup.lowECT, **kwargs)\n",
    "highE_viewer = rv.OrthogonalViewer(image=dectgroup.highECT, **kwargs)\n",
    "\n",
    "#Fine tunning\n",
    "for viewer in [lowE_viewer, highE_viewer]:\n",
    "    viewer.figure.set_size_inches(10, 10)        #figure size\n",
    "    viewer.update_image_dict(clim=(-1200, 4000)) #X-ray CT clims\n",
    "    viewer.ax_histogram.set_xlim(-1250, 4500)    #Histogram limits\n",
    "    #Set segmentation names in the legend labels\n",
    "    viewer.ax_histogram.legend(\n",
    "        [\n",
    "            highE_viewer.histogram_lines['full'],\n",
    "            highE_viewer.histogram_lines['1'],\n",
    "            highE_viewer.histogram_lines['2'],\n",
    "            highE_viewer.histogram_lines['3'],\n",
    "            highE_viewer.histogram_lines['4'],\n",
    "            highE_viewer.histogram_lines['5'],\n",
    "        ], [\n",
    "            'Full',\n",
    "            'Air',\n",
    "            'Water',\n",
    "            'Teflon',\n",
    "            'SiO2',\n",
    "            'Rock'\n",
    "        ]\n",
    "    )\n",
    "\n",
    "#Close all but rank 0\n",
    "if rv.config.mpi_rank != 0:\n",
    "    plt.close(lowE_viewer.figure)\n",
    "    plt.close(highE_viewer.figure)\n"
   ]
  },
  {
   "cell_type": "markdown",
   "metadata": {},
   "source": [
    "\n",
    "## Filling Standard Material Information\n",
    "\n",
    "The next step is to populate the information and the X-ray attenuation probability density functions (pdf) for the standard materials. The pdfs have to passed as a two-element list or tuple with the x (attenuation values) and y (pdf values) arrays for the pdf model. \n",
    "The pdf array (y) does not need to be normalized. RockVerse will take care of the normalization when assigning the values.\n",
    "\n",
    "We could use the histogram values themselves, but due to our lazy segmentation in this tutorial, we'll model a Gaussian distribution after each segmentation histogram to filter out spurious values. We'll use the RockVerse optimization module for this task.\n",
    "\n",
    "### Air"
   ]
  },
  {
   "cell_type": "code",
   "execution_count": null,
   "metadata": {},
   "outputs": [],
   "source": [
    "%%px --block\n",
    "\n",
    "import numpy as np\n",
    "from rockverse.optimize import gaussian_fit, gaussian_val\n",
    "\n",
    "seg_phase = 1 # Air is segmentation phase 1\n",
    "cm_index = 0  # Standard material 0 is empty space\n",
    "name = 'Air'\n",
    "\n",
    "x_low = lowE_viewer.histogram.bin_centers\n",
    "y_low = lowE_viewer.histogram.count[seg_phase].values\n",
    "x_high = highE_viewer.histogram.bin_centers\n",
    "y_high = highE_viewer.histogram.count[seg_phase].values\n",
    "\n",
    "# Call gaussian_fit to get fitting parameters\n",
    "c_low = gaussian_fit(x_low, y_low)\n",
    "c_high = gaussian_fit(x_high, y_high)\n",
    "\n",
    "# We'll build a fine-spaced histogram axis and call\n",
    "# gaussian_val to build the gaussian curve.\n",
    "# It is important to go and sample regions\n",
    "# with pdf values close to zero\n",
    "xlim = (-1100, -900)\n",
    "x_fit = np.linspace(*xlim, 200)\n",
    "y_fit_low = gaussian_val(c_low, x_fit)\n",
    "y_fit_high = gaussian_val(c_high, x_fit)\n",
    "\n",
    "#Let's check the Gaussian fit:\n",
    "if mpi_rank == 0:\n",
    "    fig, ax = plt.subplots(1, 2, figsize=(10, 5),\n",
    "                           layout='constrained',\n",
    "                           sharex=True, sharey=True)\n",
    "    fig.suptitle('Gaussian histogram fit')\n",
    "\n",
    "    for k, (x, y, yfit, E) in enumerate(zip((x_low, x_high),\n",
    "                                            (y_low, y_high),\n",
    "                                            (y_fit_low, y_fit_high),\n",
    "                                            ('Low', 'High'))):\n",
    "\n",
    "        ax[k].plot(x, y, '.--', label='Histogram')\n",
    "        ax[k].plot(x_fit, yfit, '-', label='Gaussian fit')\n",
    "        ax[k].set_xlabel(f'{name} {E} energy CT (HU)')\n",
    "        ax[k].set_xlim(xlim)\n",
    "        ax[k].legend()\n",
    "        ax[k].set_ylabel('Count')\n",
    "    ax[0].set_ylim(ymin=0)\n",
    "\n",
    "# Now fill in necessary fields in dectgroup\n",
    "# Note: setting or getting pdf's is a collective MPI call,\n",
    "# make sure all the processes run it (e.g. don't use if 'mpi_rank == 0')\n",
    "dectgroup.calibration_material[cm_index].description = name\n",
    "dectgroup.calibration_material[cm_index].lowE_pdf = (x_fit, y_fit_low)\n",
    "dectgroup.calibration_material[cm_index].highE_pdf = (x_fit, y_fit_high)\n",
    "\n",
    "# RockVerse will normalize the pdf values before assigning them.\n",
    "# Let's check that also (again, make sure all processes run these two lines)\n",
    "x_lowE_pdf, y_lowE_pdf = dectgroup.calibration_material[cm_index].lowE_pdf\n",
    "x_highE_pdf, y_highE_pdf = dectgroup.calibration_material[cm_index].highE_pdf\n",
    "\n",
    "# Function to calculate cumulative distribution function (cdf)\n",
    "# using the trapezoidal rule:\n",
    "def cumtrapz(x, y):\n",
    "    sum = 0*x\n",
    "    for k in range(1, len(x)):\n",
    "        sum[k] += sum[k-1] + (y[k]+y[k-1])*(x[k]-x[k-1])*0.5\n",
    "    return sum\n",
    "\n",
    "cdf_low = cumtrapz(x_lowE_pdf, y_lowE_pdf)\n",
    "cdf_high = cumtrapz(x_highE_pdf, y_highE_pdf)\n",
    "\n",
    "if rv.config.mpi_rank == 0:\n",
    "    fig, ax = plt.subplots(1, 2, figsize=(9, 4.5),\n",
    "                           layout='constrained',\n",
    "                           sharex=True, sharey=True)\n",
    "    fig.suptitle('Probability density functions')\n",
    "\n",
    "    for k, (x, y, c, E) in enumerate(zip((x_lowE_pdf, x_highE_pdf),\n",
    "                                         (y_lowE_pdf, y_highE_pdf),\n",
    "                                         (cdf_low, cdf_high),\n",
    "                                         ('Low', 'High'))):\n",
    "        ax[k].plot(x, y, color='forestgreen')\n",
    "        ax[k].set_xlabel(f'{E} energy Air CT (HU)')\n",
    "        ax[k].set_ylabel('pdf model', color='forestgreen')\n",
    "        ax_cdf = ax[k].twinx()\n",
    "        ax_cdf.plot(x, c, color='tomato')\n",
    "        ax_cdf.set_ylabel('cdf model', color='tomato')\n",
    "        ax_cdf.set_ylim(ymin=0)\n",
    "    ax[0].set_ylim(ymin=0)\n"
   ]
  },
  {
   "cell_type": "markdown",
   "metadata": {},
   "source": [
    "Now let's replicate to the other standard materials.\n",
    "\n",
    "### Water"
   ]
  },
  {
   "cell_type": "code",
   "execution_count": null,
   "metadata": {},
   "outputs": [],
   "source": [
    "%%px --block\n",
    "\n",
    "seg_phase = 2 # Water is segmentation phase 1\n",
    "cm_index = 1  # We'll assign water to calibration material 1\n",
    "name = 'Water'\n",
    "bulk_density = 1.\n",
    "composition = {'H': 2, 'O': 1}\n",
    "\n",
    "x_low = lowE_viewer.histogram.bin_centers\n",
    "y_low = lowE_viewer.histogram.count[seg_phase].values\n",
    "x_high = highE_viewer.histogram.bin_centers\n",
    "y_high = highE_viewer.histogram.count[seg_phase].values\n",
    "\n",
    "# Call gaussian_fit to get fitting parameters\n",
    "c_low = gaussian_fit(x_low, y_low)\n",
    "c_high = gaussian_fit(x_high, y_high)\n",
    "\n",
    "# We'll build a fine-spaced histogram axis and call\n",
    "# gaussian_val to build the gaussian curve.\n",
    "# It is important to go and sample regions\n",
    "# with pdf values close to zero\n",
    "xlim = (-200, 150)\n",
    "x_fit = np.linspace(*xlim, 200)\n",
    "y_fit_low = gaussian_val(c_low, x_fit)\n",
    "y_fit_high = gaussian_val(c_high, x_fit)\n",
    "\n",
    "#Let's check the Gaussian fit:\n",
    "if mpi_rank == 0:\n",
    "    fig, ax = plt.subplots(1, 2, figsize=(10, 5),\n",
    "                           layout='constrained',\n",
    "                           sharex=True, sharey=True)\n",
    "    fig.suptitle('Gaussian histogram fit')\n",
    "\n",
    "    for k, (x, y, yfit, E) in enumerate(zip((x_low, x_high),\n",
    "                                            (y_low, y_high),\n",
    "                                            (y_fit_low, y_fit_high),\n",
    "                                            ('Low', 'High'))):\n",
    "\n",
    "        ax[k].plot(x, y, '.--', label='Histogram')\n",
    "        ax[k].plot(x_fit, yfit, '-', label='Gaussian fit')\n",
    "        ax[k].set_xlabel(f'{name} {E} energy CT (HU)')\n",
    "        ax[k].set_xlim(xlim)\n",
    "        ax[k].legend()\n",
    "        ax[k].set_ylabel('Count')\n",
    "    ax[0].set_ylim(ymin=0)\n",
    "\n",
    "# Now fill in necessary fields in dectgroup\n",
    "# Note: setting or getting pdf's is a collective MPI call,\n",
    "# make sure all the processes run it (e.g. don't use if 'mpi_rank == 0')\n",
    "dectgroup.calibration_material[cm_index].description = name\n",
    "dectgroup.calibration_material[cm_index].lowE_pdf = (x_fit, y_fit_low)\n",
    "dectgroup.calibration_material[cm_index].highE_pdf = (x_fit, y_fit_high)\n",
    "dectgroup.calibration_material[cm_index].bulk_density = bulk_density\n",
    "dectgroup.calibration_material[cm_index].composition = composition\n",
    "\n",
    "# RockVerse will normalize the pdf values before assigning them.\n",
    "# Let's check that also (again, make sure all processes run these two lines)\n",
    "x_lowE_pdf, y_lowE_pdf = dectgroup.calibration_material[cm_index].lowE_pdf\n",
    "x_highE_pdf, y_highE_pdf = dectgroup.calibration_material[cm_index].highE_pdf\n",
    "\n",
    "# Function to calculate cumulative distribution function (cdf)\n",
    "# using the trapezoidal rule:\n",
    "def cumtrapz(x, y):\n",
    "    sum = 0*x\n",
    "    for k in range(1, len(x)):\n",
    "        sum[k] += sum[k-1] + (y[k]+y[k-1])*(x[k]-x[k-1])*0.5\n",
    "    return sum\n",
    "\n",
    "cdf_low = cumtrapz(x_lowE_pdf, y_lowE_pdf)\n",
    "cdf_high = cumtrapz(x_highE_pdf, y_highE_pdf)\n",
    "\n",
    "if rv.config.mpi_rank == 0:\n",
    "    fig, ax = plt.subplots(1, 2, figsize=(9, 4.5),\n",
    "                           layout='constrained',\n",
    "                           sharex=True, sharey=True)\n",
    "    fig.suptitle('Probability density functions')\n",
    "\n",
    "    for k, (x, y, c, E) in enumerate(zip((x_lowE_pdf, x_highE_pdf),\n",
    "                                         (y_lowE_pdf, y_highE_pdf),\n",
    "                                         (cdf_low, cdf_high),\n",
    "                                         ('Low', 'High'))):\n",
    "        ax[k].plot(x, y, color='forestgreen')\n",
    "        ax[k].set_xlabel(f'{E} energy Air CT (HU)')\n",
    "        ax[k].set_ylabel('pdf model', color='forestgreen')\n",
    "        ax_cdf = ax[k].twinx()\n",
    "        ax_cdf.plot(x, c, color='tomato')\n",
    "        ax_cdf.set_ylabel('cdf model', color='tomato')\n",
    "        ax_cdf.set_ylim(ymin=0)\n",
    "    ax[0].set_ylim(ymin=0)"
   ]
  },
  {
   "cell_type": "markdown",
   "metadata": {},
   "source": [
    "### Silica"
   ]
  },
  {
   "cell_type": "code",
   "execution_count": null,
   "metadata": {},
   "outputs": [],
   "source": [
    "%%px --block\n",
    "\n",
    "seg_phase = 3 # Silica is segmentation phase 3\n",
    "cm_index = 2  # We'll assign silica to calibration material 2\n",
    "name = 'SiO_2'\n",
    "bulk_density = 2.2\n",
    "composition = {'Si': 1, 'O': 2}\n",
    "\n",
    "x_low = lowE_viewer.histogram.bin_centers\n",
    "y_low = lowE_viewer.histogram.count[seg_phase].values\n",
    "x_high = highE_viewer.histogram.bin_centers\n",
    "y_high = highE_viewer.histogram.count[seg_phase].values\n",
    "\n",
    "# Call gaussian_fit to get fitting parameters\n",
    "c_low = gaussian_fit(x_low, y_low)\n",
    "c_high = gaussian_fit(x_high, y_high)\n",
    "\n",
    "# We'll build a fine-spaced histogram axis and call\n",
    "# gaussian_val to build the gaussian curve.\n",
    "# It is important to go and sample regions\n",
    "# with pdf values close to zero\n",
    "xlim = (1200, 1850)\n",
    "x_fit = np.linspace(*xlim, 200)\n",
    "y_fit_low = gaussian_val(c_low, x_fit)\n",
    "y_fit_high = gaussian_val(c_high, x_fit)\n",
    "\n",
    "#Let's check the Gaussian fit:\n",
    "if mpi_rank == 0:\n",
    "    fig, ax = plt.subplots(1, 2, figsize=(10, 5),\n",
    "                           layout='constrained',\n",
    "                           sharex=True, sharey=True)\n",
    "    fig.suptitle('Gaussian histogram fit')\n",
    "\n",
    "    for k, (x, y, yfit, E) in enumerate(zip((x_low, x_high),\n",
    "                                            (y_low, y_high),\n",
    "                                            (y_fit_low, y_fit_high),\n",
    "                                            ('Low', 'High'))):\n",
    "\n",
    "        ax[k].plot(x, y, '.--', label='Histogram')\n",
    "        ax[k].plot(x_fit, yfit, '-', label='Gaussian fit')\n",
    "        ax[k].set_xlabel(f'{name} {E} energy CT (HU)')\n",
    "        ax[k].set_xlim(xlim)\n",
    "        ax[k].legend()\n",
    "        ax[k].set_ylabel('Count')\n",
    "    ax[0].set_ylim(ymin=0)\n",
    "\n",
    "# Now fill in necessary fields in dectgroup\n",
    "# Note: setting or getting pdf's is a collective MPI call,\n",
    "# make sure all the processes run it (e.g. don't use if 'mpi_rank == 0')\n",
    "dectgroup.calibration_material[cm_index].description = name\n",
    "dectgroup.calibration_material[cm_index].lowE_pdf = (x_fit, y_fit_low)\n",
    "dectgroup.calibration_material[cm_index].highE_pdf = (x_fit, y_fit_high)\n",
    "dectgroup.calibration_material[cm_index].bulk_density = bulk_density\n",
    "dectgroup.calibration_material[cm_index].composition = composition\n",
    "\n",
    "# RockVerse will normalize the pdf values before assigning them.\n",
    "# Let's check that also (again, make sure all processes run these two lines)\n",
    "x_lowE_pdf, y_lowE_pdf = dectgroup.calibration_material[cm_index].lowE_pdf\n",
    "x_highE_pdf, y_highE_pdf = dectgroup.calibration_material[cm_index].highE_pdf\n",
    "\n",
    "# Function to calculate cumulative distribution function (cdf)\n",
    "# using the trapezoidal rule:\n",
    "def cumtrapz(x, y):\n",
    "    sum = 0*x\n",
    "    for k in range(1, len(x)):\n",
    "        sum[k] += sum[k-1] + (y[k]+y[k-1])*(x[k]-x[k-1])*0.5\n",
    "    return sum\n",
    "\n",
    "cdf_low = cumtrapz(x_lowE_pdf, y_lowE_pdf)\n",
    "cdf_high = cumtrapz(x_highE_pdf, y_highE_pdf)\n",
    "\n",
    "if rv.config.mpi_rank == 0:\n",
    "    fig, ax = plt.subplots(1, 2, figsize=(9, 4.5),\n",
    "                           layout='constrained',\n",
    "                           sharex=True, sharey=True)\n",
    "    fig.suptitle('Probability density functions')\n",
    "\n",
    "    for k, (x, y, c, E) in enumerate(zip((x_lowE_pdf, x_highE_pdf),\n",
    "                                         (y_lowE_pdf, y_highE_pdf),\n",
    "                                         (cdf_low, cdf_high),\n",
    "                                         ('Low', 'High'))):\n",
    "        ax[k].plot(x, y, color='forestgreen')\n",
    "        ax[k].set_xlabel(f'{E} energy Air CT (HU)')\n",
    "        ax[k].set_ylabel('pdf model', color='forestgreen')\n",
    "        ax_cdf = ax[k].twinx()\n",
    "        ax_cdf.plot(x, c, color='tomato')\n",
    "        ax_cdf.set_ylabel('cdf model', color='tomato')\n",
    "        ax_cdf.set_ylim(ymin=0)\n",
    "    ax[0].set_ylim(ymin=0)"
   ]
  },
  {
   "cell_type": "markdown",
   "metadata": {},
   "source": [
    "### Teflon"
   ]
  },
  {
   "cell_type": "code",
   "execution_count": null,
   "metadata": {},
   "outputs": [],
   "source": [
    "%%px --block\n",
    "\n",
    "seg_phase = 4 # Teflon is segmentation phase 4\n",
    "cm_index = 3  # We'll assign teflon to calibration material 3\n",
    "name = 'Teflon'\n",
    "bulk_density = 2.2\n",
    "composition = {'C': 2, 'F': 4}\n",
    "\n",
    "x_low = lowE_viewer.histogram.bin_centers\n",
    "y_low = lowE_viewer.histogram.count[seg_phase].values\n",
    "x_high = highE_viewer.histogram.bin_centers\n",
    "y_high = highE_viewer.histogram.count[seg_phase].values\n",
    "\n",
    "# Call gaussian_fit to get fitting parameters\n",
    "c_low = gaussian_fit(x_low, y_low)\n",
    "c_high = gaussian_fit(x_high, y_high)\n",
    "\n",
    "# We'll build a fine-spaced histogram axis and call\n",
    "# gaussian_val to build the gaussian curve.\n",
    "# It is important to go and sample regions\n",
    "# with pdf values close to zero\n",
    "xlim = (800, 1400)\n",
    "x_fit = np.linspace(*xlim, 200)\n",
    "y_fit_low = gaussian_val(c_low, x_fit)\n",
    "y_fit_high = gaussian_val(c_high, x_fit)\n",
    "\n",
    "#Let's check the Gaussian fit:\n",
    "if mpi_rank == 0:\n",
    "    fig, ax = plt.subplots(1, 2, figsize=(10, 5),\n",
    "                           layout='constrained',\n",
    "                           sharex=True, sharey=True)\n",
    "    fig.suptitle('Gaussian histogram fit')\n",
    "\n",
    "    for k, (x, y, yfit, E) in enumerate(zip((x_low, x_high),\n",
    "                                            (y_low, y_high),\n",
    "                                            (y_fit_low, y_fit_high),\n",
    "                                            ('Low', 'High'))):\n",
    "\n",
    "        ax[k].plot(x, y, '.--', label='Histogram')\n",
    "        ax[k].plot(x_fit, yfit, '-', label='Gaussian fit')\n",
    "        ax[k].set_xlabel(f'{name} {E} energy CT (HU)')\n",
    "        ax[k].set_xlim(xlim)\n",
    "        ax[k].legend()\n",
    "        ax[k].set_ylabel('Count')\n",
    "    ax[0].set_ylim(ymin=0)\n",
    "\n",
    "# Now fill in necessary fields in dectgroup\n",
    "# Note: setting or getting pdf's is a collective MPI call,\n",
    "# make sure all the processes run it (e.g. don't use if 'mpi_rank == 0')\n",
    "dectgroup.calibration_material[cm_index].description = name\n",
    "dectgroup.calibration_material[cm_index].lowE_pdf = (x_fit, y_fit_low)\n",
    "dectgroup.calibration_material[cm_index].highE_pdf = (x_fit, y_fit_high)\n",
    "dectgroup.calibration_material[cm_index].bulk_density = bulk_density\n",
    "dectgroup.calibration_material[cm_index].composition = composition\n",
    "\n",
    "# RockVerse will normalize the pdf values before assigning them.\n",
    "# Let's check that also (again, make sure all processes run these two lines)\n",
    "x_lowE_pdf, y_lowE_pdf = dectgroup.calibration_material[cm_index].lowE_pdf\n",
    "x_highE_pdf, y_highE_pdf = dectgroup.calibration_material[cm_index].highE_pdf\n",
    "\n",
    "# Function to calculate cumulative distribution function (cdf)\n",
    "# using the trapezoidal rule:\n",
    "def cumtrapz(x, y):\n",
    "    sum = 0*x\n",
    "    for k in range(1, len(x)):\n",
    "        sum[k] += sum[k-1] + (y[k]+y[k-1])*(x[k]-x[k-1])*0.5\n",
    "    return sum\n",
    "\n",
    "cdf_low = cumtrapz(x_lowE_pdf, y_lowE_pdf)\n",
    "cdf_high = cumtrapz(x_highE_pdf, y_highE_pdf)\n",
    "\n",
    "if rv.config.mpi_rank == 0:\n",
    "    fig, ax = plt.subplots(1, 2, figsize=(9, 4.5),\n",
    "                           layout='constrained',\n",
    "                           sharex=True, sharey=True)\n",
    "    fig.suptitle('Probability density functions')\n",
    "\n",
    "    for k, (x, y, c, E) in enumerate(zip((x_lowE_pdf, x_highE_pdf),\n",
    "                                         (y_lowE_pdf, y_highE_pdf),\n",
    "                                         (cdf_low, cdf_high),\n",
    "                                         ('Low', 'High'))):\n",
    "        ax[k].plot(x, y, color='forestgreen')\n",
    "        ax[k].set_xlabel(f'{E} energy Air CT (HU)')\n",
    "        ax[k].set_ylabel('pdf model', color='forestgreen')\n",
    "        ax_cdf = ax[k].twinx()\n",
    "        ax_cdf.plot(x, c, color='tomato')\n",
    "        ax_cdf.set_ylabel('cdf model', color='tomato')\n",
    "        ax_cdf.set_ylim(ymin=0)\n",
    "    ax[0].set_ylim(ymin=0)"
   ]
  },
  {
   "cell_type": "markdown",
   "metadata": {},
   "source": [
    "## Run the preprocessing step\n",
    "\n",
    "Now we are ready to set the processing parameters and run the pre-processing step.\n",
    "Our little cluster with 5 MPI processes is still enough for this task.\n",
    "\n",
    "BLA BLA BLA"
   ]
  },
  {
   "cell_type": "code",
   "execution_count": null,
   "metadata": {},
   "outputs": [],
   "source": [
    "%%px --block\n",
    "\n",
    "AQUI\n",
    "MAS TEM QUE TERMINAR DE REVISAR AS FUNÇÔES DE CLASS CALIBRATIONMATERIAL\n",
    "\n",
    "# Call the preprocess method\n",
    "dectgroup.preprocess()"
   ]
  },
  {
   "cell_type": "markdown",
   "metadata": {},
   "source": [
    "### Appraisal\n",
    "\n",
    "Let's take a look at the preprocessing results. \n",
    "This time, we will work locally instead of in the ipyparallel cluster,\n",
    "so we need to load the libraries and the DECT group again.\n"
   ]
  },
  {
   "cell_type": "code",
   "execution_count": null,
   "metadata": {},
   "outputs": [],
   "source": [
    "# Note that we are not using the %%px cell magic anymore!\n",
    "# Now the process will run locally, so we nee to start over\n",
    "\n",
    "import matplotlib.pyplot as plt\n",
    "import numpy as np\n",
    "import rockverse as rv\n",
    "\n",
    "#Load the DECT group\n",
    "dectgroup = rv.open(r'/path/to/dual_energy_ct/C04B21')"
   ]
  },
  {
   "cell_type": "markdown",
   "metadata": {},
   "source": [
    "The results can be accessed through the following attributes:\n",
    "\n",
    "- ``calibration_gaussian_coefficients``: histogram fitting parameters,\n",
    "- ``lowEhistogram``: a Pandas DataFrame with the histogram values for the low energy image,\n",
    "- ``highEhistogram``: a Pandas DataFrame with the histogram values for the high energy image.\n",
    "\n",
    "Let's take a look at each one of them:\n"
   ]
  },
  {
   "cell_type": "code",
   "execution_count": null,
   "metadata": {},
   "outputs": [],
   "source": [
    "print(dectgroup.calibration_gaussian_coefficients)"
   ]
  },
  {
   "cell_type": "code",
   "execution_count": null,
   "metadata": {},
   "outputs": [],
   "source": [
    "print(dectgroup.lowEhistogram)"
   ]
  },
  {
   "cell_type": "code",
   "execution_count": null,
   "metadata": {},
   "outputs": [],
   "source": [
    "print(dectgroup.highEhistogram)"
   ]
  },
  {
   "cell_type": "code",
   "execution_count": null,
   "metadata": {},
   "outputs": [],
   "source": [
    "print(dectgroup.lowE_inversion_coefficients)"
   ]
  },
  {
   "cell_type": "code",
   "execution_count": null,
   "metadata": {},
   "outputs": [],
   "source": [
    "print(dectgroup.highE_inversion_coefficients)"
   ]
  },
  {
   "cell_type": "markdown",
   "metadata": {},
   "source": [
    "Let's write some code to retrieve these parameters and display some plots:"
   ]
  },
  {
   "cell_type": "code",
   "execution_count": null,
   "metadata": {},
   "outputs": [],
   "source": [
    "def gaussian(x, A, mu, sigma):\n",
    "    return A*np.exp(-0.5*((x-mu)/sigma)**2)\n",
    "\n",
    "fig1, ax1 = plt.subplots(2, 2, layout='constrained')\n",
    "fig2, ax2 = plt.subplots(2, 2, layout='constrained')\n",
    "fig1.suptitle('Low Energy Attenuation')\n",
    "fig2.suptitle('High Energy Attenuation')\n",
    "\n",
    "for hist, ax, mode in zip((dectgroup.lowEhistogram, dectgroup.highEhistogram),\n",
    "                          (ax1, ax2),\n",
    "                          ('low', 'high')):\n",
    "\n",
    "    for k, (i, j, xlb) in enumerate(zip((0, 0, 1, 1),\n",
    "                                        (0, 1, 0, 1),\n",
    "                                        ('Air', 'Water', 'Teflon', 'Silica'))):\n",
    "        ax[i][j].plot(hist['bin_centers'], hist[str(k+1)], '.', label='Hist.')\n",
    "\n",
    "        xlim = dectgroup.__getattribute__(f'calibration_material{k}')[f'{mode}E_gaussian_center_bounds']\n",
    "        xlim[0] -= 200\n",
    "        xlim[1] += 200\n",
    "\n",
    "        x = np.linspace(*xlim, 500)\n",
    "        y = gaussian(\n",
    "            x,\n",
    "            A=dectgroup.calibration_gaussian_coefficients[f'A_{mode}E'].iloc[k],\n",
    "            mu=dectgroup.calibration_gaussian_coefficients[f'mu_{mode}E'].iloc[k],\n",
    "            sigma=dectgroup.calibration_gaussian_coefficients[f'sigma_{mode}E'].iloc[k])\n",
    "\n",
    "        ax[i][j].plot(x, y, color='orange', label='Fit')\n",
    "        ax[i][j].set_xlim(*xlim)\n",
    "        ax[i][j].set_xlabel(xlb)\n",
    "        ax[i][j].set_ylabel('Count')\n",
    "        ax[i][j].legend()\n"
   ]
  },
  {
   "cell_type": "code",
   "execution_count": null,
   "metadata": {},
   "outputs": [],
   "source": [
    "def gaussian_pdf(x, mu, sigma):\n",
    "    return 1/np.sqrt(2*np.pi)/sigma*np.exp(-0.5*((x-mu)/sigma)**2)\n",
    "\n",
    "fig1, ax1 = plt.subplots(2, 2, layout='constrained')\n",
    "fig2, ax2 = plt.subplots(2, 2, layout='constrained')\n",
    "fig1.suptitle('Monte Carlo Low Energy Attenuation')\n",
    "fig2.suptitle('Monte Carlo High Energy Attenuation')\n",
    "\n",
    "\n",
    "for ax, coef, mode in zip((ax1, ax2),\n",
    "                          (dectgroup.lowE_inversion_coefficients,\n",
    "                           dectgroup.highE_inversion_coefficients),\n",
    "                           ('low', 'high')):\n",
    "    for k, (i, j, xlb) in enumerate(zip((0, 0, 1, 1),\n",
    "                                        (0, 1, 0, 1),\n",
    "                                        ('Air', 'Water', 'Teflon', 'Silica'))):\n",
    "        ax[i][j].hist(coef[f'CT_{k}'],\n",
    "                    bins=25,\n",
    "                    density=True,\n",
    "                    facecolor='powderblue',\n",
    "                    edgecolor='slategrey',\n",
    "                    label='Hist.')\n",
    "\n",
    "        ax[i][j].set_xlabel(xlb)\n",
    "        ax[i][j].set_ylabel('pdf')\n",
    "        x = np.linspace(*ax[i][j].get_xlim(), 100)\n",
    "        mu = dectgroup.calibration_gaussian_coefficients[f'mu_{mode}E'].iloc[k],\n",
    "        sigma = dectgroup.calibration_gaussian_coefficients[f'sigma_{mode}E'].iloc[k]\n",
    "        y = gaussian_pdf(x, mu, sigma)\n",
    "        ax[i][j].plot(x, y, color='orange', label='pdf')\n"
   ]
  },
  {
   "cell_type": "code",
   "execution_count": null,
   "metadata": {},
   "outputs": [],
   "source": [
    "fig1, axs = plt.subplots(2, 3, layout='constrained')\n",
    "ax1 = axs[0][0], axs[0][1], axs[0][2]\n",
    "ax2 = axs[1][0], axs[1][1], axs[1][2]\n",
    "fig1.suptitle('Monte Carlo $Z_{eff}$ histograms')\n",
    "\n",
    "for ax, coef, mode in (zip((ax1, ax2),\n",
    "                           (dectgroup.lowE_inversion_coefficients,\n",
    "                            dectgroup.highE_inversion_coefficients),\n",
    "                            ('low', 'high'))):\n",
    "    for k, xlb in enumerate(('Water', 'Teflon', 'Silica')):\n",
    "        ax[k].hist(coef[f'Z_{k+1}'],\n",
    "                    bins=25,\n",
    "                    density=True,\n",
    "                    facecolor='powderblue',\n",
    "                    edgecolor='slategrey',\n",
    "                    label='Hist.')\n",
    "        ax[k].set_xlabel(f'{xlb}, {mode}E')\n",
    "        ax[k].set_ylabel('count')\n"
   ]
  },
  {
   "cell_type": "code",
   "execution_count": null,
   "metadata": {},
   "outputs": [],
   "source": [
    "fig1, axs = plt.subplots(2, 3, layout='constrained')\n",
    "ax1 = axs[0][0], axs[0][1], axs[0][2]\n",
    "ax2 = axs[1][0], axs[1][1], axs[1][2]\n",
    "fig1.suptitle('Monte Carlo Inversion parameters')\n",
    "\n",
    "for ax, coef, mode in (zip((ax1, ax2),\n",
    "                           (dectgroup.lowE_inversion_coefficients,\n",
    "                            dectgroup.highE_inversion_coefficients),\n",
    "                            ('low', 'high'))):\n",
    "    for k, xlb in enumerate(('A', 'B', 'n')):\n",
    "        ax[k].hist(coef[f'{xlb}'],\n",
    "                    bins=25,\n",
    "                    density=True,\n",
    "                    facecolor='powderblue',\n",
    "                    edgecolor='slategrey',\n",
    "                    label='Hist.')\n",
    "        ax[k].set_xlabel(f'{xlb}, {mode}E')\n",
    "        ax[k].set_ylabel('count')"
   ]
  },
  {
   "cell_type": "markdown",
   "metadata": {},
   "source": [
    "## Run the Monte Carlo inversion\n",
    "\n",
    "Once we are satisfied with these inversion parameters, we are ready to run the full inversion. \n",
    "For this, we only need to execute the following code snippet in a parallel environment:\n",
    "\n",
    "```python\n",
    "import rockverse as rv\n",
    "dectgroup = rv.open(r'/path/to/dual_energy_ct/C04B21')\n",
    "dectgroup.run()\n",
    "```\n",
    "\n",
    "Remember: we are utilizing Monte Carlo in the Digital Rock universe! This process is\n",
    "computationally intensive and is meant to be run in a high-performance computing environment,\n",
    "such as a GPU-enabled machine or a handful of nodes in a CPU cluster. If you just want to test\n",
    "the inversion, you can go back to the mask definition and reduce the cylinder length to\n",
    "allow the code to work only on a tiny part of the whole image.\n",
    "\n",
    "After completion, you will have access to the Monte Carlo results through the\n",
    "following new voxel images as attributes of dectgroup:\n",
    "\n",
    "- ``rho_min``: Voxel image with the minimum electron density per voxel.\n",
    "- ``rho_p25``: Voxel image with the the first quartile for the electron density per voxel.\n",
    "- ``rho_p50``: Voxel image with the the median values for the electron density per voxel.\n",
    "- ``rho_p75``: Voxel image with the the third quartile for the electron density per voxel.\n",
    "- ``rho_max``: Voxel image with the maximum electron density per voxel.\n",
    "- ``Z_min``: Voxel image with the minimum effective atomic number per voxel.\n",
    "- ``Z_p25``: Voxel image with the the first quartile for the effective atomic number per voxel.\n",
    "- ``Z_p50``: Voxel image with the the median values for the effective atomic number per voxel.\n",
    "- ``Z_p75``: Voxel image with the the third quartile for the effective atomic number per voxel.\n",
    "- ``Z_max``: Voxel image with the maximum effective atomic number per voxel.\n",
    "- ``valid``: Voxel image with the number of valid Monte Carlo results for each voxel."
   ]
  }
 ],
 "metadata": {
  "kernelspec": {
   "display_name": "rockverse-zarr3",
   "language": "python",
   "name": "python3"
  },
  "language_info": {
   "codemirror_mode": {
    "name": "ipython",
    "version": 3
   },
   "file_extension": ".py",
   "mimetype": "text/x-python",
   "name": "python",
   "nbconvert_exporter": "python",
   "pygments_lexer": "ipython3",
   "version": "3.12.8"
  }
 },
 "nbformat": 4,
 "nbformat_minor": 2
}
