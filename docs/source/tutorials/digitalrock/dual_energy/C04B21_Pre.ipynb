{
 "cells": [
  {
   "cell_type": "markdown",
   "metadata": {},
   "source": [
    "Dual energy carbonate CT\n",
    "========================\n",
    "\n",
    "test\n"
   ]
  },
  {
   "cell_type": "code",
   "execution_count": 1,
   "metadata": {},
   "outputs": [
    {
     "name": "stdout",
     "output_type": "stream",
     "text": [
      "Starting 5 engines with <class 'ipyparallel.cluster.launcher.MPIEngineSetLauncher'>\n"
     ]
    },
    {
     "data": {
      "application/vnd.jupyter.widget-view+json": {
       "model_id": "19fae6906e1443ecb96095362371b0be",
       "version_major": 2,
       "version_minor": 0
      },
      "text/plain": [
       "  0%|          | 0/5 [00:00<?, ?engine/s]"
      ]
     },
     "metadata": {},
     "output_type": "display_data"
    }
   ],
   "source": [
    "import ipyparallel as ipp\n",
    "cluster = ipp.Cluster(engines=\"mpi\", n=5)\n",
    "rc = cluster.start_and_connect_sync()\n",
    "rc[:].activate() # enable magics"
   ]
  },
  {
   "cell_type": "code",
   "execution_count": null,
   "metadata": {},
   "outputs": [
    {
     "data": {
      "text/plain": [
       "\u001b[0;31mOut[1:2]: \u001b[0m<rockverse.dualenergyct.DualEnergyCTGroup at 0x1df0c5dad50>"
      ]
     },
     "metadata": {
      "after": null,
      "completed": null,
      "data": {},
      "engine_id": 1,
      "engine_uuid": "15a9f418-821996184b93d6467e317ef4",
      "error": null,
      "execute_input": "\nimport matplotlib.pyplot as plt\nfrom IPython.display import display\nimport rockverse as rv\n\ndectgroup = rv.dualenergyct.create_group(\n    store='E:/path/to/dual_energy_ct/C04B21',\n    overwrite=True)\n\ndectgroup#.copy_image(\n    #image=rv.open('E:/path/to/imported/dual_energy_carbonate/C04B21Raw100keV'),\n    #path='lowECT',\n    #overwrite=True)\n\ndectgroup#.copy_image(\n    #image=rv.open('E:/path/to/imported/dual_energy_carbonate/C04B21Raw140keV'),\n    #path='highECT',\n    #overwrite=True)\n",
      "execute_result": {
       "data": {
        "text/plain": "<rockverse.dualenergyct.DualEnergyCTGroup at 0x1df0c5dad50>"
       },
       "execution_count": 2,
       "metadata": {}
      },
      "follow": null,
      "msg_id": null,
      "outputs": [],
      "received": null,
      "started": null,
      "status": null,
      "stderr": "",
      "stdout": "",
      "submitted": "2025-01-10T18:27:33.863214Z"
     },
     "output_type": "display_data"
    },
    {
     "data": {
      "text/plain": [
       "\u001b[0;31mOut[0:2]: \u001b[0m<rockverse.dualenergyct.DualEnergyCTGroup at 0x2afc045a840>"
      ]
     },
     "metadata": {
      "after": null,
      "completed": null,
      "data": {},
      "engine_id": 0,
      "engine_uuid": "e286f717-753107ef2772bfcea4f1128a",
      "error": null,
      "execute_input": "\nimport matplotlib.pyplot as plt\nfrom IPython.display import display\nimport rockverse as rv\n\ndectgroup = rv.dualenergyct.create_group(\n    store='E:/path/to/dual_energy_ct/C04B21',\n    overwrite=True)\n\ndectgroup#.copy_image(\n    #image=rv.open('E:/path/to/imported/dual_energy_carbonate/C04B21Raw100keV'),\n    #path='lowECT',\n    #overwrite=True)\n\ndectgroup#.copy_image(\n    #image=rv.open('E:/path/to/imported/dual_energy_carbonate/C04B21Raw140keV'),\n    #path='highECT',\n    #overwrite=True)\n",
      "execute_result": {
       "data": {
        "text/plain": "<rockverse.dualenergyct.DualEnergyCTGroup at 0x2afc045a840>"
       },
       "execution_count": 2,
       "metadata": {}
      },
      "follow": null,
      "msg_id": null,
      "outputs": [],
      "received": null,
      "started": null,
      "status": null,
      "stderr": "",
      "stdout": "",
      "submitted": "2025-01-10T18:27:33.863214Z"
     },
     "output_type": "display_data"
    },
    {
     "data": {
      "text/plain": [
       "\u001b[0;31mOut[4:2]: \u001b[0m<rockverse.dualenergyct.DualEnergyCTGroup at 0x23c2d056cc0>"
      ]
     },
     "metadata": {
      "after": null,
      "completed": null,
      "data": {},
      "engine_id": 4,
      "engine_uuid": "8ee2a64e-6991c26f8303c5c50bb5de97",
      "error": null,
      "execute_input": "\nimport matplotlib.pyplot as plt\nfrom IPython.display import display\nimport rockverse as rv\n\ndectgroup = rv.dualenergyct.create_group(\n    store='E:/path/to/dual_energy_ct/C04B21',\n    overwrite=True)\n\ndectgroup#.copy_image(\n    #image=rv.open('E:/path/to/imported/dual_energy_carbonate/C04B21Raw100keV'),\n    #path='lowECT',\n    #overwrite=True)\n\ndectgroup#.copy_image(\n    #image=rv.open('E:/path/to/imported/dual_energy_carbonate/C04B21Raw140keV'),\n    #path='highECT',\n    #overwrite=True)\n",
      "execute_result": {
       "data": {
        "text/plain": "<rockverse.dualenergyct.DualEnergyCTGroup at 0x23c2d056cc0>"
       },
       "execution_count": 2,
       "metadata": {}
      },
      "follow": null,
      "msg_id": null,
      "outputs": [],
      "received": null,
      "started": null,
      "status": null,
      "stderr": "",
      "stdout": "",
      "submitted": "2025-01-10T18:27:33.878842Z"
     },
     "output_type": "display_data"
    },
    {
     "data": {
      "text/plain": [
       "\u001b[0;31mOut[3:2]: \u001b[0m<rockverse.dualenergyct.DualEnergyCTGroup at 0x2b302758890>"
      ]
     },
     "metadata": {
      "after": null,
      "completed": null,
      "data": {},
      "engine_id": 3,
      "engine_uuid": "6289ba7d-4d8303440abc5070a3aa4ebf",
      "error": null,
      "execute_input": "\nimport matplotlib.pyplot as plt\nfrom IPython.display import display\nimport rockverse as rv\n\ndectgroup = rv.dualenergyct.create_group(\n    store='E:/path/to/dual_energy_ct/C04B21',\n    overwrite=True)\n\ndectgroup#.copy_image(\n    #image=rv.open('E:/path/to/imported/dual_energy_carbonate/C04B21Raw100keV'),\n    #path='lowECT',\n    #overwrite=True)\n\ndectgroup#.copy_image(\n    #image=rv.open('E:/path/to/imported/dual_energy_carbonate/C04B21Raw140keV'),\n    #path='highECT',\n    #overwrite=True)\n",
      "execute_result": {
       "data": {
        "text/plain": "<rockverse.dualenergyct.DualEnergyCTGroup at 0x2b302758890>"
       },
       "execution_count": 2,
       "metadata": {}
      },
      "follow": null,
      "msg_id": null,
      "outputs": [],
      "received": null,
      "started": null,
      "status": null,
      "stderr": "",
      "stdout": "",
      "submitted": "2025-01-10T18:27:33.878842Z"
     },
     "output_type": "display_data"
    },
    {
     "data": {
      "text/plain": [
       "\u001b[0;31mOut[2:2]: \u001b[0m<rockverse.dualenergyct.DualEnergyCTGroup at 0x2cd56daf0e0>"
      ]
     },
     "metadata": {
      "after": null,
      "completed": null,
      "data": {},
      "engine_id": 2,
      "engine_uuid": "ef454ec8-b867a64ee96b66af3c203513",
      "error": null,
      "execute_input": "\nimport matplotlib.pyplot as plt\nfrom IPython.display import display\nimport rockverse as rv\n\ndectgroup = rv.dualenergyct.create_group(\n    store='E:/path/to/dual_energy_ct/C04B21',\n    overwrite=True)\n\ndectgroup#.copy_image(\n    #image=rv.open('E:/path/to/imported/dual_energy_carbonate/C04B21Raw100keV'),\n    #path='lowECT',\n    #overwrite=True)\n\ndectgroup#.copy_image(\n    #image=rv.open('E:/path/to/imported/dual_energy_carbonate/C04B21Raw140keV'),\n    #path='highECT',\n    #overwrite=True)\n",
      "execute_result": {
       "data": {
        "text/plain": "<rockverse.dualenergyct.DualEnergyCTGroup at 0x2cd56daf0e0>"
       },
       "execution_count": 2,
       "metadata": {}
      },
      "follow": null,
      "msg_id": null,
      "outputs": [],
      "received": null,
      "started": null,
      "status": null,
      "stderr": "",
      "stdout": "",
      "submitted": "2025-01-10T18:27:33.878842Z"
     },
     "output_type": "display_data"
    }
   ],
   "source": [
    "%%px --block --group-outputs=type\n",
    "\n",
    "import matplotlib.pyplot as plt\n",
    "from IPython.display import display\n",
    "import rockverse as rv\n",
    "\n",
    "dectgroup = rv.dualenergyct.create_group(\n",
    "    store='E:/path/to/dual_energy_ct/C04B21',\n",
    "    overwrite=True)\n",
    "\n",
    "dectgroup.copy_image(\n",
    "    image=rv.open('E:/path/to/imported/dual_energy_carbonate/C04B21Raw100keV'),\n",
    "    path='lowECT',\n",
    "    overwrite=True)\n",
    "\n",
    "dectgroup.copy_image(\n",
    "    image=rv.open('E:/path/to/imported/dual_energy_carbonate/C04B21Raw140keV'),\n",
    "    path='highECT',\n",
    "    overwrite=True)"
   ]
  },
  {
   "cell_type": "code",
   "execution_count": null,
   "metadata": {},
   "outputs": [],
   "source": [
    "%%px --block --group-outputs=type\n",
    "lowE_viewer = rv.OrthogonalViewer(image=dectgroup.lowECT)\n",
    "highE_viewer = rv.OrthogonalViewer(image=dectgroup.highECT)\n",
    "\n",
    "if rv.config['MPI']['mpi_rank'] != 0:\n",
    "    plt.close(lowE_viewer.figure)\n",
    "    plt.close(highE_viewer.figure)\n"
   ]
  },
  {
   "cell_type": "code",
   "execution_count": null,
   "metadata": {},
   "outputs": [],
   "source": [
    "%%px --block --group-outputs=type\n",
    "\n",
    "#Test with regions\n",
    "highE_viewer.figure.set_size_inches(10, 10)\n",
    "\n",
    "highE_viewer.mask_color = 'gold'\n",
    "highE_viewer.mask_alpha = 0.5\n",
    "\n",
    "air_region = rv.region.Cylinder(p=(126, 20, 461), v=(0, 0, 1), r=10, l=750)\n",
    "highE_viewer.region = air_region\n",
    "\n",
    "highE_viewer.ax_histogram.set_xlim(-1200, 3500)\n",
    "\n",
    "if rv.config['MPI']['mpi_rank'] == 0:\n",
    "    display(highE_viewer.figure)\n"
   ]
  },
  {
   "cell_type": "code",
   "execution_count": null,
   "metadata": {},
   "outputs": [],
   "source": [
    "%%px --block --group-outputs=type\n",
    "\n",
    "#Test with regions\n",
    "water_region = rv.region.Cylinder(p=(55, 176.2, 461), v=(0, 0, 1), r=10, l=900)\n",
    "highE_viewer.region = water_region\n",
    "highE_viewer.ref_point = water_region.p\n",
    "highE_viewer.ax_histogram.set_xlim(-1200, 3500)\n",
    "if rv.config['MPI']['mpi_rank'] == 0:\n",
    "    display(highE_viewer.figure)"
   ]
  },
  {
   "cell_type": "code",
   "execution_count": null,
   "metadata": {},
   "outputs": [],
   "source": [
    "%%px --block --group-outputs=type\n",
    "\n",
    "#Test with regions\n",
    "teflon_region = rv.region.Cylinder(p=(124.7, 228, 461), v=(0, 0, 1), r=6.5, l=900)\n",
    "highE_viewer.region = teflon_region\n",
    "highE_viewer.ref_point = teflon_region.p\n",
    "highE_viewer.ax_histogram.set_xlim(-1200, 3500)\n",
    "if rv.config['MPI']['mpi_rank'] == 0:\n",
    "    display(highE_viewer.figure)"
   ]
  },
  {
   "cell_type": "code",
   "execution_count": null,
   "metadata": {},
   "outputs": [],
   "source": [
    "%%px --block --group-outputs=type\n",
    "\n",
    "#Test with regions\n",
    "silica_region = rv.region.Cylinder(p=(196, 179, 461), v=(0, 0, 1), r=9, l=900)\n",
    "highE_viewer.region = silica_region\n",
    "highE_viewer.ref_point = silica_region.p\n",
    "highE_viewer.ax_histogram.set_xlim(-1200, 3500)\n",
    "if rv.config['MPI']['mpi_rank'] == 0:\n",
    "    display(highE_viewer.figure)"
   ]
  },
  {
   "cell_type": "code",
   "execution_count": null,
   "metadata": {},
   "outputs": [],
   "source": [
    "%%px --block --group-outputs=type\n",
    "\n",
    "#Test with regions\n",
    "rock_region = rv.region.Cylinder(p=(126, 114, 461), v=(0, 0, 1), r=63, l=875)\n",
    "highE_viewer.region = rock_region\n",
    "highE_viewer.ref_point = rock_region.p\n",
    "highE_viewer.ax_histogram.set_xlim(-1200, 3500)\n",
    "if rv.config['MPI']['mpi_rank'] == 0:\n",
    "    display(highE_viewer.figure)"
   ]
  },
  {
   "cell_type": "code",
   "execution_count": null,
   "metadata": {},
   "outputs": [],
   "source": [
    "%%px --block --group-outputs=type\n",
    "\n",
    "#DECT does not take regions, combine in a single mask\n",
    "dectgroup.create_mask(fill_value=True, overwrite=True)\n",
    "dectgroup.mask.math(value=False, op='set', region=air_region)\n",
    "dectgroup.mask.math(value=False, op='set', region=water_region)\n",
    "dectgroup.mask.math(value=False, op='set', region=teflon_region)\n",
    "dectgroup.mask.math(value=False, op='set', region=silica_region)\n",
    "dectgroup.mask.math(value=False, op='set', region=rock_region)\n",
    "highE_viewer.region = None\n",
    "highE_viewer.mask = dectgroup.mask\n",
    "highE_viewer.ax_histogram.set_xlim(-1200, 3500)\n",
    "if rv.config['MPI']['mpi_rank'] == 0:\n",
    "    display(highE_viewer.figure)"
   ]
  },
  {
   "cell_type": "code",
   "execution_count": null,
   "metadata": {},
   "outputs": [],
   "source": [
    "%%px --block --group-outputs=type\n",
    "\n",
    "dectgroup.create_segmentation(fill_value=0, overwrite=True)\n",
    "dectgroup.segmentation.math(value=1, op='set', region=air_region)\n",
    "dectgroup.segmentation.math(value=2, op='set', region=water_region)\n",
    "dectgroup.segmentation.math(value=3, op='set', region=teflon_region)\n",
    "dectgroup.segmentation.math(value=4, op='set', region=silica_region)\n",
    "dectgroup.segmentation.math(value=5, op='set', region=rock_region)\n",
    "\n",
    "\n",
    "dectgroup.mask.math(value=True, op='set', region=rv.region.Cylinder(r=10000, p=rock_region.p, v=(0,0,1), l=10, region='outside'))\n",
    "\n",
    "highE_viewer.segmentation = dectgroup.segmentation\n",
    "highE_viewer.mask_color = 'k'\n",
    "highE_viewer.mask_alpha = 0.75\n",
    "highE_viewer.ax_histogram.set_xlim(-1200, 3500)\n",
    "if rv.config['MPI']['mpi_rank'] == 0:\n",
    "    display(highE_viewer.figure)"
   ]
  },
  {
   "cell_type": "code",
   "execution_count": null,
   "metadata": {},
   "outputs": [],
   "source": [
    "%%px --block --group-outputs=type\n",
    "\n",
    "highE_viewer.histogram_bins=2**10\n",
    "highE_viewer.update_image_dict(clim=(-1200, 3000))\n",
    "highE_viewer.ax_histogram.set_xlim(-1200, 3000)\n",
    "\n",
    "highE_viewer.ax_histogram.legend(\n",
    "    [\n",
    "        highE_viewer.histogram_lines['full'],\n",
    "        highE_viewer.histogram_lines['1'],\n",
    "        highE_viewer.histogram_lines['2'],\n",
    "        highE_viewer.histogram_lines['3'],\n",
    "        highE_viewer.histogram_lines['4'],\n",
    "        highE_viewer.histogram_lines['5'],\n",
    "    ], [\n",
    "        'Full',\n",
    "        'Air',\n",
    "        'Water',\n",
    "        'Teflon',\n",
    "        'SiO2',\n",
    "        'Rock'\n",
    "    ]\n",
    ")\n",
    "if rv.config['MPI']['mpi_rank'] == 0:\n",
    "    display(highE_viewer.figure)"
   ]
  },
  {
   "cell_type": "code",
   "execution_count": null,
   "metadata": {},
   "outputs": [],
   "source": [
    "%%px --block --group-outputs=type\n",
    "\n",
    "\n",
    "dectgroup.histogram_bins = 2**10\n",
    "\n",
    "dectgroup.calibration_material0['description'] = 'Air'\n",
    "dectgroup.calibration_material0['segmentation_phase'] = 1\n",
    "dectgroup.calibration_material0['lowE_gaussian_center_bounds'] = [-1050, -950]\n",
    "dectgroup.calibration_material0['highE_gaussian_center_bounds'] = [-1050, -950]\n",
    "\n",
    "dectgroup.calibration_material1['description'] = 'Water'\n",
    "dectgroup.calibration_material1['segmentation_phase'] = 2\n",
    "dectgroup.calibration_material1['composition'] = {'H': 2, 'O': 1}\n",
    "dectgroup.calibration_material1['bulk_density'] = 1\n",
    "dectgroup.calibration_material1['lowE_gaussian_center_bounds'] = [-100, 100]\n",
    "dectgroup.calibration_material1['highE_gaussian_center_bounds'] = [-100, 100]\n",
    "\n",
    "dectgroup.calibration_material2['description'] = 'SiO2'\n",
    "dectgroup.calibration_material2['segmentation_phase'] = 3\n",
    "dectgroup.calibration_material2['composition'] = {'Si': 1, 'O': 2}\n",
    "dectgroup.calibration_material2['bulk_density'] = 2.2\n",
    "dectgroup.calibration_material2['lowE_gaussian_center_bounds'] = [1550, 1700]\n",
    "dectgroup.calibration_material2['highE_gaussian_center_bounds'] = [1300, 1500]\n",
    "\n",
    "dectgroup.calibration_material3['description'] = 'Teflon'\n",
    "dectgroup.calibration_material3['segmentation_phase'] = 4\n",
    "dectgroup.calibration_material3['composition'] = {'C': 2, 'F': 4}\n",
    "dectgroup.calibration_material3['bulk_density'] = 2.2\n",
    "dectgroup.calibration_material3['lowE_gaussian_center_bounds'] = [1000, 1200]\n",
    "dectgroup.calibration_material3['highE_gaussian_center_bounds'] = [1000, 1100]\n",
    "\n",
    "dectgroup.preprocess()\n",
    "\n",
    "\n",
    "#MELHORAR O OUPTUT SEM LINHAS NO TQDM"
   ]
  },
  {
   "cell_type": "markdown",
   "metadata": {},
   "source": [
    "FAZER O PLOT"
   ]
  },
  {
   "cell_type": "code",
   "execution_count": null,
   "metadata": {},
   "outputs": [],
   "source": [
    "%%px --block --group-outputs=type\n",
    "dectgroup.run()"
   ]
  }
 ],
 "metadata": {
  "kernelspec": {
   "display_name": "rockverse-env",
   "language": "python",
   "name": "python3"
  },
  "language_info": {
   "codemirror_mode": {
    "name": "ipython",
    "version": 3
   },
   "file_extension": ".py",
   "mimetype": "text/x-python",
   "name": "python",
   "nbconvert_exporter": "python",
   "pygments_lexer": "ipython3",
   "version": "3.12.8"
  }
 },
 "nbformat": 4,
 "nbformat_minor": 2
}
