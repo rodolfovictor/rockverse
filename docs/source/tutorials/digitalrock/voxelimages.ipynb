{
 "cells": [
  {
   "cell_type": "markdown",
   "metadata": {},
   "source": [
    ".. _tutorials voxel images:\n",
    "\n",
    "# Introduction to Voxel Images \n",
    "\n",
    "Voxel images are the basic data type for Digital Rock Petrophysics in RockVerse. The ``VoxelImage``\n",
    "class builds upon\n",
    "[Zarr arrays](https://zarr.readthedocs.io/en/stable/_autoapi/zarr.core.Array.html#zarr.core.Array)\n",
    "by adding attributes and methods specifically optimized for digital rock petrophysics workflows in \n",
    "a high performance parallel computing environment, seamlessly enabling advanced computational \n",
    "capabilities in a user-friendly API.\n",
    "\n",
    "## Understanding the VoxelImage data\n",
    "\n",
    "### Chunked storage\n",
    "\n",
    "VoxelImage leverages the power of Zarr arrays for storing voxel data in a chunked format. \n",
    "This means that the large 3D image is divided into smaller, manageable chunks for efficient \n",
    "storage, retrieval, and parallel processing. Zarr also supports compression within chunks, \n",
    "significantly reducing file size without compromising data integrity. This is particularly \n",
    "beneficial for handling the massive datasets often encountered in digital rock analysis.\n",
    "\n",
    "Key advantages of chunked data:\n",
    "\n",
    "- Efficient storage: Chunks can be compressed individually, reducing file size.\n",
    "- Parallel processing: Different chunks can be processed simultaneously, speeding up computations.\n",
    "- Random access: Specific chunks can be accessed and processed without loading the entire dataset.\n",
    " \n",
    "<figure>\n",
    "  <img src=\"..\\..\\_static\\chunked-array.png\" alt=\"Chunked array\">\n",
    "  <figcaption>\n",
    "  Structure of a chunked array. The large dataset is divided into small chunks.\n",
    "  [(Originalimage)](https://www.unidata.ucar.edu/software/netcdf/workshops/2012/nc4chunking/WhatIsChunking.html)\n",
    "  </figcaption>\n",
    "</figure>\n",
    "\n",
    "## Internal Zarr Structure\n",
    "Internally, Zarr uses a specific structure to organize chunked data. Each chunk is stored as \n",
    "individual binary file. Additionally, Zarr utilizes separate JSON files to store:\n",
    "\n",
    "- Array metadata: Information like array size, chunk size, and data type. (.zarray file)\n",
    "- User-defined metadata: Custom information added by the user. (.zattrs file)\n",
    "\n",
    "<figure>\n",
    "  <img src=\"..\\..\\_static\\zarr-array.png\" alt=\"Structure of a Zarr array\">\n",
    "  <figcaption>\n",
    "  Structure in memory of a Zarr array \n",
    "  [(Originalimage)](https://aws.amazon.com/pt/blogs/publicsector/decrease-geospatial-query-latency-minutes-seconds-using-zarr-amazon-s3/)\n",
    "  </figcaption>\n",
    "</figure>\n",
    "\n",
    "\n",
    "# Creating a voxel image\n",
    "\n",
    "There are several options to create a ``VoxelImage`` object (see the documentation for the [voxel_image_module](../../api/digitalrock/voxelimage.rst)."
   ]
  }
 ],
 "metadata": {
  "kernelspec": {
   "display_name": "rockverse",
   "language": "python",
   "name": "python3"
  },
  "language_info": {
   "codemirror_mode": {
    "name": "ipython",
    "version": 3
   },
   "file_extension": ".py",
   "mimetype": "text/x-python",
   "name": "python",
   "nbconvert_exporter": "python",
   "pygments_lexer": "ipython3",
   "version": "3.12.7"
  }
 },
 "nbformat": 4,
 "nbformat_minor": 2
}
