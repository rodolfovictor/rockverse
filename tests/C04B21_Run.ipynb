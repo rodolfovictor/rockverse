{
 "cells": [
  {
   "cell_type": "markdown",
   "metadata": {},
   "source": [
    "Dual energy carbonate CT\n",
    "========================\n",
    "\n",
    "test\n"
   ]
  },
  {
   "cell_type": "code",
   "execution_count": 1,
   "metadata": {},
   "outputs": [
    {
     "name": "stdout",
     "output_type": "stream",
     "text": [
      "Starting 40 engines with <class 'ipyparallel.cluster.launcher.MPIEngineSetLauncher'>\n"
     ]
    },
    {
     "data": {
      "application/vnd.jupyter.widget-view+json": {
       "model_id": "2ea4727431724e02b0d4329806f6b903",
       "version_major": 2,
       "version_minor": 0
      },
      "text/plain": [
       "  0%|          | 0/40 [00:00<?, ?engine/s]"
      ]
     },
     "metadata": {},
     "output_type": "display_data"
    }
   ],
   "source": [
    "import ipyparallel as ipp\n",
    "\n",
    "# Create an MPI cluster with 8 engines\n",
    "cluster = ipp.Cluster(engines=\"mpi\", n=40)\n",
    "\n",
    "# Start and connect to the cluster\n",
    "rc = cluster.start_and_connect_sync()\n",
    "\n",
    "# Enable IPython magics for parallel processing\n",
    "rc[:].activate()"
   ]
  },
  {
   "cell_type": "code",
   "execution_count": null,
   "metadata": {},
   "outputs": [
    {
     "data": {
      "text/plain": [
       "[stdout:0] [2025-02-20 15:47:18] Hashing Low attenuation: 100% 16/16 [00:00<00:00, 122.21chunk/s]\n",
       "[2025-02-20 15:47:18] Hashing High attenuation: 100% 16/16 [00:00<00:00, 114.69chunk/s]\n",
       "[2025-02-20 15:47:18] Hashing mask: 100% 16/16 [00:00<00:00, 332.61chunk/s]\n",
       "[2025-02-20 15:47:18] Hashing segmentation: 100% 16/16 [00:00<00:00, 327.53chunk/s]\n",
       "[2025-02-20 15:47:22] Generating inversion coefficients: 100% 100000/100000 [00:03<00:00, 30858.02/s]\n",
       "[2025-02-20 15:47:26] Creating output images: 11it [00:03,  3.42it/s]\n",
       "[2025-02-20 15:47:29] Counting voxels: 100% 16/16 [00:02<00:00,  7.99chunk/s]\n",
       "[2025-02-20 15:47:31] rho/Z inversion (chunk 1/16):   0% 26684/39445817 [01:19<26:43:22, 409.75voxel/s]"
      ]
     },
     "metadata": {},
     "output_type": "display_data"
    },
    {
     "data": {
      "application/vnd.jupyter.widget-view+json": {
       "model_id": "6241821821cd43648506dfc9be741550",
       "version_major": 2,
       "version_minor": 0
      },
      "text/plain": [
       "%px:   0%|          | 0/40 [00:00<?, ?tasks/s]"
      ]
     },
     "metadata": {},
     "output_type": "display_data"
    }
   ],
   "source": [
    "%%px --block\n",
    "import rockverse as rv\n",
    "dectgroup = rv.open('/estgf_dados/P_D/GOB7/testemunhos/C04B21_DGX')\n",
    "dectgroup.run(restart=True)"
   ]
  },
  {
   "cell_type": "code",
   "execution_count": null,
   "metadata": {},
   "outputs": [],
   "source": [
    "# RockVerse will normalize the pdf values before assigning them.\n",
    "# Let's check that also (again, make sure all processes run these four lines)\n",
    "x_lowE_pdf, y_lowE_pdf = dectgroup.calibration_material[cm_index].lowE_pdf\n",
    "x_highE_pdf, y_highE_pdf = dectgroup.calibration_material[cm_index].highE_pdf\n",
    "\n",
    "#Cumulative density function (CDF) is also available\n",
    "_, cdf_low = dectgroup.calibration_material[cm_index].lowE_cdf\n",
    "_, cdf_high = dectgroup.calibration_material[cm_index].highE_cdf\n",
    "\n",
    "if rv.mpi_rank == 0:\n",
    "    fig, ax = plt.subplots(1, 2, figsize=(9, 4.5),\n",
    "                            layout='constrained',\n",
    "                            sharex=True, sharey=True)\n",
    "    fig.suptitle('Probability density functions')\n",
    "\n",
    "    for k, (x, y, c, E) in enumerate(zip((x_lowE_pdf, x_highE_pdf),\n",
    "                                         (y_lowE_pdf, y_highE_pdf),\n",
    "                                         (cdf_low, cdf_high),\n",
    "                                         ('Low', 'High'))):\n",
    "        ax[k].plot(x, y, color='forestgreen')\n",
    "        ax[k].set_xlabel(f'{E} energy Air CT (HU)')\n",
    "        ax[k].set_ylabel('PDF model', color='forestgreen')\n",
    "        ax_cdf = ax[k].twinx()\n",
    "        ax_cdf.plot(x, c, color='tomato')\n",
    "        ax_cdf.set_ylabel('CDF model', color='tomato')\n",
    "        ax_cdf.set_ylim(ymin=0)\n",
    "    ax[0].set_ylim(ymin=0)\n"
   ]
  },
  {
   "cell_type": "code",
   "execution_count": null,
   "metadata": {},
   "outputs": [],
   "source": [
    "%%px --block\n",
    "\n",
    "seg_phase = 2 # Water is segmentation phase 1\n",
    "cm_index = 1  # We'll assign water to calibration material 1\n",
    "name = 'Water'\n",
    "bulk_density = 1.\n",
    "composition = {'H': 2, 'O': 1}\n",
    "\n",
    "x_low = lowE_viewer.histogram.bin_centers\n",
    "y_low = lowE_viewer.histogram.count[seg_phase].values\n",
    "x_high = highE_viewer.histogram.bin_centers\n",
    "y_high = highE_viewer.histogram.count[seg_phase].values\n",
    "\n",
    "# Call gaussian_fit to get fitting parameters\n",
    "c_low = gaussian_fit(x_low, y_low)\n",
    "c_high = gaussian_fit(x_high, y_high)\n",
    "\n",
    "# Build a fine-spaced histogram axis and call\n",
    "# gaussian_val to build the gaussian curve.\n",
    "# It is important sample regions\n",
    "# with PDF values close to zero\n",
    "xlim = (-200, 150)\n",
    "x_fit = np.linspace(*xlim, 200)\n",
    "y_fit_low = gaussian_val(c_low, x_fit)\n",
    "y_fit_high = gaussian_val(c_high, x_fit)\n",
    "\n",
    "# Let's check the Gaussian fit:\n",
    "if mpi_rank == 0:\n",
    "    fig, ax = plt.subplots(1, 2, figsize=(10, 5),\n",
    "                           layout='constrained',\n",
    "                           sharex=True, sharey=True)\n",
    "    fig.suptitle('Gaussian histogram fit')\n",
    "\n",
    "    for k, (x, y, yfit, E) in enumerate(zip((x_low, x_high),\n",
    "                                            (y_low, y_high),\n",
    "                                            (y_fit_low, y_fit_high),\n",
    "                                            ('Low', 'High'))):\n",
    "\n",
    "        ax[k].plot(x, y, '.--', label='Histogram')\n",
    "        ax[k].plot(x_fit, yfit, '-', label='Gaussian fit')\n",
    "        ax[k].set_xlabel(f'{name} {E} energy CT (HU)')\n",
    "        ax[k].set_xlim(xlim)\n",
    "        ax[k].legend()\n",
    "        ax[k].set_ylabel('Count')\n",
    "    ax[0].set_ylim(ymin=0)\n",
    "\n",
    "# Now fill in necessary fields in dectgroup\n",
    "# Note: setting or getting PDFs is a collective MPI call,\n",
    "# make sure all the processes run it (e.g. don't use if 'mpi_rank == 0')\n",
    "dectgroup.calibration_material[cm_index].description = name\n",
    "dectgroup.calibration_material[cm_index].lowE_pdf = (x_fit, y_fit_low)\n",
    "dectgroup.calibration_material[cm_index].highE_pdf = (x_fit, y_fit_high)\n",
    "dectgroup.calibration_material[cm_index].bulk_density = bulk_density\n",
    "dectgroup.calibration_material[cm_index].composition = composition\n",
    "\n",
    "# RockVerse will normalize the PDF values before assigning them.\n",
    "# Let's check that also (again, make sure all processes run these four lines)\n",
    "x_lowE_pdf, y_lowE_pdf = dectgroup.calibration_material[cm_index].lowE_pdf\n",
    "_, cdf_low = dectgroup.calibration_material[cm_index].lowE_cdf\n",
    "x_highE_pdf, y_highE_pdf = dectgroup.calibration_material[cm_index].highE_pdf\n",
    "_, cdf_high = dectgroup.calibration_material[cm_index].highE_cdf\n",
    "\n",
    "if rv.mpi_rank == 0:\n",
    "    fig, ax = plt.subplots(1, 2, figsize=(9, 4.5),\n",
    "                           layout='constrained',\n",
    "                           sharex=True, sharey=True)\n",
    "    fig.suptitle('Probability density functions')\n",
    "\n",
    "    for k, (x, y, c, E) in enumerate(zip((x_lowE_pdf, x_highE_pdf),\n",
    "                                         (y_lowE_pdf, y_highE_pdf),\n",
    "                                         (cdf_low, cdf_high),\n",
    "                                         ('Low', 'High'))):\n",
    "        ax[k].plot(x, y, color='forestgreen')\n",
    "        ax[k].set_xlabel(f'{E} energy Air CT (HU)')\n",
    "        ax[k].set_ylabel('PDF model', color='forestgreen')\n",
    "        ax_cdf = ax[k].twinx()\n",
    "        ax_cdf.plot(x, c, color='tomato')\n",
    "        ax_cdf.set_ylabel('CDF model', color='tomato')\n",
    "        ax_cdf.set_ylim(ymin=0)\n",
    "    ax[0].set_ylim(ymin=0)\n"
   ]
  },
  {
   "cell_type": "code",
   "execution_count": null,
   "metadata": {},
   "outputs": [],
   "source": [
    "\n",
    "\n",
    "# RockVerse will normalize the PDF values before assigning them.\n",
    "# Let's check that also (again, make sure all processes run these four lines)\n",
    "x_lowE_pdf, y_lowE_pdf = dectgroup.calibration_material[cm_index].lowE_pdf\n",
    "x_highE_pdf, y_highE_pdf = dectgroup.calibration_material[cm_index].highE_pdf\n",
    "_, cdf_low = dectgroup.calibration_material[cm_index].lowE_cdf\n",
    "_, cdf_high = dectgroup.calibration_material[cm_index].highE_cdf\n",
    "\n",
    "if rv.mpi_rank == 0:\n",
    "    fig, ax = plt.subplots(1, 2, figsize=(9, 4.5),\n",
    "                           layout='constrained',\n",
    "                           sharex=True, sharey=True)\n",
    "    fig.suptitle('Probability density functions')\n",
    "\n",
    "    for k, (x, y, c, E) in enumerate(zip((x_lowE_pdf, x_highE_pdf),\n",
    "                                         (y_lowE_pdf, y_highE_pdf),\n",
    "                                         (cdf_low, cdf_high),\n",
    "                                         ('Low', 'High'))):\n",
    "        ax[k].plot(x, y, color='forestgreen')\n",
    "        ax[k].set_xlabel(f'{E} energy Air CT (HU)')\n",
    "        ax[k].set_ylabel('PDF model', color='forestgreen')\n",
    "        ax_cdf = ax[k].twinx()\n",
    "        ax_cdf.plot(x, c, color='tomato')\n",
    "        ax_cdf.set_ylabel('CDF model', color='tomato')\n",
    "        ax_cdf.set_ylim(ymin=0)\n",
    "    ax[0].set_ylim(ymin=0)\n"
   ]
  },
  {
   "cell_type": "code",
   "execution_count": null,
   "metadata": {},
   "outputs": [],
   "source": [
    "\n",
    "# RockVerse will normalize the PDF values before assigning them.\n",
    "# Let's check that also (again, make sure all processes run these four lines)\n",
    "x_lowE_pdf, y_lowE_pdf = dectgroup.calibration_material[cm_index].lowE_pdf\n",
    "x_highE_pdf, y_highE_pdf = dectgroup.calibration_material[cm_index].highE_pdf\n",
    "_, cdf_low = dectgroup.calibration_material[cm_index].lowE_cdf\n",
    "_, cdf_high = dectgroup.calibration_material[cm_index].highE_cdf\n",
    "\n",
    "if rv.mpi_rank == 0:\n",
    "    fig, ax = plt.subplots(1, 2, figsize=(9, 4.5),\n",
    "                           layout='constrained',\n",
    "                           sharex=True, sharey=True)\n",
    "    fig.suptitle('Probability density functions')\n",
    "\n",
    "    for k, (x, y, c, E) in enumerate(zip((x_lowE_pdf, x_highE_pdf),\n",
    "                                         (y_lowE_pdf, y_highE_pdf),\n",
    "                                         (cdf_low, cdf_high),\n",
    "                                         ('Low', 'High'))):\n",
    "        ax[k].plot(x, y, color='forestgreen')\n",
    "        ax[k].set_xlabel(f'{E} energy Air CT (HU)')\n",
    "        ax[k].set_ylabel('PDF model', color='forestgreen')\n",
    "        ax_cdf = ax[k].twinx()\n",
    "        ax_cdf.plot(x, c, color='tomato')\n",
    "        ax_cdf.set_ylabel('CDF model', color='tomato')\n",
    "        ax_cdf.set_ylim(ymin=0)\n",
    "    ax[0].set_ylim(ymin=0)"
   ]
  },
  {
   "cell_type": "code",
   "execution_count": null,
   "metadata": {},
   "outputs": [],
   "source": []
  }
 ],
 "metadata": {
  "kernelspec": {
   "display_name": "rockverse-zarr3",
   "language": "python",
   "name": "python3"
  },
  "language_info": {
   "codemirror_mode": {
    "name": "ipython",
    "version": 3
   },
   "file_extension": ".py",
   "mimetype": "text/x-python",
   "name": "python",
   "nbconvert_exporter": "python",
   "pygments_lexer": "ipython3",
   "version": "3.12.8"
  }
 },
 "nbformat": 4,
 "nbformat_minor": 2
}
