{
 "cells": [
  {
   "cell_type": "markdown",
   "metadata": {},
   "source": [
    "Connected to rockverse-env (Python 3.12.8)"
   ]
  },
  {
   "cell_type": "code",
   "execution_count": null,
   "metadata": {},
   "outputs": [],
   "source": [
    "import ipyparallel as ipp\n",
    "cluster = ipp.Cluster(engines=\"mpi\", n=4)\n",
    "rc = cluster.start_and_connect_sync()\n",
    "rc[:].activate()"
   ]
  },
  {
   "cell_type": "code",
   "execution_count": null,
   "metadata": {},
   "outputs": [],
   "source": [
    "%%px --block\n",
    "import rockverse as rv\n",
    "\n",
    "import zarr\n",
    "with zarr.config.set({'array.order': 'F'}):\n",
    "    z1 = zarr.create_array(shape=(1000,1000,1000), dtype='f8', store=None)\n",
    "z2 = zarr.create_array(shape=(1000,1000,1000), dtype='f8', store=None)\n",
    "\n",
    "kwargs=dict(\n",
    "    shape=(400,400),\n",
    "    dtype=float,\n",
    "    store=None,#'/u/gob7/Downloads/test.zarr',\n",
    "    chunks=8,\n",
    "    overwrite=True,\n",
    "    field_name='rod',\n",
    "    field_unit='s',\n",
    "    description='rod s xxx',\n",
    "    voxel_origin=(1, 2, 3),\n",
    "    voxel_length=(0.1, 0.2, 0.3),\n",
    "    voxel_unit='mm'\n",
    "    )\n",
    "\n",
    "self=rv.voxel_image.zeros(**kwargs)\n",
    "#self[...] = 3\n",
    "z1.order, z2.order, self.zarray.order\n"
   ]
  },
  {
   "cell_type": "code",
   "execution_count": null,
   "metadata": {},
   "outputs": [],
   "source": [
    "%%px --block\n",
    "self[1:300, 4, :]=88\n",
    "self.zarray[...]\n",
    "#self.math(77, 'set')"
   ]
  },
  {
   "cell_type": "code",
   "execution_count": null,
   "metadata": {},
   "outputs": [],
   "source": [
    "%%px --block\n",
    "self.zarray.info_complete()"
   ]
  },
  {
   "cell_type": "code",
   "execution_count": null,
   "metadata": {},
   "outputs": [],
   "source": [
    "%%px --block\n",
    "\n",
    "dd= zarr.open('/u/gob7/Downloads/test.zarr')\n",
    "dd[...]"
   ]
  },
  {
   "cell_type": "code",
   "execution_count": null,
   "metadata": {},
   "outputs": [],
   "source": [
    "%%px --block\n",
    "import rockverse as rv\n",
    "xxxa = rv.open('/u/gob7/Downloads/test.zarr')"
   ]
  },
  {
   "cell_type": "code",
   "execution_count": null,
   "metadata": {},
   "outputs": [],
   "source": [
    "%%px --block\n",
    "list(xxxa.zarray.attrs.keys())"
   ]
  },
  {
   "cell_type": "code",
   "execution_count": null,
   "metadata": {},
   "outputs": [],
   "source": []
  }
 ],
 "metadata": {
  "kernelspec": {
   "display_name": "rockverse-zarr3",
   "language": "python",
   "name": "python3"
  },
  "language_info": {
   "codemirror_mode": {
    "name": "ipython",
    "version": 3
   },
   "file_extension": ".py",
   "mimetype": "text/x-python",
   "name": "python",
   "nbconvert_exporter": "python",
   "pygments_lexer": "ipython3",
   "version": "3.12.8"
  }
 },
 "nbformat": 4,
 "nbformat_minor": 2
}
