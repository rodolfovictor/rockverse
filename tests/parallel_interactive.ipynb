{
 "cells": [
  {
   "cell_type": "markdown",
   "metadata": {},
   "source": [
    "Connected to rockverse-env (Python 3.12.8)"
   ]
  },
  {
   "cell_type": "code",
   "execution_count": 2,
   "metadata": {},
   "outputs": [
    {
     "name": "stdout",
     "output_type": "stream",
     "text": [
      "Starting 4 engines with <class 'ipyparallel.cluster.launcher.MPIEngineSetLauncher'>\n"
     ]
    },
    {
     "data": {
      "application/vnd.jupyter.widget-view+json": {
       "model_id": "e8e7bd54a6e143b88a2730c811f00206",
       "version_major": 2,
       "version_minor": 0
      },
      "text/plain": [
       "  0%|          | 0/4 [00:00<?, ?engine/s]"
      ]
     },
     "metadata": {},
     "output_type": "display_data"
    }
   ],
   "source": [
    "import ipyparallel as ipp\n",
    "cluster = ipp.Cluster(engines=\"mpi\", n=4)\n",
    "rc = cluster.start_and_connect_sync()\n",
    "rc[:].activate()"
   ]
  },
  {
   "cell_type": "code",
   "execution_count": null,
   "metadata": {},
   "outputs": [
    {
     "name": "stderr",
     "output_type": "stream",
     "text": [
      "[3:execute]\n",
      "\u001b[0;31m---------------------------------------------------------------------------\u001b[0m\n",
      "\u001b[0;31mValueError\u001b[0m                                Traceback (most recent call last)\n",
      "Cell \u001b[0;32mIn[12], line 22\u001b[0m\n",
      "\u001b[1;32m      6\u001b[0m z2 \u001b[38;5;241m=\u001b[39m zarr\u001b[38;5;241m.\u001b[39mcreate_array(shape\u001b[38;5;241m=\u001b[39m(\u001b[38;5;241m1000\u001b[39m,\u001b[38;5;241m1000\u001b[39m,\u001b[38;5;241m1000\u001b[39m), dtype\u001b[38;5;241m=\u001b[39m\u001b[38;5;124m'\u001b[39m\u001b[38;5;124mf8\u001b[39m\u001b[38;5;124m'\u001b[39m, store\u001b[38;5;241m=\u001b[39m\u001b[38;5;28;01mNone\u001b[39;00m)    \n",
      "\u001b[1;32m      8\u001b[0m kwargs\u001b[38;5;241m=\u001b[39m\u001b[38;5;28mdict\u001b[39m(\n",
      "\u001b[1;32m      9\u001b[0m     shape\u001b[38;5;241m=\u001b[39m(\u001b[38;5;241m400\u001b[39m,\u001b[38;5;241m400\u001b[39m),\n",
      "\u001b[1;32m     10\u001b[0m     dtype\u001b[38;5;241m=\u001b[39m\u001b[38;5;28mfloat\u001b[39m,\n",
      "\u001b[0;32m   (...)\u001b[0m\n",
      "\u001b[1;32m     19\u001b[0m     voxel_unit\u001b[38;5;241m=\u001b[39m\u001b[38;5;124m'\u001b[39m\u001b[38;5;124mmm\u001b[39m\u001b[38;5;124m'\u001b[39m\n",
      "\u001b[1;32m     20\u001b[0m     )\n",
      "\u001b[0;32m---> 22\u001b[0m \u001b[38;5;28mself\u001b[39m\u001b[38;5;241m=\u001b[39m\u001b[43mrv\u001b[49m\u001b[38;5;241;43m.\u001b[39;49m\u001b[43mvoxel_image\u001b[49m\u001b[38;5;241;43m.\u001b[39;49m\u001b[43mzeros\u001b[49m\u001b[43m(\u001b[49m\u001b[38;5;241;43m*\u001b[39;49m\u001b[38;5;241;43m*\u001b[39;49m\u001b[43mkwargs\u001b[49m\u001b[43m)\u001b[49m\n",
      "\u001b[1;32m     23\u001b[0m \u001b[38;5;66;03m#self[...] = 3\u001b[39;00m\n",
      "\u001b[1;32m     24\u001b[0m z1\u001b[38;5;241m.\u001b[39morder, z2\u001b[38;5;241m.\u001b[39morder, \u001b[38;5;28mself\u001b[39m\u001b[38;5;241m.\u001b[39marray\u001b[38;5;241m.\u001b[39morder\n",
      "\n",
      "File \u001b[0;32m~/rockverse/src/rockverse/voxel_image/__init__.py:221\u001b[0m, in \u001b[0;36mzeros\u001b[0;34m(shape, dtype, **kwargs)\u001b[0m\n",
      "\u001b[1;32m    219\u001b[0m kwargs[\u001b[38;5;124m'\u001b[39m\u001b[38;5;124mshape\u001b[39m\u001b[38;5;124m'\u001b[39m] \u001b[38;5;241m=\u001b[39m shape\n",
      "\u001b[1;32m    220\u001b[0m kwargs[\u001b[38;5;124m'\u001b[39m\u001b[38;5;124mdtype\u001b[39m\u001b[38;5;124m'\u001b[39m] \u001b[38;5;241m=\u001b[39m dtype\n",
      "\u001b[0;32m--> 221\u001b[0m kwargs[\u001b[38;5;124m'\u001b[39m\u001b[38;5;124mfill_value\u001b[39m\u001b[38;5;124m'\u001b[39m] \u001b[38;5;241m=\u001b[39m \u001b[38;5;241m0\u001b[39m\n",
      "\u001b[1;32m    222\u001b[0m \u001b[38;5;28;01mreturn\u001b[39;00m create(\u001b[38;5;241m*\u001b[39m\u001b[38;5;241m*\u001b[39mkwargs)\n",
      "\n",
      "File \u001b[0;32m~/rockverse/src/rockverse/voxel_image/__init__.py:120\u001b[0m, in \u001b[0;36mcreate\u001b[0;34m(shape, dtype, chunks, store, overwrite, field_name, field_unit, description, voxel_origin, voxel_length, voxel_unit, **kwargs)\u001b[0m\n",
      "\u001b[1;32m    118\u001b[0m \u001b[38;5;28;01melif\u001b[39;00m chunks \u001b[38;5;241m==\u001b[39m \u001b[38;5;124m'\u001b[39m\u001b[38;5;124mnprocs\u001b[39m\u001b[38;5;124m'\u001b[39m:\n",
      "\u001b[1;32m    119\u001b[0m     _chunks \u001b[38;5;241m=\u001b[39m auto_chunk_3d(shape, config\u001b[38;5;241m.\u001b[39mmpi_nprocs)\n",
      "\u001b[0;32m--> 120\u001b[0m \u001b[38;5;28;01melif\u001b[39;00m \u001b[38;5;28misinstance\u001b[39m(chunks, \u001b[38;5;28mint\u001b[39m):\n",
      "\u001b[1;32m    121\u001b[0m     _chunks \u001b[38;5;241m=\u001b[39m auto_chunk_3d(shape, chunks)\n",
      "\u001b[1;32m    122\u001b[0m \u001b[38;5;28;01melse\u001b[39;00m:\n",
      "\n",
      "File \u001b[0;32m~/rockverse/src/rockverse/_utils/__init__.py:110\u001b[0m, in \u001b[0;36mauto_chunk_3d\u001b[0;34m(shape, n)\u001b[0m\n",
      "\u001b[1;32m    105\u001b[0m     cdata_shape[i, \u001b[38;5;241m3\u001b[39m] \u001b[38;5;241m=\u001b[39m (\u001b[38;5;28mabs\u001b[39m(cdata_shape[i, \u001b[38;5;241m0\u001b[39m]\u001b[38;5;241m-\u001b[39mcdata_shape[i, \u001b[38;5;241m1\u001b[39m])\n",
      "\u001b[1;32m    106\u001b[0m                          \u001b[38;5;241m+\u001b[39m\u001b[38;5;28mabs\u001b[39m(cdata_shape[i, \u001b[38;5;241m0\u001b[39m]\u001b[38;5;241m-\u001b[39mcdata_shape[i, \u001b[38;5;241m2\u001b[39m])\n",
      "\u001b[1;32m    107\u001b[0m                          \u001b[38;5;241m+\u001b[39m\u001b[38;5;28mabs\u001b[39m(cdata_shape[i, \u001b[38;5;241m1\u001b[39m]\u001b[38;5;241m-\u001b[39mcdata_shape[i, \u001b[38;5;241m2\u001b[39m]))\n",
      "\u001b[1;32m    108\u001b[0m ind \u001b[38;5;241m=\u001b[39m np\u001b[38;5;241m.\u001b[39margmin(cdata_shape[:, \u001b[38;5;241m3\u001b[39m])\n",
      "\u001b[0;32m--> 110\u001b[0m chunks \u001b[38;5;241m=\u001b[39m \u001b[38;5;28mtuple\u001b[39m(\u001b[38;5;28mint\u001b[39m(i) \u001b[38;5;28;01mfor\u001b[39;00m i \u001b[38;5;129;01min\u001b[39;00m np\u001b[38;5;241m.\u001b[39mceil(\u001b[43mnp\u001b[49m\u001b[38;5;241;43m.\u001b[39;49m\u001b[43marray\u001b[49m\u001b[43m(\u001b[49m\u001b[43mshape\u001b[49m\u001b[43m)\u001b[49m\u001b[38;5;241;43m.\u001b[39;49m\u001b[43mastype\u001b[49m\u001b[43m(\u001b[49m\u001b[38;5;28;43mfloat\u001b[39;49m\u001b[43m)\u001b[49m\u001b[38;5;241;43m/\u001b[39;49m\u001b[43mcdata_shape\u001b[49m\u001b[43m[\u001b[49m\u001b[43mind\u001b[49m\u001b[43m,\u001b[49m\u001b[43m \u001b[49m\u001b[43m:\u001b[49m\u001b[38;5;241;43m3\u001b[39;49m\u001b[43m]\u001b[49m\u001b[38;5;241;43m.\u001b[39;49m\u001b[43mastype\u001b[49m\u001b[43m(\u001b[49m\u001b[38;5;28;43mfloat\u001b[39;49m\u001b[43m)\u001b[49m))\n",
      "\u001b[1;32m    112\u001b[0m \u001b[38;5;28;01mreturn\u001b[39;00m chunks\n",
      "\n",
      "\u001b[0;31mValueError\u001b[0m: operands could not be broadcast together with shapes (2,) (3,) \n",
      "[0:execute]\n",
      "\u001b[0;31m---------------------------------------------------------------------------\u001b[0m\n",
      "\u001b[0;31mValueError\u001b[0m                                Traceback (most recent call last)\n",
      "Cell \u001b[0;32mIn[12], line 22\u001b[0m\n",
      "\u001b[1;32m      6\u001b[0m z2 \u001b[38;5;241m=\u001b[39m zarr\u001b[38;5;241m.\u001b[39mcreate_array(shape\u001b[38;5;241m=\u001b[39m(\u001b[38;5;241m1000\u001b[39m,\u001b[38;5;241m1000\u001b[39m,\u001b[38;5;241m1000\u001b[39m), dtype\u001b[38;5;241m=\u001b[39m\u001b[38;5;124m'\u001b[39m\u001b[38;5;124mf8\u001b[39m\u001b[38;5;124m'\u001b[39m, store\u001b[38;5;241m=\u001b[39m\u001b[38;5;28;01mNone\u001b[39;00m)    \n",
      "\u001b[1;32m      8\u001b[0m kwargs\u001b[38;5;241m=\u001b[39m\u001b[38;5;28mdict\u001b[39m(\n",
      "\u001b[1;32m      9\u001b[0m     shape\u001b[38;5;241m=\u001b[39m(\u001b[38;5;241m400\u001b[39m,\u001b[38;5;241m400\u001b[39m),\n",
      "\u001b[1;32m     10\u001b[0m     dtype\u001b[38;5;241m=\u001b[39m\u001b[38;5;28mfloat\u001b[39m,\n",
      "\u001b[0;32m   (...)\u001b[0m\n",
      "\u001b[1;32m     19\u001b[0m     voxel_unit\u001b[38;5;241m=\u001b[39m\u001b[38;5;124m'\u001b[39m\u001b[38;5;124mmm\u001b[39m\u001b[38;5;124m'\u001b[39m\n",
      "\u001b[1;32m     20\u001b[0m     )\n",
      "\u001b[0;32m---> 22\u001b[0m \u001b[38;5;28mself\u001b[39m\u001b[38;5;241m=\u001b[39m\u001b[43mrv\u001b[49m\u001b[38;5;241;43m.\u001b[39;49m\u001b[43mvoxel_image\u001b[49m\u001b[38;5;241;43m.\u001b[39;49m\u001b[43mzeros\u001b[49m\u001b[43m(\u001b[49m\u001b[38;5;241;43m*\u001b[39;49m\u001b[38;5;241;43m*\u001b[39;49m\u001b[43mkwargs\u001b[49m\u001b[43m)\u001b[49m\n",
      "\u001b[1;32m     23\u001b[0m \u001b[38;5;66;03m#self[...] = 3\u001b[39;00m\n",
      "\u001b[1;32m     24\u001b[0m z1\u001b[38;5;241m.\u001b[39morder, z2\u001b[38;5;241m.\u001b[39morder, \u001b[38;5;28mself\u001b[39m\u001b[38;5;241m.\u001b[39marray\u001b[38;5;241m.\u001b[39morder\n",
      "\n",
      "File \u001b[0;32m~/rockverse/src/rockverse/voxel_image/__init__.py:221\u001b[0m, in \u001b[0;36mzeros\u001b[0;34m(shape, dtype, **kwargs)\u001b[0m\n",
      "\u001b[1;32m    219\u001b[0m kwargs[\u001b[38;5;124m'\u001b[39m\u001b[38;5;124mshape\u001b[39m\u001b[38;5;124m'\u001b[39m] \u001b[38;5;241m=\u001b[39m shape\n",
      "\u001b[1;32m    220\u001b[0m kwargs[\u001b[38;5;124m'\u001b[39m\u001b[38;5;124mdtype\u001b[39m\u001b[38;5;124m'\u001b[39m] \u001b[38;5;241m=\u001b[39m dtype\n",
      "\u001b[0;32m--> 221\u001b[0m kwargs[\u001b[38;5;124m'\u001b[39m\u001b[38;5;124mfill_value\u001b[39m\u001b[38;5;124m'\u001b[39m] \u001b[38;5;241m=\u001b[39m \u001b[38;5;241m0\u001b[39m\n",
      "\u001b[1;32m    222\u001b[0m \u001b[38;5;28;01mreturn\u001b[39;00m create(\u001b[38;5;241m*\u001b[39m\u001b[38;5;241m*\u001b[39mkwargs)\n",
      "\n",
      "File \u001b[0;32m~/rockverse/src/rockverse/voxel_image/__init__.py:120\u001b[0m, in \u001b[0;36mcreate\u001b[0;34m(shape, dtype, chunks, store, overwrite, field_name, field_unit, description, voxel_origin, voxel_length, voxel_unit, **kwargs)\u001b[0m\n",
      "\u001b[1;32m    118\u001b[0m \u001b[38;5;28;01melif\u001b[39;00m chunks \u001b[38;5;241m==\u001b[39m \u001b[38;5;124m'\u001b[39m\u001b[38;5;124mnprocs\u001b[39m\u001b[38;5;124m'\u001b[39m:\n",
      "\u001b[1;32m    119\u001b[0m     _chunks \u001b[38;5;241m=\u001b[39m auto_chunk_3d(shape, config\u001b[38;5;241m.\u001b[39mmpi_nprocs)\n",
      "\u001b[0;32m--> 120\u001b[0m \u001b[38;5;28;01melif\u001b[39;00m \u001b[38;5;28misinstance\u001b[39m(chunks, \u001b[38;5;28mint\u001b[39m):\n",
      "\u001b[1;32m    121\u001b[0m     _chunks \u001b[38;5;241m=\u001b[39m auto_chunk_3d(shape, chunks)\n",
      "\u001b[1;32m    122\u001b[0m \u001b[38;5;28;01melse\u001b[39;00m:\n",
      "\n",
      "File \u001b[0;32m~/rockverse/src/rockverse/_utils/__init__.py:110\u001b[0m, in \u001b[0;36mauto_chunk_3d\u001b[0;34m(shape, n)\u001b[0m\n",
      "\u001b[1;32m    105\u001b[0m     cdata_shape[i, \u001b[38;5;241m3\u001b[39m] \u001b[38;5;241m=\u001b[39m (\u001b[38;5;28mabs\u001b[39m(cdata_shape[i, \u001b[38;5;241m0\u001b[39m]\u001b[38;5;241m-\u001b[39mcdata_shape[i, \u001b[38;5;241m1\u001b[39m])\n",
      "\u001b[1;32m    106\u001b[0m                          \u001b[38;5;241m+\u001b[39m\u001b[38;5;28mabs\u001b[39m(cdata_shape[i, \u001b[38;5;241m0\u001b[39m]\u001b[38;5;241m-\u001b[39mcdata_shape[i, \u001b[38;5;241m2\u001b[39m])\n",
      "\u001b[1;32m    107\u001b[0m                          \u001b[38;5;241m+\u001b[39m\u001b[38;5;28mabs\u001b[39m(cdata_shape[i, \u001b[38;5;241m1\u001b[39m]\u001b[38;5;241m-\u001b[39mcdata_shape[i, \u001b[38;5;241m2\u001b[39m]))\n",
      "\u001b[1;32m    108\u001b[0m ind \u001b[38;5;241m=\u001b[39m np\u001b[38;5;241m.\u001b[39margmin(cdata_shape[:, \u001b[38;5;241m3\u001b[39m])\n",
      "\u001b[0;32m--> 110\u001b[0m chunks \u001b[38;5;241m=\u001b[39m \u001b[38;5;28mtuple\u001b[39m(\u001b[38;5;28mint\u001b[39m(i) \u001b[38;5;28;01mfor\u001b[39;00m i \u001b[38;5;129;01min\u001b[39;00m np\u001b[38;5;241m.\u001b[39mceil(\u001b[43mnp\u001b[49m\u001b[38;5;241;43m.\u001b[39;49m\u001b[43marray\u001b[49m\u001b[43m(\u001b[49m\u001b[43mshape\u001b[49m\u001b[43m)\u001b[49m\u001b[38;5;241;43m.\u001b[39;49m\u001b[43mastype\u001b[49m\u001b[43m(\u001b[49m\u001b[38;5;28;43mfloat\u001b[39;49m\u001b[43m)\u001b[49m\u001b[38;5;241;43m/\u001b[39;49m\u001b[43mcdata_shape\u001b[49m\u001b[43m[\u001b[49m\u001b[43mind\u001b[49m\u001b[43m,\u001b[49m\u001b[43m \u001b[49m\u001b[43m:\u001b[49m\u001b[38;5;241;43m3\u001b[39;49m\u001b[43m]\u001b[49m\u001b[38;5;241;43m.\u001b[39;49m\u001b[43mastype\u001b[49m\u001b[43m(\u001b[49m\u001b[38;5;28;43mfloat\u001b[39;49m\u001b[43m)\u001b[49m))\n",
      "\u001b[1;32m    112\u001b[0m \u001b[38;5;28;01mreturn\u001b[39;00m chunks\n",
      "\n",
      "\u001b[0;31mValueError\u001b[0m: operands could not be broadcast together with shapes (2,) (3,) \n",
      "[1:execute]\n",
      "\u001b[0;31m---------------------------------------------------------------------------\u001b[0m\n",
      "\u001b[0;31mValueError\u001b[0m                                Traceback (most recent call last)\n",
      "Cell \u001b[0;32mIn[12], line 22\u001b[0m\n",
      "\u001b[1;32m      6\u001b[0m z2 \u001b[38;5;241m=\u001b[39m zarr\u001b[38;5;241m.\u001b[39mcreate_array(shape\u001b[38;5;241m=\u001b[39m(\u001b[38;5;241m1000\u001b[39m,\u001b[38;5;241m1000\u001b[39m,\u001b[38;5;241m1000\u001b[39m), dtype\u001b[38;5;241m=\u001b[39m\u001b[38;5;124m'\u001b[39m\u001b[38;5;124mf8\u001b[39m\u001b[38;5;124m'\u001b[39m, store\u001b[38;5;241m=\u001b[39m\u001b[38;5;28;01mNone\u001b[39;00m)    \n",
      "\u001b[1;32m      8\u001b[0m kwargs\u001b[38;5;241m=\u001b[39m\u001b[38;5;28mdict\u001b[39m(\n",
      "\u001b[1;32m      9\u001b[0m     shape\u001b[38;5;241m=\u001b[39m(\u001b[38;5;241m400\u001b[39m,\u001b[38;5;241m400\u001b[39m),\n",
      "\u001b[1;32m     10\u001b[0m     dtype\u001b[38;5;241m=\u001b[39m\u001b[38;5;28mfloat\u001b[39m,\n",
      "\u001b[0;32m   (...)\u001b[0m\n",
      "\u001b[1;32m     19\u001b[0m     voxel_unit\u001b[38;5;241m=\u001b[39m\u001b[38;5;124m'\u001b[39m\u001b[38;5;124mmm\u001b[39m\u001b[38;5;124m'\u001b[39m\n",
      "\u001b[1;32m     20\u001b[0m     )\n",
      "\u001b[0;32m---> 22\u001b[0m \u001b[38;5;28mself\u001b[39m\u001b[38;5;241m=\u001b[39m\u001b[43mrv\u001b[49m\u001b[38;5;241;43m.\u001b[39;49m\u001b[43mvoxel_image\u001b[49m\u001b[38;5;241;43m.\u001b[39;49m\u001b[43mzeros\u001b[49m\u001b[43m(\u001b[49m\u001b[38;5;241;43m*\u001b[39;49m\u001b[38;5;241;43m*\u001b[39;49m\u001b[43mkwargs\u001b[49m\u001b[43m)\u001b[49m\n",
      "\u001b[1;32m     23\u001b[0m \u001b[38;5;66;03m#self[...] = 3\u001b[39;00m\n",
      "\u001b[1;32m     24\u001b[0m z1\u001b[38;5;241m.\u001b[39morder, z2\u001b[38;5;241m.\u001b[39morder, \u001b[38;5;28mself\u001b[39m\u001b[38;5;241m.\u001b[39marray\u001b[38;5;241m.\u001b[39morder\n",
      "\n",
      "File \u001b[0;32m~/rockverse/src/rockverse/voxel_image/__init__.py:221\u001b[0m, in \u001b[0;36mzeros\u001b[0;34m(shape, dtype, **kwargs)\u001b[0m\n",
      "\u001b[1;32m    219\u001b[0m kwargs[\u001b[38;5;124m'\u001b[39m\u001b[38;5;124mshape\u001b[39m\u001b[38;5;124m'\u001b[39m] \u001b[38;5;241m=\u001b[39m shape\n",
      "\u001b[1;32m    220\u001b[0m kwargs[\u001b[38;5;124m'\u001b[39m\u001b[38;5;124mdtype\u001b[39m\u001b[38;5;124m'\u001b[39m] \u001b[38;5;241m=\u001b[39m dtype\n",
      "\u001b[0;32m--> 221\u001b[0m kwargs[\u001b[38;5;124m'\u001b[39m\u001b[38;5;124mfill_value\u001b[39m\u001b[38;5;124m'\u001b[39m] \u001b[38;5;241m=\u001b[39m \u001b[38;5;241m0\u001b[39m\n",
      "\u001b[1;32m    222\u001b[0m \u001b[38;5;28;01mreturn\u001b[39;00m create(\u001b[38;5;241m*\u001b[39m\u001b[38;5;241m*\u001b[39mkwargs)\n",
      "\n",
      "File \u001b[0;32m~/rockverse/src/rockverse/voxel_image/__init__.py:120\u001b[0m, in \u001b[0;36mcreate\u001b[0;34m(shape, dtype, chunks, store, overwrite, field_name, field_unit, description, voxel_origin, voxel_length, voxel_unit, **kwargs)\u001b[0m\n",
      "\u001b[1;32m    118\u001b[0m \u001b[38;5;28;01melif\u001b[39;00m chunks \u001b[38;5;241m==\u001b[39m \u001b[38;5;124m'\u001b[39m\u001b[38;5;124mnprocs\u001b[39m\u001b[38;5;124m'\u001b[39m:\n",
      "\u001b[1;32m    119\u001b[0m     _chunks \u001b[38;5;241m=\u001b[39m auto_chunk_3d(shape, config\u001b[38;5;241m.\u001b[39mmpi_nprocs)\n",
      "\u001b[0;32m--> 120\u001b[0m \u001b[38;5;28;01melif\u001b[39;00m \u001b[38;5;28misinstance\u001b[39m(chunks, \u001b[38;5;28mint\u001b[39m):\n",
      "\u001b[1;32m    121\u001b[0m     _chunks \u001b[38;5;241m=\u001b[39m auto_chunk_3d(shape, chunks)\n",
      "\u001b[1;32m    122\u001b[0m \u001b[38;5;28;01melse\u001b[39;00m:\n",
      "\n",
      "File \u001b[0;32m~/rockverse/src/rockverse/_utils/__init__.py:110\u001b[0m, in \u001b[0;36mauto_chunk_3d\u001b[0;34m(shape, n)\u001b[0m\n",
      "\u001b[1;32m    105\u001b[0m     cdata_shape[i, \u001b[38;5;241m3\u001b[39m] \u001b[38;5;241m=\u001b[39m (\u001b[38;5;28mabs\u001b[39m(cdata_shape[i, \u001b[38;5;241m0\u001b[39m]\u001b[38;5;241m-\u001b[39mcdata_shape[i, \u001b[38;5;241m1\u001b[39m])\n",
      "\u001b[1;32m    106\u001b[0m                          \u001b[38;5;241m+\u001b[39m\u001b[38;5;28mabs\u001b[39m(cdata_shape[i, \u001b[38;5;241m0\u001b[39m]\u001b[38;5;241m-\u001b[39mcdata_shape[i, \u001b[38;5;241m2\u001b[39m])\n",
      "\u001b[1;32m    107\u001b[0m                          \u001b[38;5;241m+\u001b[39m\u001b[38;5;28mabs\u001b[39m(cdata_shape[i, \u001b[38;5;241m1\u001b[39m]\u001b[38;5;241m-\u001b[39mcdata_shape[i, \u001b[38;5;241m2\u001b[39m]))\n",
      "\u001b[1;32m    108\u001b[0m ind \u001b[38;5;241m=\u001b[39m np\u001b[38;5;241m.\u001b[39margmin(cdata_shape[:, \u001b[38;5;241m3\u001b[39m])\n",
      "\u001b[0;32m--> 110\u001b[0m chunks \u001b[38;5;241m=\u001b[39m \u001b[38;5;28mtuple\u001b[39m(\u001b[38;5;28mint\u001b[39m(i) \u001b[38;5;28;01mfor\u001b[39;00m i \u001b[38;5;129;01min\u001b[39;00m np\u001b[38;5;241m.\u001b[39mceil(\u001b[43mnp\u001b[49m\u001b[38;5;241;43m.\u001b[39;49m\u001b[43marray\u001b[49m\u001b[43m(\u001b[49m\u001b[43mshape\u001b[49m\u001b[43m)\u001b[49m\u001b[38;5;241;43m.\u001b[39;49m\u001b[43mastype\u001b[49m\u001b[43m(\u001b[49m\u001b[38;5;28;43mfloat\u001b[39;49m\u001b[43m)\u001b[49m\u001b[38;5;241;43m/\u001b[39;49m\u001b[43mcdata_shape\u001b[49m\u001b[43m[\u001b[49m\u001b[43mind\u001b[49m\u001b[43m,\u001b[49m\u001b[43m \u001b[49m\u001b[43m:\u001b[49m\u001b[38;5;241;43m3\u001b[39;49m\u001b[43m]\u001b[49m\u001b[38;5;241;43m.\u001b[39;49m\u001b[43mastype\u001b[49m\u001b[43m(\u001b[49m\u001b[38;5;28;43mfloat\u001b[39;49m\u001b[43m)\u001b[49m))\n",
      "\u001b[1;32m    112\u001b[0m \u001b[38;5;28;01mreturn\u001b[39;00m chunks\n",
      "\n",
      "\u001b[0;31mValueError\u001b[0m: operands could not be broadcast together with shapes (2,) (3,) \n",
      "[2:execute]\n",
      "\u001b[0;31m---------------------------------------------------------------------------\u001b[0m\n",
      "\u001b[0;31mValueError\u001b[0m                                Traceback (most recent call last)\n",
      "Cell \u001b[0;32mIn[12], line 22\u001b[0m\n",
      "\u001b[1;32m      6\u001b[0m z2 \u001b[38;5;241m=\u001b[39m zarr\u001b[38;5;241m.\u001b[39mcreate_array(shape\u001b[38;5;241m=\u001b[39m(\u001b[38;5;241m1000\u001b[39m,\u001b[38;5;241m1000\u001b[39m,\u001b[38;5;241m1000\u001b[39m), dtype\u001b[38;5;241m=\u001b[39m\u001b[38;5;124m'\u001b[39m\u001b[38;5;124mf8\u001b[39m\u001b[38;5;124m'\u001b[39m, store\u001b[38;5;241m=\u001b[39m\u001b[38;5;28;01mNone\u001b[39;00m)    \n",
      "\u001b[1;32m      8\u001b[0m kwargs\u001b[38;5;241m=\u001b[39m\u001b[38;5;28mdict\u001b[39m(\n",
      "\u001b[1;32m      9\u001b[0m     shape\u001b[38;5;241m=\u001b[39m(\u001b[38;5;241m400\u001b[39m,\u001b[38;5;241m400\u001b[39m),\n",
      "\u001b[1;32m     10\u001b[0m     dtype\u001b[38;5;241m=\u001b[39m\u001b[38;5;28mfloat\u001b[39m,\n",
      "\u001b[0;32m   (...)\u001b[0m\n",
      "\u001b[1;32m     19\u001b[0m     voxel_unit\u001b[38;5;241m=\u001b[39m\u001b[38;5;124m'\u001b[39m\u001b[38;5;124mmm\u001b[39m\u001b[38;5;124m'\u001b[39m\n",
      "\u001b[1;32m     20\u001b[0m     )\n",
      "\u001b[0;32m---> 22\u001b[0m \u001b[38;5;28mself\u001b[39m\u001b[38;5;241m=\u001b[39m\u001b[43mrv\u001b[49m\u001b[38;5;241;43m.\u001b[39;49m\u001b[43mvoxel_image\u001b[49m\u001b[38;5;241;43m.\u001b[39;49m\u001b[43mzeros\u001b[49m\u001b[43m(\u001b[49m\u001b[38;5;241;43m*\u001b[39;49m\u001b[38;5;241;43m*\u001b[39;49m\u001b[43mkwargs\u001b[49m\u001b[43m)\u001b[49m\n",
      "\u001b[1;32m     23\u001b[0m \u001b[38;5;66;03m#self[...] = 3\u001b[39;00m\n",
      "\u001b[1;32m     24\u001b[0m z1\u001b[38;5;241m.\u001b[39morder, z2\u001b[38;5;241m.\u001b[39morder, \u001b[38;5;28mself\u001b[39m\u001b[38;5;241m.\u001b[39marray\u001b[38;5;241m.\u001b[39morder\n",
      "\n",
      "File \u001b[0;32m~/rockverse/src/rockverse/voxel_image/__init__.py:221\u001b[0m, in \u001b[0;36mzeros\u001b[0;34m(shape, dtype, **kwargs)\u001b[0m\n",
      "\u001b[1;32m    219\u001b[0m kwargs[\u001b[38;5;124m'\u001b[39m\u001b[38;5;124mshape\u001b[39m\u001b[38;5;124m'\u001b[39m] \u001b[38;5;241m=\u001b[39m shape\n",
      "\u001b[1;32m    220\u001b[0m kwargs[\u001b[38;5;124m'\u001b[39m\u001b[38;5;124mdtype\u001b[39m\u001b[38;5;124m'\u001b[39m] \u001b[38;5;241m=\u001b[39m dtype\n",
      "\u001b[0;32m--> 221\u001b[0m kwargs[\u001b[38;5;124m'\u001b[39m\u001b[38;5;124mfill_value\u001b[39m\u001b[38;5;124m'\u001b[39m] \u001b[38;5;241m=\u001b[39m \u001b[38;5;241m0\u001b[39m\n",
      "\u001b[1;32m    222\u001b[0m \u001b[38;5;28;01mreturn\u001b[39;00m create(\u001b[38;5;241m*\u001b[39m\u001b[38;5;241m*\u001b[39mkwargs)\n",
      "\n",
      "File \u001b[0;32m~/rockverse/src/rockverse/voxel_image/__init__.py:120\u001b[0m, in \u001b[0;36mcreate\u001b[0;34m(shape, dtype, chunks, store, overwrite, field_name, field_unit, description, voxel_origin, voxel_length, voxel_unit, **kwargs)\u001b[0m\n",
      "\u001b[1;32m    118\u001b[0m \u001b[38;5;28;01melif\u001b[39;00m chunks \u001b[38;5;241m==\u001b[39m \u001b[38;5;124m'\u001b[39m\u001b[38;5;124mnprocs\u001b[39m\u001b[38;5;124m'\u001b[39m:\n",
      "\u001b[1;32m    119\u001b[0m     _chunks \u001b[38;5;241m=\u001b[39m auto_chunk_3d(shape, config\u001b[38;5;241m.\u001b[39mmpi_nprocs)\n",
      "\u001b[0;32m--> 120\u001b[0m \u001b[38;5;28;01melif\u001b[39;00m \u001b[38;5;28misinstance\u001b[39m(chunks, \u001b[38;5;28mint\u001b[39m):\n",
      "\u001b[1;32m    121\u001b[0m     _chunks \u001b[38;5;241m=\u001b[39m auto_chunk_3d(shape, chunks)\n",
      "\u001b[1;32m    122\u001b[0m \u001b[38;5;28;01melse\u001b[39;00m:\n",
      "\n",
      "File \u001b[0;32m~/rockverse/src/rockverse/_utils/__init__.py:110\u001b[0m, in \u001b[0;36mauto_chunk_3d\u001b[0;34m(shape, n)\u001b[0m\n",
      "\u001b[1;32m    105\u001b[0m     cdata_shape[i, \u001b[38;5;241m3\u001b[39m] \u001b[38;5;241m=\u001b[39m (\u001b[38;5;28mabs\u001b[39m(cdata_shape[i, \u001b[38;5;241m0\u001b[39m]\u001b[38;5;241m-\u001b[39mcdata_shape[i, \u001b[38;5;241m1\u001b[39m])\n",
      "\u001b[1;32m    106\u001b[0m                          \u001b[38;5;241m+\u001b[39m\u001b[38;5;28mabs\u001b[39m(cdata_shape[i, \u001b[38;5;241m0\u001b[39m]\u001b[38;5;241m-\u001b[39mcdata_shape[i, \u001b[38;5;241m2\u001b[39m])\n",
      "\u001b[1;32m    107\u001b[0m                          \u001b[38;5;241m+\u001b[39m\u001b[38;5;28mabs\u001b[39m(cdata_shape[i, \u001b[38;5;241m1\u001b[39m]\u001b[38;5;241m-\u001b[39mcdata_shape[i, \u001b[38;5;241m2\u001b[39m]))\n",
      "\u001b[1;32m    108\u001b[0m ind \u001b[38;5;241m=\u001b[39m np\u001b[38;5;241m.\u001b[39margmin(cdata_shape[:, \u001b[38;5;241m3\u001b[39m])\n",
      "\u001b[0;32m--> 110\u001b[0m chunks \u001b[38;5;241m=\u001b[39m \u001b[38;5;28mtuple\u001b[39m(\u001b[38;5;28mint\u001b[39m(i) \u001b[38;5;28;01mfor\u001b[39;00m i \u001b[38;5;129;01min\u001b[39;00m np\u001b[38;5;241m.\u001b[39mceil(\u001b[43mnp\u001b[49m\u001b[38;5;241;43m.\u001b[39;49m\u001b[43marray\u001b[49m\u001b[43m(\u001b[49m\u001b[43mshape\u001b[49m\u001b[43m)\u001b[49m\u001b[38;5;241;43m.\u001b[39;49m\u001b[43mastype\u001b[49m\u001b[43m(\u001b[49m\u001b[38;5;28;43mfloat\u001b[39;49m\u001b[43m)\u001b[49m\u001b[38;5;241;43m/\u001b[39;49m\u001b[43mcdata_shape\u001b[49m\u001b[43m[\u001b[49m\u001b[43mind\u001b[49m\u001b[43m,\u001b[49m\u001b[43m \u001b[49m\u001b[43m:\u001b[49m\u001b[38;5;241;43m3\u001b[39;49m\u001b[43m]\u001b[49m\u001b[38;5;241;43m.\u001b[39;49m\u001b[43mastype\u001b[49m\u001b[43m(\u001b[49m\u001b[38;5;28;43mfloat\u001b[39;49m\u001b[43m)\u001b[49m))\n",
      "\u001b[1;32m    112\u001b[0m \u001b[38;5;28;01mreturn\u001b[39;00m chunks\n",
      "\n",
      "\u001b[0;31mValueError\u001b[0m: operands could not be broadcast together with shapes (2,) (3,) \n"
     ]
    },
    {
     "ename": "AlreadyDisplayedError",
     "evalue": "4 errors",
     "output_type": "error",
     "traceback": [
      "4 errors"
     ]
    }
   ],
   "source": [
    "%%px --block\n",
    "import rockverse as rv\n",
    "\n",
    "import zarr\n",
    "with zarr.config.set({'array.order': 'F'}):\n",
    "    z1 = zarr.create_array(shape=(1000,1000,1000), dtype='f8', store=None)\n",
    "z2 = zarr.create_array(shape=(1000,1000,1000), dtype='f8', store=None)\n",
    "\n",
    "kwargs=dict(\n",
    "    shape=(400,400),\n",
    "    dtype=float,\n",
    "    store=None,#'/u/gob7/Downloads/test.zarr',\n",
    "    chunks=8,\n",
    "    overwrite=True,\n",
    "    field_name='rod',\n",
    "    field_unit='s',\n",
    "    description='rod s xxx',\n",
    "    voxel_origin=(1, 2, 3),\n",
    "    voxel_length=(0.1, 0.2, 0.3),\n",
    "    voxel_unit='mm'\n",
    "    )\n",
    "\n",
    "self=rv.voxel_image.zeros(**kwargs)\n",
    "#self[...] = 3\n",
    "z1.order, z2.order, self.array.order\n"
   ]
  },
  {
   "cell_type": "code",
   "execution_count": null,
   "metadata": {},
   "outputs": [
    {
     "data": {
      "text/plain": [
       "[stdout:0] ENTER\n"
      ]
     },
     "metadata": {},
     "output_type": "display_data"
    },
    {
     "data": {
      "text/plain": [
       "[stdout:1] ENTER\n"
      ]
     },
     "metadata": {},
     "output_type": "display_data"
    },
    {
     "data": {
      "text/plain": [
       "[stdout:2] ENTER\n"
      ]
     },
     "metadata": {},
     "output_type": "display_data"
    },
    {
     "data": {
      "text/plain": [
       "[stdout:3] ENTER\n"
      ]
     },
     "metadata": {},
     "output_type": "display_data"
    },
    {
     "data": {
      "text/plain": [
       "\u001b[0;31mOut[3:2]: \u001b[0m\n",
       "array([[[0., 0., 0., ..., 0., 0., 0.],\n",
       "        [0., 0., 0., ..., 0., 0., 0.],\n",
       "        [0., 0., 0., ..., 0., 0., 0.],\n",
       "        ...,\n",
       "        [0., 0., 0., ..., 0., 0., 0.],\n",
       "        [0., 0., 0., ..., 0., 0., 0.],\n",
       "        [0., 0., 0., ..., 0., 0., 0.]],\n",
       "\n",
       "       [[0., 0., 0., ..., 0., 0., 0.],\n",
       "        [0., 0., 0., ..., 0., 0., 0.],\n",
       "        [0., 0., 0., ..., 0., 0., 0.],\n",
       "        ...,\n",
       "        [0., 0., 0., ..., 0., 0., 0.],\n",
       "        [0., 0., 0., ..., 0., 0., 0.],\n",
       "        [0., 0., 0., ..., 0., 0., 0.]],\n",
       "\n",
       "       [[0., 0., 0., ..., 0., 0., 0.],\n",
       "        [0., 0., 0., ..., 0., 0., 0.],\n",
       "        [0., 0., 0., ..., 0., 0., 0.],\n",
       "        ...,\n",
       "        [0., 0., 0., ..., 0., 0., 0.],\n",
       "        [0., 0., 0., ..., 0., 0., 0.],\n",
       "        [0., 0., 0., ..., 0., 0., 0.]],\n",
       "\n",
       "       ...,\n",
       "\n",
       "       [[0., 0., 0., ..., 0., 0., 0.],\n",
       "        [0., 0., 0., ..., 0., 0., 0.],\n",
       "        [0., 0., 0., ..., 0., 0., 0.],\n",
       "        ...,\n",
       "        [0., 0., 0., ..., 0., 0., 0.],\n",
       "        [0., 0., 0., ..., 0., 0., 0.],\n",
       "        [0., 0., 0., ..., 0., 0., 0.]],\n",
       "\n",
       "       [[0., 0., 0., ..., 0., 0., 0.],\n",
       "        [0., 0., 0., ..., 0., 0., 0.],\n",
       "        [0., 0., 0., ..., 0., 0., 0.],\n",
       "        ...,\n",
       "        [0., 0., 0., ..., 0., 0., 0.],\n",
       "        [0., 0., 0., ..., 0., 0., 0.],\n",
       "        [0., 0., 0., ..., 0., 0., 0.]],\n",
       "\n",
       "       [[0., 0., 0., ..., 0., 0., 0.],\n",
       "        [0., 0., 0., ..., 0., 0., 0.],\n",
       "        [0., 0., 0., ..., 0., 0., 0.],\n",
       "        ...,\n",
       "        [0., 0., 0., ..., 0., 0., 0.],\n",
       "        [0., 0., 0., ..., 0., 0., 0.],\n",
       "        [0., 0., 0., ..., 0., 0., 0.]]])"
      ]
     },
     "metadata": {
      "after": null,
      "completed": null,
      "data": {},
      "engine_id": 3,
      "engine_uuid": "a29e5592-5f009b64029747a6baa93610",
      "error": null,
      "execute_input": "self[1:300, 4, :]=88\nself._array[...]\n#self.math(77, 'set')\n",
      "execute_result": {
       "data": {
        "text/plain": "array([[[0., 0., 0., ..., 0., 0., 0.],\n        [0., 0., 0., ..., 0., 0., 0.],\n        [0., 0., 0., ..., 0., 0., 0.],\n        ...,\n        [0., 0., 0., ..., 0., 0., 0.],\n        [0., 0., 0., ..., 0., 0., 0.],\n        [0., 0., 0., ..., 0., 0., 0.]],\n\n       [[0., 0., 0., ..., 0., 0., 0.],\n        [0., 0., 0., ..., 0., 0., 0.],\n        [0., 0., 0., ..., 0., 0., 0.],\n        ...,\n        [0., 0., 0., ..., 0., 0., 0.],\n        [0., 0., 0., ..., 0., 0., 0.],\n        [0., 0., 0., ..., 0., 0., 0.]],\n\n       [[0., 0., 0., ..., 0., 0., 0.],\n        [0., 0., 0., ..., 0., 0., 0.],\n        [0., 0., 0., ..., 0., 0., 0.],\n        ...,\n        [0., 0., 0., ..., 0., 0., 0.],\n        [0., 0., 0., ..., 0., 0., 0.],\n        [0., 0., 0., ..., 0., 0., 0.]],\n\n       ...,\n\n       [[0., 0., 0., ..., 0., 0., 0.],\n        [0., 0., 0., ..., 0., 0., 0.],\n        [0., 0., 0., ..., 0., 0., 0.],\n        ...,\n        [0., 0., 0., ..., 0., 0., 0.],\n        [0., 0., 0., ..., 0., 0., 0.],\n        [0., 0., 0., ..., 0., 0., 0.]],\n\n       [[0., 0., 0., ..., 0., 0., 0.],\n        [0., 0., 0., ..., 0., 0., 0.],\n        [0., 0., 0., ..., 0., 0., 0.],\n        ...,\n        [0., 0., 0., ..., 0., 0., 0.],\n        [0., 0., 0., ..., 0., 0., 0.],\n        [0., 0., 0., ..., 0., 0., 0.]],\n\n       [[0., 0., 0., ..., 0., 0., 0.],\n        [0., 0., 0., ..., 0., 0., 0.],\n        [0., 0., 0., ..., 0., 0., 0.],\n        ...,\n        [0., 0., 0., ..., 0., 0., 0.],\n        [0., 0., 0., ..., 0., 0., 0.],\n        [0., 0., 0., ..., 0., 0., 0.]]])"
       },
       "execution_count": 2,
       "metadata": {}
      },
      "follow": null,
      "msg_id": null,
      "outputs": [],
      "received": null,
      "started": null,
      "status": null,
      "stderr": "",
      "stdout": "ENTER\n",
      "submitted": "2025-02-07T13:06:42.294402Z"
     },
     "output_type": "display_data"
    },
    {
     "data": {
      "text/plain": [
       "\u001b[0;31mOut[2:2]: \u001b[0m\n",
       "array([[[0., 0., 0., ..., 0., 0., 0.],\n",
       "        [0., 0., 0., ..., 0., 0., 0.],\n",
       "        [0., 0., 0., ..., 0., 0., 0.],\n",
       "        ...,\n",
       "        [0., 0., 0., ..., 0., 0., 0.],\n",
       "        [0., 0., 0., ..., 0., 0., 0.],\n",
       "        [0., 0., 0., ..., 0., 0., 0.]],\n",
       "\n",
       "       [[0., 0., 0., ..., 0., 0., 0.],\n",
       "        [0., 0., 0., ..., 0., 0., 0.],\n",
       "        [0., 0., 0., ..., 0., 0., 0.],\n",
       "        ...,\n",
       "        [0., 0., 0., ..., 0., 0., 0.],\n",
       "        [0., 0., 0., ..., 0., 0., 0.],\n",
       "        [0., 0., 0., ..., 0., 0., 0.]],\n",
       "\n",
       "       [[0., 0., 0., ..., 0., 0., 0.],\n",
       "        [0., 0., 0., ..., 0., 0., 0.],\n",
       "        [0., 0., 0., ..., 0., 0., 0.],\n",
       "        ...,\n",
       "        [0., 0., 0., ..., 0., 0., 0.],\n",
       "        [0., 0., 0., ..., 0., 0., 0.],\n",
       "        [0., 0., 0., ..., 0., 0., 0.]],\n",
       "\n",
       "       ...,\n",
       "\n",
       "       [[0., 0., 0., ..., 0., 0., 0.],\n",
       "        [0., 0., 0., ..., 0., 0., 0.],\n",
       "        [0., 0., 0., ..., 0., 0., 0.],\n",
       "        ...,\n",
       "        [0., 0., 0., ..., 0., 0., 0.],\n",
       "        [0., 0., 0., ..., 0., 0., 0.],\n",
       "        [0., 0., 0., ..., 0., 0., 0.]],\n",
       "\n",
       "       [[0., 0., 0., ..., 0., 0., 0.],\n",
       "        [0., 0., 0., ..., 0., 0., 0.],\n",
       "        [0., 0., 0., ..., 0., 0., 0.],\n",
       "        ...,\n",
       "        [0., 0., 0., ..., 0., 0., 0.],\n",
       "        [0., 0., 0., ..., 0., 0., 0.],\n",
       "        [0., 0., 0., ..., 0., 0., 0.]],\n",
       "\n",
       "       [[0., 0., 0., ..., 0., 0., 0.],\n",
       "        [0., 0., 0., ..., 0., 0., 0.],\n",
       "        [0., 0., 0., ..., 0., 0., 0.],\n",
       "        ...,\n",
       "        [0., 0., 0., ..., 0., 0., 0.],\n",
       "        [0., 0., 0., ..., 0., 0., 0.],\n",
       "        [0., 0., 0., ..., 0., 0., 0.]]])"
      ]
     },
     "metadata": {
      "after": null,
      "completed": null,
      "data": {},
      "engine_id": 2,
      "engine_uuid": "eb5ee9a6-144075d7f7aa93a1dc6691f6",
      "error": null,
      "execute_input": "self[1:300, 4, :]=88\nself._array[...]\n#self.math(77, 'set')\n",
      "execute_result": {
       "data": {
        "text/plain": "array([[[0., 0., 0., ..., 0., 0., 0.],\n        [0., 0., 0., ..., 0., 0., 0.],\n        [0., 0., 0., ..., 0., 0., 0.],\n        ...,\n        [0., 0., 0., ..., 0., 0., 0.],\n        [0., 0., 0., ..., 0., 0., 0.],\n        [0., 0., 0., ..., 0., 0., 0.]],\n\n       [[0., 0., 0., ..., 0., 0., 0.],\n        [0., 0., 0., ..., 0., 0., 0.],\n        [0., 0., 0., ..., 0., 0., 0.],\n        ...,\n        [0., 0., 0., ..., 0., 0., 0.],\n        [0., 0., 0., ..., 0., 0., 0.],\n        [0., 0., 0., ..., 0., 0., 0.]],\n\n       [[0., 0., 0., ..., 0., 0., 0.],\n        [0., 0., 0., ..., 0., 0., 0.],\n        [0., 0., 0., ..., 0., 0., 0.],\n        ...,\n        [0., 0., 0., ..., 0., 0., 0.],\n        [0., 0., 0., ..., 0., 0., 0.],\n        [0., 0., 0., ..., 0., 0., 0.]],\n\n       ...,\n\n       [[0., 0., 0., ..., 0., 0., 0.],\n        [0., 0., 0., ..., 0., 0., 0.],\n        [0., 0., 0., ..., 0., 0., 0.],\n        ...,\n        [0., 0., 0., ..., 0., 0., 0.],\n        [0., 0., 0., ..., 0., 0., 0.],\n        [0., 0., 0., ..., 0., 0., 0.]],\n\n       [[0., 0., 0., ..., 0., 0., 0.],\n        [0., 0., 0., ..., 0., 0., 0.],\n        [0., 0., 0., ..., 0., 0., 0.],\n        ...,\n        [0., 0., 0., ..., 0., 0., 0.],\n        [0., 0., 0., ..., 0., 0., 0.],\n        [0., 0., 0., ..., 0., 0., 0.]],\n\n       [[0., 0., 0., ..., 0., 0., 0.],\n        [0., 0., 0., ..., 0., 0., 0.],\n        [0., 0., 0., ..., 0., 0., 0.],\n        ...,\n        [0., 0., 0., ..., 0., 0., 0.],\n        [0., 0., 0., ..., 0., 0., 0.],\n        [0., 0., 0., ..., 0., 0., 0.]]])"
       },
       "execution_count": 2,
       "metadata": {}
      },
      "follow": null,
      "msg_id": null,
      "outputs": [],
      "received": null,
      "started": null,
      "status": null,
      "stderr": "",
      "stdout": "ENTER\n",
      "submitted": "2025-02-07T13:06:42.294250Z"
     },
     "output_type": "display_data"
    },
    {
     "data": {
      "text/plain": [
       "\u001b[0;31mOut[1:2]: \u001b[0m\n",
       "array([[[0., 0., 0., ..., 0., 0., 0.],\n",
       "        [0., 0., 0., ..., 0., 0., 0.],\n",
       "        [0., 0., 0., ..., 0., 0., 0.],\n",
       "        ...,\n",
       "        [0., 0., 0., ..., 0., 0., 0.],\n",
       "        [0., 0., 0., ..., 0., 0., 0.],\n",
       "        [0., 0., 0., ..., 0., 0., 0.]],\n",
       "\n",
       "       [[0., 0., 0., ..., 0., 0., 0.],\n",
       "        [0., 0., 0., ..., 0., 0., 0.],\n",
       "        [0., 0., 0., ..., 0., 0., 0.],\n",
       "        ...,\n",
       "        [0., 0., 0., ..., 0., 0., 0.],\n",
       "        [0., 0., 0., ..., 0., 0., 0.],\n",
       "        [0., 0., 0., ..., 0., 0., 0.]],\n",
       "\n",
       "       [[0., 0., 0., ..., 0., 0., 0.],\n",
       "        [0., 0., 0., ..., 0., 0., 0.],\n",
       "        [0., 0., 0., ..., 0., 0., 0.],\n",
       "        ...,\n",
       "        [0., 0., 0., ..., 0., 0., 0.],\n",
       "        [0., 0., 0., ..., 0., 0., 0.],\n",
       "        [0., 0., 0., ..., 0., 0., 0.]],\n",
       "\n",
       "       ...,\n",
       "\n",
       "       [[0., 0., 0., ..., 0., 0., 0.],\n",
       "        [0., 0., 0., ..., 0., 0., 0.],\n",
       "        [0., 0., 0., ..., 0., 0., 0.],\n",
       "        ...,\n",
       "        [0., 0., 0., ..., 0., 0., 0.],\n",
       "        [0., 0., 0., ..., 0., 0., 0.],\n",
       "        [0., 0., 0., ..., 0., 0., 0.]],\n",
       "\n",
       "       [[0., 0., 0., ..., 0., 0., 0.],\n",
       "        [0., 0., 0., ..., 0., 0., 0.],\n",
       "        [0., 0., 0., ..., 0., 0., 0.],\n",
       "        ...,\n",
       "        [0., 0., 0., ..., 0., 0., 0.],\n",
       "        [0., 0., 0., ..., 0., 0., 0.],\n",
       "        [0., 0., 0., ..., 0., 0., 0.]],\n",
       "\n",
       "       [[0., 0., 0., ..., 0., 0., 0.],\n",
       "        [0., 0., 0., ..., 0., 0., 0.],\n",
       "        [0., 0., 0., ..., 0., 0., 0.],\n",
       "        ...,\n",
       "        [0., 0., 0., ..., 0., 0., 0.],\n",
       "        [0., 0., 0., ..., 0., 0., 0.],\n",
       "        [0., 0., 0., ..., 0., 0., 0.]]])"
      ]
     },
     "metadata": {
      "after": null,
      "completed": null,
      "data": {},
      "engine_id": 1,
      "engine_uuid": "cf8ece21-5d635cb9c081e0c40c2b736e",
      "error": null,
      "execute_input": "self[1:300, 4, :]=88\nself._array[...]\n#self.math(77, 'set')\n",
      "execute_result": {
       "data": {
        "text/plain": "array([[[0., 0., 0., ..., 0., 0., 0.],\n        [0., 0., 0., ..., 0., 0., 0.],\n        [0., 0., 0., ..., 0., 0., 0.],\n        ...,\n        [0., 0., 0., ..., 0., 0., 0.],\n        [0., 0., 0., ..., 0., 0., 0.],\n        [0., 0., 0., ..., 0., 0., 0.]],\n\n       [[0., 0., 0., ..., 0., 0., 0.],\n        [0., 0., 0., ..., 0., 0., 0.],\n        [0., 0., 0., ..., 0., 0., 0.],\n        ...,\n        [0., 0., 0., ..., 0., 0., 0.],\n        [0., 0., 0., ..., 0., 0., 0.],\n        [0., 0., 0., ..., 0., 0., 0.]],\n\n       [[0., 0., 0., ..., 0., 0., 0.],\n        [0., 0., 0., ..., 0., 0., 0.],\n        [0., 0., 0., ..., 0., 0., 0.],\n        ...,\n        [0., 0., 0., ..., 0., 0., 0.],\n        [0., 0., 0., ..., 0., 0., 0.],\n        [0., 0., 0., ..., 0., 0., 0.]],\n\n       ...,\n\n       [[0., 0., 0., ..., 0., 0., 0.],\n        [0., 0., 0., ..., 0., 0., 0.],\n        [0., 0., 0., ..., 0., 0., 0.],\n        ...,\n        [0., 0., 0., ..., 0., 0., 0.],\n        [0., 0., 0., ..., 0., 0., 0.],\n        [0., 0., 0., ..., 0., 0., 0.]],\n\n       [[0., 0., 0., ..., 0., 0., 0.],\n        [0., 0., 0., ..., 0., 0., 0.],\n        [0., 0., 0., ..., 0., 0., 0.],\n        ...,\n        [0., 0., 0., ..., 0., 0., 0.],\n        [0., 0., 0., ..., 0., 0., 0.],\n        [0., 0., 0., ..., 0., 0., 0.]],\n\n       [[0., 0., 0., ..., 0., 0., 0.],\n        [0., 0., 0., ..., 0., 0., 0.],\n        [0., 0., 0., ..., 0., 0., 0.],\n        ...,\n        [0., 0., 0., ..., 0., 0., 0.],\n        [0., 0., 0., ..., 0., 0., 0.],\n        [0., 0., 0., ..., 0., 0., 0.]]])"
       },
       "execution_count": 2,
       "metadata": {}
      },
      "follow": null,
      "msg_id": null,
      "outputs": [],
      "received": null,
      "started": null,
      "status": null,
      "stderr": "",
      "stdout": "ENTER\n",
      "submitted": "2025-02-07T13:06:42.294130Z"
     },
     "output_type": "display_data"
    },
    {
     "data": {
      "text/plain": [
       "\u001b[0;31mOut[0:2]: \u001b[0m\n",
       "array([[[0., 0., 0., ..., 0., 0., 0.],\n",
       "        [0., 0., 0., ..., 0., 0., 0.],\n",
       "        [0., 0., 0., ..., 0., 0., 0.],\n",
       "        ...,\n",
       "        [0., 0., 0., ..., 0., 0., 0.],\n",
       "        [0., 0., 0., ..., 0., 0., 0.],\n",
       "        [0., 0., 0., ..., 0., 0., 0.]],\n",
       "\n",
       "       [[0., 0., 0., ..., 0., 0., 0.],\n",
       "        [0., 0., 0., ..., 0., 0., 0.],\n",
       "        [0., 0., 0., ..., 0., 0., 0.],\n",
       "        ...,\n",
       "        [0., 0., 0., ..., 0., 0., 0.],\n",
       "        [0., 0., 0., ..., 0., 0., 0.],\n",
       "        [0., 0., 0., ..., 0., 0., 0.]],\n",
       "\n",
       "       [[0., 0., 0., ..., 0., 0., 0.],\n",
       "        [0., 0., 0., ..., 0., 0., 0.],\n",
       "        [0., 0., 0., ..., 0., 0., 0.],\n",
       "        ...,\n",
       "        [0., 0., 0., ..., 0., 0., 0.],\n",
       "        [0., 0., 0., ..., 0., 0., 0.],\n",
       "        [0., 0., 0., ..., 0., 0., 0.]],\n",
       "\n",
       "       ...,\n",
       "\n",
       "       [[0., 0., 0., ..., 0., 0., 0.],\n",
       "        [0., 0., 0., ..., 0., 0., 0.],\n",
       "        [0., 0., 0., ..., 0., 0., 0.],\n",
       "        ...,\n",
       "        [0., 0., 0., ..., 0., 0., 0.],\n",
       "        [0., 0., 0., ..., 0., 0., 0.],\n",
       "        [0., 0., 0., ..., 0., 0., 0.]],\n",
       "\n",
       "       [[0., 0., 0., ..., 0., 0., 0.],\n",
       "        [0., 0., 0., ..., 0., 0., 0.],\n",
       "        [0., 0., 0., ..., 0., 0., 0.],\n",
       "        ...,\n",
       "        [0., 0., 0., ..., 0., 0., 0.],\n",
       "        [0., 0., 0., ..., 0., 0., 0.],\n",
       "        [0., 0., 0., ..., 0., 0., 0.]],\n",
       "\n",
       "       [[0., 0., 0., ..., 0., 0., 0.],\n",
       "        [0., 0., 0., ..., 0., 0., 0.],\n",
       "        [0., 0., 0., ..., 0., 0., 0.],\n",
       "        ...,\n",
       "        [0., 0., 0., ..., 0., 0., 0.],\n",
       "        [0., 0., 0., ..., 0., 0., 0.],\n",
       "        [0., 0., 0., ..., 0., 0., 0.]]])"
      ]
     },
     "metadata": {
      "after": null,
      "completed": null,
      "data": {},
      "engine_id": 0,
      "engine_uuid": "ab8bcf12-652b16a52749785aeff74999",
      "error": null,
      "execute_input": "self[1:300, 4, :]=88\nself._array[...]\n#self.math(77, 'set')\n",
      "execute_result": {
       "data": {
        "text/plain": "array([[[0., 0., 0., ..., 0., 0., 0.],\n        [0., 0., 0., ..., 0., 0., 0.],\n        [0., 0., 0., ..., 0., 0., 0.],\n        ...,\n        [0., 0., 0., ..., 0., 0., 0.],\n        [0., 0., 0., ..., 0., 0., 0.],\n        [0., 0., 0., ..., 0., 0., 0.]],\n\n       [[0., 0., 0., ..., 0., 0., 0.],\n        [0., 0., 0., ..., 0., 0., 0.],\n        [0., 0., 0., ..., 0., 0., 0.],\n        ...,\n        [0., 0., 0., ..., 0., 0., 0.],\n        [0., 0., 0., ..., 0., 0., 0.],\n        [0., 0., 0., ..., 0., 0., 0.]],\n\n       [[0., 0., 0., ..., 0., 0., 0.],\n        [0., 0., 0., ..., 0., 0., 0.],\n        [0., 0., 0., ..., 0., 0., 0.],\n        ...,\n        [0., 0., 0., ..., 0., 0., 0.],\n        [0., 0., 0., ..., 0., 0., 0.],\n        [0., 0., 0., ..., 0., 0., 0.]],\n\n       ...,\n\n       [[0., 0., 0., ..., 0., 0., 0.],\n        [0., 0., 0., ..., 0., 0., 0.],\n        [0., 0., 0., ..., 0., 0., 0.],\n        ...,\n        [0., 0., 0., ..., 0., 0., 0.],\n        [0., 0., 0., ..., 0., 0., 0.],\n        [0., 0., 0., ..., 0., 0., 0.]],\n\n       [[0., 0., 0., ..., 0., 0., 0.],\n        [0., 0., 0., ..., 0., 0., 0.],\n        [0., 0., 0., ..., 0., 0., 0.],\n        ...,\n        [0., 0., 0., ..., 0., 0., 0.],\n        [0., 0., 0., ..., 0., 0., 0.],\n        [0., 0., 0., ..., 0., 0., 0.]],\n\n       [[0., 0., 0., ..., 0., 0., 0.],\n        [0., 0., 0., ..., 0., 0., 0.],\n        [0., 0., 0., ..., 0., 0., 0.],\n        ...,\n        [0., 0., 0., ..., 0., 0., 0.],\n        [0., 0., 0., ..., 0., 0., 0.],\n        [0., 0., 0., ..., 0., 0., 0.]]])"
       },
       "execution_count": 2,
       "metadata": {}
      },
      "follow": null,
      "msg_id": null,
      "outputs": [],
      "received": null,
      "started": null,
      "status": null,
      "stderr": "",
      "stdout": "ENTER\n",
      "submitted": "2025-02-07T13:06:42.293992Z"
     },
     "output_type": "display_data"
    }
   ],
   "source": [
    "%%px --block\n",
    "self[1:300, 4, :]=88\n",
    "self._array[...]\n",
    "#self.math(77, 'set')"
   ]
  },
  {
   "cell_type": "code",
   "execution_count": null,
   "metadata": {},
   "outputs": [
    {
     "data": {
      "text/plain": [
       "\u001b[0;31mOut[1:3]: \u001b[0m\n",
       "Type               : Array\n",
       "Zarr format        : 3\n",
       "Data type          : DataType.float64\n",
       "Shape              : (400, 400, 400)\n",
       "Chunk shape        : (200, 200, 200)\n",
       "Order              : C\n",
       "Read-only          : False\n",
       "Store type         : MemoryStore\n",
       "Filters            : ()\n",
       "Serializer         : BytesCodec(endian=<Endian.little: 'little'>)\n",
       "Compressors        : (ZstdCodec(level=0, checksum=False),)\n",
       "No. bytes          : 512000000 (488.3M)\n",
       "No. bytes stored   : 8080\n",
       "Storage ratio      : 63366.3\n",
       "Chunks Initialized : 2"
      ]
     },
     "metadata": {
      "after": null,
      "completed": null,
      "data": {},
      "engine_id": 1,
      "engine_uuid": "cf8ece21-5d635cb9c081e0c40c2b736e",
      "error": null,
      "execute_input": "self.array.info_complete()\n",
      "execute_result": {
       "data": {
        "text/plain": "Type               : Array\nZarr format        : 3\nData type          : DataType.float64\nShape              : (400, 400, 400)\nChunk shape        : (200, 200, 200)\nOrder              : C\nRead-only          : False\nStore type         : MemoryStore\nFilters            : ()\nSerializer         : BytesCodec(endian=<Endian.little: 'little'>)\nCompressors        : (ZstdCodec(level=0, checksum=False),)\nNo. bytes          : 512000000 (488.3M)\nNo. bytes stored   : 8080\nStorage ratio      : 63366.3\nChunks Initialized : 2"
       },
       "execution_count": 3,
       "metadata": {}
      },
      "follow": null,
      "msg_id": null,
      "outputs": [],
      "received": null,
      "started": null,
      "status": null,
      "stderr": "",
      "stdout": "",
      "submitted": "2025-02-07T13:06:43.516104Z"
     },
     "output_type": "display_data"
    },
    {
     "data": {
      "text/plain": [
       "\u001b[0;31mOut[0:3]: \u001b[0m\n",
       "Type               : Array\n",
       "Zarr format        : 3\n",
       "Data type          : DataType.float64\n",
       "Shape              : (400, 400, 400)\n",
       "Chunk shape        : (200, 200, 200)\n",
       "Order              : C\n",
       "Read-only          : False\n",
       "Store type         : MemoryStore\n",
       "Filters            : ()\n",
       "Serializer         : BytesCodec(endian=<Endian.little: 'little'>)\n",
       "Compressors        : (ZstdCodec(level=0, checksum=False),)\n",
       "No. bytes          : 512000000 (488.3M)\n",
       "No. bytes stored   : 11280\n",
       "Storage ratio      : 45390.1\n",
       "Chunks Initialized : 2"
      ]
     },
     "metadata": {
      "after": null,
      "completed": null,
      "data": {},
      "engine_id": 0,
      "engine_uuid": "ab8bcf12-652b16a52749785aeff74999",
      "error": null,
      "execute_input": "self.array.info_complete()\n",
      "execute_result": {
       "data": {
        "text/plain": "Type               : Array\nZarr format        : 3\nData type          : DataType.float64\nShape              : (400, 400, 400)\nChunk shape        : (200, 200, 200)\nOrder              : C\nRead-only          : False\nStore type         : MemoryStore\nFilters            : ()\nSerializer         : BytesCodec(endian=<Endian.little: 'little'>)\nCompressors        : (ZstdCodec(level=0, checksum=False),)\nNo. bytes          : 512000000 (488.3M)\nNo. bytes stored   : 11280\nStorage ratio      : 45390.1\nChunks Initialized : 2"
       },
       "execution_count": 3,
       "metadata": {}
      },
      "follow": null,
      "msg_id": null,
      "outputs": [],
      "received": null,
      "started": null,
      "status": null,
      "stderr": "",
      "stdout": "",
      "submitted": "2025-02-07T13:06:43.516003Z"
     },
     "output_type": "display_data"
    },
    {
     "data": {
      "text/plain": [
       "\u001b[0;31mOut[2:3]: \u001b[0m\n",
       "Type               : Array\n",
       "Zarr format        : 3\n",
       "Data type          : DataType.float64\n",
       "Shape              : (400, 400, 400)\n",
       "Chunk shape        : (200, 200, 200)\n",
       "Order              : C\n",
       "Read-only          : False\n",
       "Store type         : MemoryStore\n",
       "Filters            : ()\n",
       "Serializer         : BytesCodec(endian=<Endian.little: 'little'>)\n",
       "Compressors        : (ZstdCodec(level=0, checksum=False),)\n",
       "No. bytes          : 512000000 (488.3M)\n",
       "No. bytes stored   : 928\n",
       "Storage ratio      : 551724.1\n",
       "Chunks Initialized : 0"
      ]
     },
     "metadata": {
      "after": null,
      "completed": null,
      "data": {},
      "engine_id": 2,
      "engine_uuid": "eb5ee9a6-144075d7f7aa93a1dc6691f6",
      "error": null,
      "execute_input": "self.array.info_complete()\n",
      "execute_result": {
       "data": {
        "text/plain": "Type               : Array\nZarr format        : 3\nData type          : DataType.float64\nShape              : (400, 400, 400)\nChunk shape        : (200, 200, 200)\nOrder              : C\nRead-only          : False\nStore type         : MemoryStore\nFilters            : ()\nSerializer         : BytesCodec(endian=<Endian.little: 'little'>)\nCompressors        : (ZstdCodec(level=0, checksum=False),)\nNo. bytes          : 512000000 (488.3M)\nNo. bytes stored   : 928\nStorage ratio      : 551724.1\nChunks Initialized : 0"
       },
       "execution_count": 3,
       "metadata": {}
      },
      "follow": null,
      "msg_id": null,
      "outputs": [],
      "received": null,
      "started": null,
      "status": null,
      "stderr": "",
      "stdout": "",
      "submitted": "2025-02-07T13:06:43.516186Z"
     },
     "output_type": "display_data"
    },
    {
     "data": {
      "text/plain": [
       "\u001b[0;31mOut[3:3]: \u001b[0m\n",
       "Type               : Array\n",
       "Zarr format        : 3\n",
       "Data type          : DataType.float64\n",
       "Shape              : (400, 400, 400)\n",
       "Chunk shape        : (200, 200, 200)\n",
       "Order              : C\n",
       "Read-only          : False\n",
       "Store type         : MemoryStore\n",
       "Filters            : ()\n",
       "Serializer         : BytesCodec(endian=<Endian.little: 'little'>)\n",
       "Compressors        : (ZstdCodec(level=0, checksum=False),)\n",
       "No. bytes          : 512000000 (488.3M)\n",
       "No. bytes stored   : 928\n",
       "Storage ratio      : 551724.1\n",
       "Chunks Initialized : 0"
      ]
     },
     "metadata": {
      "after": null,
      "completed": null,
      "data": {},
      "engine_id": 3,
      "engine_uuid": "a29e5592-5f009b64029747a6baa93610",
      "error": null,
      "execute_input": "self.array.info_complete()\n",
      "execute_result": {
       "data": {
        "text/plain": "Type               : Array\nZarr format        : 3\nData type          : DataType.float64\nShape              : (400, 400, 400)\nChunk shape        : (200, 200, 200)\nOrder              : C\nRead-only          : False\nStore type         : MemoryStore\nFilters            : ()\nSerializer         : BytesCodec(endian=<Endian.little: 'little'>)\nCompressors        : (ZstdCodec(level=0, checksum=False),)\nNo. bytes          : 512000000 (488.3M)\nNo. bytes stored   : 928\nStorage ratio      : 551724.1\nChunks Initialized : 0"
       },
       "execution_count": 3,
       "metadata": {}
      },
      "follow": null,
      "msg_id": null,
      "outputs": [],
      "received": null,
      "started": null,
      "status": null,
      "stderr": "",
      "stdout": "",
      "submitted": "2025-02-07T13:06:43.516325Z"
     },
     "output_type": "display_data"
    }
   ],
   "source": [
    "%%px --block\n",
    "self.array.info_complete()"
   ]
  },
  {
   "cell_type": "code",
   "execution_count": 6,
   "metadata": {},
   "outputs": [
    {
     "data": {
      "text/plain": [
       "\u001b[0;31mOut[3:4]: \u001b[0m\n",
       "array([[[88., 88., 88., 88.],\n",
       "        [88., 88., 88., 88.],\n",
       "        [88., 88., 88., 88.],\n",
       "        [88., 88., 88., 88.]],\n",
       "\n",
       "       [[88., 88., 88., 88.],\n",
       "        [88., 88., 88., 88.],\n",
       "        [88., 88., 88., 88.],\n",
       "        [88., 88., 88., 88.]],\n",
       "\n",
       "       [[88., 88., 88., 88.],\n",
       "        [88., 88., 88., 88.],\n",
       "        [88., 88., 88., 88.],\n",
       "        [88., 88., 88., 88.]],\n",
       "\n",
       "       [[88., 88., 88., 88.],\n",
       "        [88., 88., 88., 88.],\n",
       "        [88., 88., 88., 88.],\n",
       "        [88., 88., 88., 88.]]])"
      ]
     },
     "metadata": {
      "after": null,
      "completed": null,
      "data": {},
      "engine_id": 3,
      "engine_uuid": "a29e5592-5f009b64029747a6baa93610",
      "error": null,
      "execute_input": "\ndd= zarr.open('/u/gob7/Downloads/test.zarr')\ndd[...]\n",
      "execute_result": {
       "data": {
        "text/plain": "array([[[88., 88., 88., 88.],\n        [88., 88., 88., 88.],\n        [88., 88., 88., 88.],\n        [88., 88., 88., 88.]],\n\n       [[88., 88., 88., 88.],\n        [88., 88., 88., 88.],\n        [88., 88., 88., 88.],\n        [88., 88., 88., 88.]],\n\n       [[88., 88., 88., 88.],\n        [88., 88., 88., 88.],\n        [88., 88., 88., 88.],\n        [88., 88., 88., 88.]],\n\n       [[88., 88., 88., 88.],\n        [88., 88., 88., 88.],\n        [88., 88., 88., 88.],\n        [88., 88., 88., 88.]]])"
       },
       "execution_count": 4,
       "metadata": {}
      },
      "follow": null,
      "msg_id": null,
      "outputs": [],
      "received": null,
      "started": null,
      "status": null,
      "stderr": "",
      "stdout": "",
      "submitted": "2025-02-07T13:06:43.564588Z"
     },
     "output_type": "display_data"
    },
    {
     "data": {
      "text/plain": [
       "\u001b[0;31mOut[2:4]: \u001b[0m\n",
       "array([[[88., 88., 88., 88.],\n",
       "        [88., 88., 88., 88.],\n",
       "        [88., 88., 88., 88.],\n",
       "        [88., 88., 88., 88.]],\n",
       "\n",
       "       [[88., 88., 88., 88.],\n",
       "        [88., 88., 88., 88.],\n",
       "        [88., 88., 88., 88.],\n",
       "        [88., 88., 88., 88.]],\n",
       "\n",
       "       [[88., 88., 88., 88.],\n",
       "        [88., 88., 88., 88.],\n",
       "        [88., 88., 88., 88.],\n",
       "        [88., 88., 88., 88.]],\n",
       "\n",
       "       [[88., 88., 88., 88.],\n",
       "        [88., 88., 88., 88.],\n",
       "        [88., 88., 88., 88.],\n",
       "        [88., 88., 88., 88.]]])"
      ]
     },
     "metadata": {
      "after": null,
      "completed": null,
      "data": {},
      "engine_id": 2,
      "engine_uuid": "eb5ee9a6-144075d7f7aa93a1dc6691f6",
      "error": null,
      "execute_input": "\ndd= zarr.open('/u/gob7/Downloads/test.zarr')\ndd[...]\n",
      "execute_result": {
       "data": {
        "text/plain": "array([[[88., 88., 88., 88.],\n        [88., 88., 88., 88.],\n        [88., 88., 88., 88.],\n        [88., 88., 88., 88.]],\n\n       [[88., 88., 88., 88.],\n        [88., 88., 88., 88.],\n        [88., 88., 88., 88.],\n        [88., 88., 88., 88.]],\n\n       [[88., 88., 88., 88.],\n        [88., 88., 88., 88.],\n        [88., 88., 88., 88.],\n        [88., 88., 88., 88.]],\n\n       [[88., 88., 88., 88.],\n        [88., 88., 88., 88.],\n        [88., 88., 88., 88.],\n        [88., 88., 88., 88.]]])"
       },
       "execution_count": 4,
       "metadata": {}
      },
      "follow": null,
      "msg_id": null,
      "outputs": [],
      "received": null,
      "started": null,
      "status": null,
      "stderr": "",
      "stdout": "",
      "submitted": "2025-02-07T13:06:43.564230Z"
     },
     "output_type": "display_data"
    },
    {
     "data": {
      "text/plain": [
       "\u001b[0;31mOut[0:4]: \u001b[0m\n",
       "array([[[88., 88., 88., 88.],\n",
       "        [88., 88., 88., 88.],\n",
       "        [88., 88., 88., 88.],\n",
       "        [88., 88., 88., 88.]],\n",
       "\n",
       "       [[88., 88., 88., 88.],\n",
       "        [88., 88., 88., 88.],\n",
       "        [88., 88., 88., 88.],\n",
       "        [88., 88., 88., 88.]],\n",
       "\n",
       "       [[88., 88., 88., 88.],\n",
       "        [88., 88., 88., 88.],\n",
       "        [88., 88., 88., 88.],\n",
       "        [88., 88., 88., 88.]],\n",
       "\n",
       "       [[88., 88., 88., 88.],\n",
       "        [88., 88., 88., 88.],\n",
       "        [88., 88., 88., 88.],\n",
       "        [88., 88., 88., 88.]]])"
      ]
     },
     "metadata": {
      "after": null,
      "completed": null,
      "data": {},
      "engine_id": 0,
      "engine_uuid": "ab8bcf12-652b16a52749785aeff74999",
      "error": null,
      "execute_input": "\ndd= zarr.open('/u/gob7/Downloads/test.zarr')\ndd[...]\n",
      "execute_result": {
       "data": {
        "text/plain": "array([[[88., 88., 88., 88.],\n        [88., 88., 88., 88.],\n        [88., 88., 88., 88.],\n        [88., 88., 88., 88.]],\n\n       [[88., 88., 88., 88.],\n        [88., 88., 88., 88.],\n        [88., 88., 88., 88.],\n        [88., 88., 88., 88.]],\n\n       [[88., 88., 88., 88.],\n        [88., 88., 88., 88.],\n        [88., 88., 88., 88.],\n        [88., 88., 88., 88.]],\n\n       [[88., 88., 88., 88.],\n        [88., 88., 88., 88.],\n        [88., 88., 88., 88.],\n        [88., 88., 88., 88.]]])"
       },
       "execution_count": 4,
       "metadata": {}
      },
      "follow": null,
      "msg_id": null,
      "outputs": [],
      "received": null,
      "started": null,
      "status": null,
      "stderr": "",
      "stdout": "",
      "submitted": "2025-02-07T13:06:43.563850Z"
     },
     "output_type": "display_data"
    },
    {
     "data": {
      "text/plain": [
       "\u001b[0;31mOut[1:4]: \u001b[0m\n",
       "array([[[88., 88., 88., 88.],\n",
       "        [88., 88., 88., 88.],\n",
       "        [88., 88., 88., 88.],\n",
       "        [88., 88., 88., 88.]],\n",
       "\n",
       "       [[88., 88., 88., 88.],\n",
       "        [88., 88., 88., 88.],\n",
       "        [88., 88., 88., 88.],\n",
       "        [88., 88., 88., 88.]],\n",
       "\n",
       "       [[88., 88., 88., 88.],\n",
       "        [88., 88., 88., 88.],\n",
       "        [88., 88., 88., 88.],\n",
       "        [88., 88., 88., 88.]],\n",
       "\n",
       "       [[88., 88., 88., 88.],\n",
       "        [88., 88., 88., 88.],\n",
       "        [88., 88., 88., 88.],\n",
       "        [88., 88., 88., 88.]]])"
      ]
     },
     "metadata": {
      "after": null,
      "completed": null,
      "data": {},
      "engine_id": 1,
      "engine_uuid": "cf8ece21-5d635cb9c081e0c40c2b736e",
      "error": null,
      "execute_input": "\ndd= zarr.open('/u/gob7/Downloads/test.zarr')\ndd[...]\n",
      "execute_result": {
       "data": {
        "text/plain": "array([[[88., 88., 88., 88.],\n        [88., 88., 88., 88.],\n        [88., 88., 88., 88.],\n        [88., 88., 88., 88.]],\n\n       [[88., 88., 88., 88.],\n        [88., 88., 88., 88.],\n        [88., 88., 88., 88.],\n        [88., 88., 88., 88.]],\n\n       [[88., 88., 88., 88.],\n        [88., 88., 88., 88.],\n        [88., 88., 88., 88.],\n        [88., 88., 88., 88.]],\n\n       [[88., 88., 88., 88.],\n        [88., 88., 88., 88.],\n        [88., 88., 88., 88.],\n        [88., 88., 88., 88.]]])"
       },
       "execution_count": 4,
       "metadata": {}
      },
      "follow": null,
      "msg_id": null,
      "outputs": [],
      "received": null,
      "started": null,
      "status": null,
      "stderr": "",
      "stdout": "",
      "submitted": "2025-02-07T13:06:43.564058Z"
     },
     "output_type": "display_data"
    }
   ],
   "source": [
    "%%px --block\n",
    "\n",
    "dd= zarr.open('/u/gob7/Downloads/test.zarr')\n",
    "dd[...]"
   ]
  },
  {
   "cell_type": "code",
   "execution_count": 7,
   "metadata": {},
   "outputs": [],
   "source": [
    "%%px --block\n",
    "import rockverse as rv\n",
    "xxxa = rv.open('/u/gob7/Downloads/test.zarr')"
   ]
  },
  {
   "cell_type": "code",
   "execution_count": 13,
   "metadata": {},
   "outputs": [
    {
     "data": {
      "text/plain": [
       "\u001b[0;31mOut[0:11]: \u001b[0m\n",
       "['_ROCKVERSE_DATATYPE',\n",
       " 'description',\n",
       " 'field_name',\n",
       " 'field_unit',\n",
       " 'voxel_unit',\n",
       " 'voxel_origin',\n",
       " 'voxel_length']"
      ]
     },
     "metadata": {
      "after": null,
      "completed": null,
      "data": {},
      "engine_id": 0,
      "engine_uuid": "ab8bcf12-652b16a52749785aeff74999",
      "error": null,
      "execute_input": "list(xxxa.array.attrs.keys())\n",
      "execute_result": {
       "data": {
        "text/plain": "['_ROCKVERSE_DATATYPE',\n 'description',\n 'field_name',\n 'field_unit',\n 'voxel_unit',\n 'voxel_origin',\n 'voxel_length']"
       },
       "execution_count": 11,
       "metadata": {}
      },
      "follow": null,
      "msg_id": null,
      "outputs": [],
      "received": null,
      "started": null,
      "status": null,
      "stderr": "",
      "stdout": "",
      "submitted": "2025-02-07T13:08:13.648924Z"
     },
     "output_type": "display_data"
    },
    {
     "data": {
      "text/plain": [
       "\u001b[0;31mOut[1:11]: \u001b[0m\n",
       "['_ROCKVERSE_DATATYPE',\n",
       " 'description',\n",
       " 'field_name',\n",
       " 'field_unit',\n",
       " 'voxel_unit',\n",
       " 'voxel_origin',\n",
       " 'voxel_length']"
      ]
     },
     "metadata": {
      "after": null,
      "completed": null,
      "data": {},
      "engine_id": 1,
      "engine_uuid": "cf8ece21-5d635cb9c081e0c40c2b736e",
      "error": null,
      "execute_input": "list(xxxa.array.attrs.keys())\n",
      "execute_result": {
       "data": {
        "text/plain": "['_ROCKVERSE_DATATYPE',\n 'description',\n 'field_name',\n 'field_unit',\n 'voxel_unit',\n 'voxel_origin',\n 'voxel_length']"
       },
       "execution_count": 11,
       "metadata": {}
      },
      "follow": null,
      "msg_id": null,
      "outputs": [],
      "received": null,
      "started": null,
      "status": null,
      "stderr": "",
      "stdout": "",
      "submitted": "2025-02-07T13:08:13.649053Z"
     },
     "output_type": "display_data"
    },
    {
     "data": {
      "text/plain": [
       "\u001b[0;31mOut[2:11]: \u001b[0m\n",
       "['_ROCKVERSE_DATATYPE',\n",
       " 'description',\n",
       " 'field_name',\n",
       " 'field_unit',\n",
       " 'voxel_unit',\n",
       " 'voxel_origin',\n",
       " 'voxel_length']"
      ]
     },
     "metadata": {
      "after": null,
      "completed": null,
      "data": {},
      "engine_id": 2,
      "engine_uuid": "eb5ee9a6-144075d7f7aa93a1dc6691f6",
      "error": null,
      "execute_input": "list(xxxa.array.attrs.keys())\n",
      "execute_result": {
       "data": {
        "text/plain": "['_ROCKVERSE_DATATYPE',\n 'description',\n 'field_name',\n 'field_unit',\n 'voxel_unit',\n 'voxel_origin',\n 'voxel_length']"
       },
       "execution_count": 11,
       "metadata": {}
      },
      "follow": null,
      "msg_id": null,
      "outputs": [],
      "received": null,
      "started": null,
      "status": null,
      "stderr": "",
      "stdout": "",
      "submitted": "2025-02-07T13:08:13.649156Z"
     },
     "output_type": "display_data"
    },
    {
     "data": {
      "text/plain": [
       "\u001b[0;31mOut[3:11]: \u001b[0m\n",
       "['_ROCKVERSE_DATATYPE',\n",
       " 'description',\n",
       " 'field_name',\n",
       " 'field_unit',\n",
       " 'voxel_unit',\n",
       " 'voxel_origin',\n",
       " 'voxel_length']"
      ]
     },
     "metadata": {
      "after": null,
      "completed": null,
      "data": {},
      "engine_id": 3,
      "engine_uuid": "a29e5592-5f009b64029747a6baa93610",
      "error": null,
      "execute_input": "list(xxxa.array.attrs.keys())\n",
      "execute_result": {
       "data": {
        "text/plain": "['_ROCKVERSE_DATATYPE',\n 'description',\n 'field_name',\n 'field_unit',\n 'voxel_unit',\n 'voxel_origin',\n 'voxel_length']"
       },
       "execution_count": 11,
       "metadata": {}
      },
      "follow": null,
      "msg_id": null,
      "outputs": [],
      "received": null,
      "started": null,
      "status": null,
      "stderr": "",
      "stdout": "",
      "submitted": "2025-02-07T13:08:13.649230Z"
     },
     "output_type": "display_data"
    }
   ],
   "source": [
    "%%px --block\n",
    "list(xxxa.array.attrs.keys())"
   ]
  },
  {
   "cell_type": "code",
   "execution_count": null,
   "metadata": {},
   "outputs": [],
   "source": []
  }
 ],
 "metadata": {
  "kernelspec": {
   "display_name": "rockverse-zarr3",
   "language": "python",
   "name": "python3"
  },
  "language_info": {
   "codemirror_mode": {
    "name": "ipython",
    "version": 3
   },
   "file_extension": ".py",
   "mimetype": "text/x-python",
   "name": "python",
   "nbconvert_exporter": "python",
   "pygments_lexer": "ipython3",
   "version": "3.12.8"
  }
 },
 "nbformat": 4,
 "nbformat_minor": 2
}
